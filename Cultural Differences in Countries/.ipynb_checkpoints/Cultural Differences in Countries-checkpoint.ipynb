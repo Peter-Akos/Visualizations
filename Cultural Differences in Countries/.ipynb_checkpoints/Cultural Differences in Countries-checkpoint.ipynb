{
 "cells": [
  {
   "cell_type": "markdown",
   "id": "f47bd073",
   "metadata": {},
   "source": [
    "# Cultural Differences in countries based on The Hofstede model \n",
    "\n",
    "The six dimensions of national culture are based on extensive research done by Professor Geert Hofstede, Gert Jan Hofstede, Michael Minkov and their research teams. The cultural dimensions represent independent preferences for one state of affairs over another that distinguish countries (rather than individuals) from each other.\n",
    "\n",
    "More details about what these values represent:\n",
    "https://en.wikipedia.org/wiki/Hofstede%27s_cultural_dimensions_theory\n",
    "\n",
    "Source of the data:\n",
    "https://geerthofstede.com/research-and-vsm/dimension-data-matrix/"
   ]
  },
  {
   "cell_type": "code",
   "execution_count": 1,
   "id": "6656a869",
   "metadata": {},
   "outputs": [],
   "source": [
    "import pandas as pd\n",
    "from sklearn.manifold import TSNE\n",
    "import plotly.express as px\n",
    "import pycountry_convert as pc"
   ]
  },
  {
   "cell_type": "code",
   "execution_count": 2,
   "id": "9b82df8c",
   "metadata": {},
   "outputs": [
    {
     "data": {
      "text/html": [
       "<div>\n",
       "<style scoped>\n",
       "    .dataframe tbody tr th:only-of-type {\n",
       "        vertical-align: middle;\n",
       "    }\n",
       "\n",
       "    .dataframe tbody tr th {\n",
       "        vertical-align: top;\n",
       "    }\n",
       "\n",
       "    .dataframe thead th {\n",
       "        text-align: right;\n",
       "    }\n",
       "</style>\n",
       "<table border=\"1\" class=\"dataframe\">\n",
       "  <thead>\n",
       "    <tr style=\"text-align: right;\">\n",
       "      <th></th>\n",
       "      <th>ctr</th>\n",
       "      <th>country</th>\n",
       "      <th>pdi</th>\n",
       "      <th>idv</th>\n",
       "      <th>mas</th>\n",
       "      <th>uai</th>\n",
       "      <th>ltowvs</th>\n",
       "      <th>ivr</th>\n",
       "    </tr>\n",
       "  </thead>\n",
       "  <tbody>\n",
       "    <tr>\n",
       "      <th>0</th>\n",
       "      <td>AFE</td>\n",
       "      <td>Africa East</td>\n",
       "      <td>64</td>\n",
       "      <td>27</td>\n",
       "      <td>41</td>\n",
       "      <td>52</td>\n",
       "      <td>32</td>\n",
       "      <td>40</td>\n",
       "    </tr>\n",
       "    <tr>\n",
       "      <th>1</th>\n",
       "      <td>AFW</td>\n",
       "      <td>Africa West</td>\n",
       "      <td>77</td>\n",
       "      <td>20</td>\n",
       "      <td>46</td>\n",
       "      <td>54</td>\n",
       "      <td>9</td>\n",
       "      <td>78</td>\n",
       "    </tr>\n",
       "    <tr>\n",
       "      <th>2</th>\n",
       "      <td>ALB</td>\n",
       "      <td>Albania</td>\n",
       "      <td>#NULL!</td>\n",
       "      <td>#NULL!</td>\n",
       "      <td>#NULL!</td>\n",
       "      <td>#NULL!</td>\n",
       "      <td>61</td>\n",
       "      <td>15</td>\n",
       "    </tr>\n",
       "    <tr>\n",
       "      <th>3</th>\n",
       "      <td>ALG</td>\n",
       "      <td>Algeria</td>\n",
       "      <td>#NULL!</td>\n",
       "      <td>#NULL!</td>\n",
       "      <td>#NULL!</td>\n",
       "      <td>#NULL!</td>\n",
       "      <td>26</td>\n",
       "      <td>32</td>\n",
       "    </tr>\n",
       "    <tr>\n",
       "      <th>4</th>\n",
       "      <td>AND</td>\n",
       "      <td>Andorra</td>\n",
       "      <td>#NULL!</td>\n",
       "      <td>#NULL!</td>\n",
       "      <td>#NULL!</td>\n",
       "      <td>#NULL!</td>\n",
       "      <td>#NULL!</td>\n",
       "      <td>65</td>\n",
       "    </tr>\n",
       "    <tr>\n",
       "      <th>...</th>\n",
       "      <td>...</td>\n",
       "      <td>...</td>\n",
       "      <td>...</td>\n",
       "      <td>...</td>\n",
       "      <td>...</td>\n",
       "      <td>...</td>\n",
       "      <td>...</td>\n",
       "      <td>...</td>\n",
       "    </tr>\n",
       "    <tr>\n",
       "      <th>106</th>\n",
       "      <td>URU</td>\n",
       "      <td>Uruguay</td>\n",
       "      <td>61</td>\n",
       "      <td>36</td>\n",
       "      <td>38</td>\n",
       "      <td>100</td>\n",
       "      <td>26</td>\n",
       "      <td>53</td>\n",
       "    </tr>\n",
       "    <tr>\n",
       "      <th>107</th>\n",
       "      <td>VEN</td>\n",
       "      <td>Venezuela</td>\n",
       "      <td>81</td>\n",
       "      <td>12</td>\n",
       "      <td>73</td>\n",
       "      <td>76</td>\n",
       "      <td>16</td>\n",
       "      <td>100</td>\n",
       "    </tr>\n",
       "    <tr>\n",
       "      <th>108</th>\n",
       "      <td>VIE</td>\n",
       "      <td>Vietnam</td>\n",
       "      <td>70</td>\n",
       "      <td>20</td>\n",
       "      <td>40</td>\n",
       "      <td>30</td>\n",
       "      <td>57</td>\n",
       "      <td>35</td>\n",
       "    </tr>\n",
       "    <tr>\n",
       "      <th>109</th>\n",
       "      <td>ZAM</td>\n",
       "      <td>Zambia</td>\n",
       "      <td>#NULL!</td>\n",
       "      <td>#NULL!</td>\n",
       "      <td>#NULL!</td>\n",
       "      <td>#NULL!</td>\n",
       "      <td>30</td>\n",
       "      <td>42</td>\n",
       "    </tr>\n",
       "    <tr>\n",
       "      <th>110</th>\n",
       "      <td>ZIM</td>\n",
       "      <td>Zimbabwe</td>\n",
       "      <td>#NULL!</td>\n",
       "      <td>#NULL!</td>\n",
       "      <td>#NULL!</td>\n",
       "      <td>#NULL!</td>\n",
       "      <td>15</td>\n",
       "      <td>28</td>\n",
       "    </tr>\n",
       "  </tbody>\n",
       "</table>\n",
       "<p>111 rows × 8 columns</p>\n",
       "</div>"
      ],
      "text/plain": [
       "     ctr      country     pdi     idv     mas     uai  ltowvs  ivr\n",
       "0    AFE  Africa East      64      27      41      52      32   40\n",
       "1    AFW  Africa West      77      20      46      54       9   78\n",
       "2    ALB      Albania  #NULL!  #NULL!  #NULL!  #NULL!      61   15\n",
       "3    ALG      Algeria  #NULL!  #NULL!  #NULL!  #NULL!      26   32\n",
       "4    AND      Andorra  #NULL!  #NULL!  #NULL!  #NULL!  #NULL!   65\n",
       "..   ...          ...     ...     ...     ...     ...     ...  ...\n",
       "106  URU      Uruguay      61      36      38     100      26   53\n",
       "107  VEN    Venezuela      81      12      73      76      16  100\n",
       "108  VIE      Vietnam      70      20      40      30      57   35\n",
       "109  ZAM       Zambia  #NULL!  #NULL!  #NULL!  #NULL!      30   42\n",
       "110  ZIM     Zimbabwe  #NULL!  #NULL!  #NULL!  #NULL!      15   28\n",
       "\n",
       "[111 rows x 8 columns]"
      ]
     },
     "execution_count": 2,
     "metadata": {},
     "output_type": "execute_result"
    }
   ],
   "source": [
    "df = pd.read_csv('national_culture.csv', sep=';')\n",
    "df"
   ]
  },
  {
   "cell_type": "markdown",
   "id": "e029b053",
   "metadata": {},
   "source": [
    "#### Since the data contains a lot of NULL values we need to get rid of them"
   ]
  },
  {
   "cell_type": "code",
   "execution_count": 3,
   "id": "695ae910",
   "metadata": {},
   "outputs": [],
   "source": [
    "def convert(n):\n",
    "    if n=='#NULL!':\n",
    "        return None\n",
    "    return int(n)"
   ]
  },
  {
   "cell_type": "code",
   "execution_count": 4,
   "id": "19b99172",
   "metadata": {},
   "outputs": [],
   "source": [
    "df['pdi'] = df['pdi'].apply(convert)\n",
    "df['idv'] = df['idv'].apply(convert)\n",
    "df['mas'] = df['mas'].apply(convert)\n",
    "df['uai'] = df['uai'].apply(convert)\n",
    "df['ltowvs'] = df['ltowvs'].apply(convert)\n",
    "df['ivr'] = df['ivr'].apply(convert)\n",
    "df = df.dropna()"
   ]
  },
  {
   "cell_type": "markdown",
   "id": "438d28ab",
   "metadata": {},
   "source": [
    "#### After we are done with the null values, we add the Continent for the color. To do that we'll use the pycountry package. Since our data groups together some countries, that the package will not recognize, we need to add some if statements."
   ]
  },
  {
   "cell_type": "code",
   "execution_count": 5,
   "id": "44dc5401",
   "metadata": {},
   "outputs": [],
   "source": [
    "def country_to_continent(country_name):\n",
    "    if country_name == 'Africa East' or country_name == 'Africa West' or country_name == 'Arab countries':\n",
    "        return 'Africa'\n",
    "    \n",
    "    country_alpha2 = pc.country_name_to_country_alpha2(country_name)\n",
    "    country_continent_code = pc.country_alpha2_to_continent_code(country_alpha2)\n",
    "    country_continent_name = pc.convert_continent_code_to_continent_name(country_continent_code)\n",
    "    return country_continent_name\n",
    "df = df.replace(['Korea South'], 'South Korea')\n",
    "df = df.replace(['Czech Rep'], 'Czech Republic')\n",
    "df = df.replace(['Slovak Rep'], 'Slovak Republic')\n",
    "df = df.replace(['U.S.A.'], 'USA')\n",
    "df['Continent'] = df['country'].apply(country_to_continent)"
   ]
  },
  {
   "cell_type": "code",
   "execution_count": 6,
   "id": "0d14305f",
   "metadata": {
    "scrolled": true
   },
   "outputs": [
    {
     "data": {
      "text/html": [
       "<div>\n",
       "<style scoped>\n",
       "    .dataframe tbody tr th:only-of-type {\n",
       "        vertical-align: middle;\n",
       "    }\n",
       "\n",
       "    .dataframe tbody tr th {\n",
       "        vertical-align: top;\n",
       "    }\n",
       "\n",
       "    .dataframe thead th {\n",
       "        text-align: right;\n",
       "    }\n",
       "</style>\n",
       "<table border=\"1\" class=\"dataframe\">\n",
       "  <thead>\n",
       "    <tr style=\"text-align: right;\">\n",
       "      <th></th>\n",
       "      <th>pdi</th>\n",
       "      <th>idv</th>\n",
       "      <th>mas</th>\n",
       "      <th>uai</th>\n",
       "      <th>ltowvs</th>\n",
       "      <th>ivr</th>\n",
       "    </tr>\n",
       "  </thead>\n",
       "  <tbody>\n",
       "    <tr>\n",
       "      <th>count</th>\n",
       "      <td>65.000000</td>\n",
       "      <td>65.000000</td>\n",
       "      <td>65.00000</td>\n",
       "      <td>65.000000</td>\n",
       "      <td>65.000000</td>\n",
       "      <td>65.000000</td>\n",
       "    </tr>\n",
       "    <tr>\n",
       "      <th>mean</th>\n",
       "      <td>59.307692</td>\n",
       "      <td>44.953846</td>\n",
       "      <td>49.00000</td>\n",
       "      <td>66.538462</td>\n",
       "      <td>48.446154</td>\n",
       "      <td>47.646154</td>\n",
       "    </tr>\n",
       "    <tr>\n",
       "      <th>std</th>\n",
       "      <td>20.450339</td>\n",
       "      <td>23.466353</td>\n",
       "      <td>19.83841</td>\n",
       "      <td>22.718438</td>\n",
       "      <td>23.206297</td>\n",
       "      <td>22.251005</td>\n",
       "    </tr>\n",
       "    <tr>\n",
       "      <th>min</th>\n",
       "      <td>11.000000</td>\n",
       "      <td>12.000000</td>\n",
       "      <td>5.00000</td>\n",
       "      <td>8.000000</td>\n",
       "      <td>9.000000</td>\n",
       "      <td>0.000000</td>\n",
       "    </tr>\n",
       "    <tr>\n",
       "      <th>25%</th>\n",
       "      <td>42.000000</td>\n",
       "      <td>25.000000</td>\n",
       "      <td>40.00000</td>\n",
       "      <td>51.000000</td>\n",
       "      <td>28.000000</td>\n",
       "      <td>29.000000</td>\n",
       "    </tr>\n",
       "    <tr>\n",
       "      <th>50%</th>\n",
       "      <td>63.000000</td>\n",
       "      <td>39.000000</td>\n",
       "      <td>49.00000</td>\n",
       "      <td>68.000000</td>\n",
       "      <td>48.000000</td>\n",
       "      <td>46.000000</td>\n",
       "    </tr>\n",
       "    <tr>\n",
       "      <th>75%</th>\n",
       "      <td>71.000000</td>\n",
       "      <td>67.000000</td>\n",
       "      <td>61.00000</td>\n",
       "      <td>86.000000</td>\n",
       "      <td>64.000000</td>\n",
       "      <td>66.000000</td>\n",
       "    </tr>\n",
       "    <tr>\n",
       "      <th>max</th>\n",
       "      <td>104.000000</td>\n",
       "      <td>91.000000</td>\n",
       "      <td>110.00000</td>\n",
       "      <td>112.000000</td>\n",
       "      <td>100.000000</td>\n",
       "      <td>100.000000</td>\n",
       "    </tr>\n",
       "  </tbody>\n",
       "</table>\n",
       "</div>"
      ],
      "text/plain": [
       "              pdi        idv        mas         uai      ltowvs         ivr\n",
       "count   65.000000  65.000000   65.00000   65.000000   65.000000   65.000000\n",
       "mean    59.307692  44.953846   49.00000   66.538462   48.446154   47.646154\n",
       "std     20.450339  23.466353   19.83841   22.718438   23.206297   22.251005\n",
       "min     11.000000  12.000000    5.00000    8.000000    9.000000    0.000000\n",
       "25%     42.000000  25.000000   40.00000   51.000000   28.000000   29.000000\n",
       "50%     63.000000  39.000000   49.00000   68.000000   48.000000   46.000000\n",
       "75%     71.000000  67.000000   61.00000   86.000000   64.000000   66.000000\n",
       "max    104.000000  91.000000  110.00000  112.000000  100.000000  100.000000"
      ]
     },
     "execution_count": 6,
     "metadata": {},
     "output_type": "execute_result"
    }
   ],
   "source": [
    "df.describe()"
   ]
  },
  {
   "cell_type": "markdown",
   "id": "de276b94",
   "metadata": {},
   "source": [
    "#### Let's initialize the T-distributed Stochastic Neighbor Embedding"
   ]
  },
  {
   "cell_type": "code",
   "execution_count": 13,
   "id": "a9fa2881",
   "metadata": {},
   "outputs": [],
   "source": [
    "model = TSNE(n_components=2, learning_rate='auto', init='random', perplexity=3)"
   ]
  },
  {
   "cell_type": "code",
   "execution_count": 14,
   "id": "5e4b03b6",
   "metadata": {},
   "outputs": [],
   "source": [
    "x = df[['pdi', 'idv', 'mas', 'uai', 'ltowvs', 'ivr']].to_numpy()\n",
    "y = df['country'].to_list()\n",
    "df_dict = df.to_dict()"
   ]
  },
  {
   "cell_type": "code",
   "execution_count": 15,
   "id": "17f220ca",
   "metadata": {},
   "outputs": [],
   "source": [
    "x_embedded = model.fit_transform(x)"
   ]
  },
  {
   "cell_type": "markdown",
   "id": "1c7e9d55",
   "metadata": {},
   "source": [
    "#### Now that we have the coordinates, we just have to add the culture indexes to the plot"
   ]
  },
  {
   "cell_type": "code",
   "execution_count": 16,
   "id": "4e84bcc1",
   "metadata": {},
   "outputs": [],
   "source": [
    "df_to_plot = pd.DataFrame(x_embedded, columns=['x','y'])\n",
    "df_to_plot['Country'] = df_dict['country'].values()\n",
    "df_to_plot['Continent'] = df_dict['Continent'].values()\n",
    "df_to_plot['Power distance'] = df_dict['pdi'].values()\n",
    "df_to_plot['Individualism'] = df_dict['idv'].values()\n",
    "df_to_plot['Uncertainty avoidance'] = df_dict['uai'].values()\n",
    "df_to_plot['Masculinity'] = df_dict['mas'].values()\n",
    "df_to_plot['Long-term orientation'] = df_dict['ltowvs'].values()\n",
    "df_to_plot['Indulgence'] = df_dict['ivr'].values()\n"
   ]
  },
  {
   "cell_type": "code",
   "execution_count": 17,
   "id": "85a8a21f",
   "metadata": {},
   "outputs": [
    {
     "data": {
      "application/vnd.plotly.v1+json": {
       "config": {
        "plotlyServerURL": "https://plot.ly"
       },
       "data": [
        {
         "customdata": [
          [
           "Africa East",
           64,
           27,
           52,
           41,
           32,
           40
          ],
          [
           "Africa West",
           77,
           20,
           54,
           46,
           9,
           78
          ],
          [
           "Arab countries",
           80,
           38,
           68,
           53,
           23,
           34
          ],
          [
           "Morocco",
           70,
           46,
           68,
           53,
           14,
           25
          ]
         ],
         "hovertemplate": "Continent=Africa<br>x=%{x}<br>y=%{y}<br>Country=%{customdata[0]}<br>Power distance=%{customdata[1]}<br>Individualism=%{customdata[2]}<br>Uncertainty avoidance=%{customdata[3]}<br>Masculinity=%{customdata[4]}<br>Long-term orientation=%{customdata[5]}<br>Indulgence=%{customdata[6]}<extra></extra>",
         "legendgroup": "Africa",
         "marker": {
          "color": "#636efa",
          "symbol": "circle"
         },
         "mode": "markers",
         "name": "Africa",
         "orientation": "v",
         "showlegend": true,
         "type": "scatter",
         "x": [
          -18.288658142089844,
          -23.02690887451172,
          -18.24427032470703,
          -18.688400268554688
         ],
         "xaxis": "x",
         "y": [
          -1.4363123178482056,
          22.002906799316406,
          -7.841552257537842,
          -6.548094272613525
         ],
         "yaxis": "y"
        },
        {
         "customdata": [
          [
           "Argentina",
           49,
           46,
           86,
           56,
           20,
           62
          ],
          [
           "Brazil",
           69,
           38,
           76,
           49,
           44,
           59
          ],
          [
           "Chile",
           63,
           23,
           86,
           28,
           31,
           68
          ],
          [
           "Colombia",
           67,
           13,
           80,
           64,
           13,
           83
          ],
          [
           "Peru",
           64,
           16,
           87,
           42,
           25,
           46
          ],
          [
           "Uruguay",
           61,
           36,
           100,
           38,
           26,
           53
          ],
          [
           "Venezuela",
           81,
           12,
           76,
           73,
           16,
           100
          ]
         ],
         "hovertemplate": "Continent=South America<br>x=%{x}<br>y=%{y}<br>Country=%{customdata[0]}<br>Power distance=%{customdata[1]}<br>Individualism=%{customdata[2]}<br>Uncertainty avoidance=%{customdata[3]}<br>Masculinity=%{customdata[4]}<br>Long-term orientation=%{customdata[5]}<br>Indulgence=%{customdata[6]}<extra></extra>",
         "legendgroup": "South America",
         "marker": {
          "color": "#EF553B",
          "symbol": "circle"
         },
         "mode": "markers",
         "name": "South America",
         "orientation": "v",
         "showlegend": true,
         "type": "scatter",
         "x": [
          -18.520153045654297,
          -5.1315836906433105,
          -16.319698333740234,
          -19.73612403869629,
          -16.208459854125977,
          -15.816681861877441,
          -18.403623580932617
         ],
         "xaxis": "x",
         "y": [
          9.05834674835205,
          6.925978660583496,
          12.704339027404785,
          20.551589965820312,
          6.047463417053223,
          8.728106498718262,
          21.53770637512207
         ],
         "yaxis": "y"
        },
        {
         "customdata": [
          [
           "Australia",
           38,
           90,
           51,
           61,
           21,
           71
          ],
          [
           "New Zealand",
           22,
           79,
           49,
           58,
           33,
           75
          ]
         ],
         "hovertemplate": "Continent=Oceania<br>x=%{x}<br>y=%{y}<br>Country=%{customdata[0]}<br>Power distance=%{customdata[1]}<br>Individualism=%{customdata[2]}<br>Uncertainty avoidance=%{customdata[3]}<br>Masculinity=%{customdata[4]}<br>Long-term orientation=%{customdata[5]}<br>Indulgence=%{customdata[6]}<extra></extra>",
         "legendgroup": "Oceania",
         "marker": {
          "color": "#00cc96",
          "symbol": "circle"
         },
         "mode": "markers",
         "name": "Oceania",
         "orientation": "v",
         "showlegend": true,
         "type": "scatter",
         "x": [
          45.38166046142578,
          42.708553314208984
         ],
         "xaxis": "x",
         "y": [
          26.585147857666016,
          24.25360870361328
         ],
         "yaxis": "y"
        },
        {
         "customdata": [
          [
           "Austria",
           11,
           55,
           70,
           79,
           60,
           63
          ],
          [
           "Belgium",
           65,
           75,
           94,
           54,
           82,
           57
          ],
          [
           "Bulgaria",
           70,
           30,
           85,
           40,
           69,
           16
          ],
          [
           "Croatia",
           73,
           33,
           80,
           40,
           58,
           33
          ],
          [
           "Czech Republic",
           57,
           58,
           74,
           57,
           70,
           29
          ],
          [
           "Denmark",
           18,
           74,
           23,
           16,
           35,
           70
          ],
          [
           "Estonia",
           40,
           60,
           60,
           30,
           82,
           16
          ],
          [
           "Finland",
           33,
           63,
           59,
           26,
           38,
           57
          ],
          [
           "France",
           68,
           71,
           86,
           43,
           63,
           48
          ],
          [
           "Germany",
           35,
           67,
           65,
           66,
           83,
           40
          ],
          [
           "Great Britain",
           35,
           89,
           35,
           66,
           51,
           69
          ],
          [
           "Greece",
           60,
           35,
           112,
           57,
           45,
           50
          ],
          [
           "Hungary",
           46,
           80,
           82,
           88,
           58,
           31
          ],
          [
           "Ireland",
           28,
           70,
           35,
           68,
           24,
           65
          ],
          [
           "Italy",
           50,
           76,
           75,
           70,
           61,
           30
          ],
          [
           "Latvia",
           44,
           70,
           63,
           9,
           69,
           13
          ],
          [
           "Lithuania",
           42,
           60,
           65,
           19,
           82,
           16
          ],
          [
           "Luxembourg",
           40,
           60,
           70,
           50,
           64,
           56
          ],
          [
           "Malta",
           56,
           59,
           96,
           47,
           47,
           66
          ],
          [
           "Netherlands",
           38,
           80,
           53,
           14,
           67,
           68
          ],
          [
           "Norway",
           31,
           69,
           50,
           8,
           35,
           55
          ],
          [
           "Poland",
           68,
           60,
           93,
           64,
           38,
           29
          ],
          [
           "Portugal",
           63,
           27,
           104,
           31,
           28,
           33
          ],
          [
           "Romania",
           90,
           30,
           90,
           42,
           52,
           20
          ],
          [
           "Russia",
           93,
           39,
           95,
           36,
           81,
           20
          ],
          [
           "Serbia",
           86,
           25,
           92,
           43,
           52,
           28
          ],
          [
           "Slovak Republic",
           104,
           52,
           51,
           110,
           77,
           28
          ],
          [
           "Slovenia",
           71,
           27,
           88,
           19,
           49,
           48
          ],
          [
           "Spain",
           57,
           51,
           86,
           42,
           48,
           44
          ],
          [
           "Sweden",
           31,
           71,
           29,
           5,
           53,
           78
          ],
          [
           "Switzerland",
           34,
           68,
           58,
           70,
           74,
           66
          ]
         ],
         "hovertemplate": "Continent=Europe<br>x=%{x}<br>y=%{y}<br>Country=%{customdata[0]}<br>Power distance=%{customdata[1]}<br>Individualism=%{customdata[2]}<br>Uncertainty avoidance=%{customdata[3]}<br>Masculinity=%{customdata[4]}<br>Long-term orientation=%{customdata[5]}<br>Indulgence=%{customdata[6]}<extra></extra>",
         "legendgroup": "Europe",
         "marker": {
          "color": "#ab63fa",
          "symbol": "circle"
         },
         "mode": "markers",
         "name": "Europe",
         "orientation": "v",
         "showlegend": true,
         "type": "scatter",
         "x": [
          23.076187133789062,
          6.627879619598389,
          -16.262332916259766,
          -17.83273696899414,
          15.873089790344238,
          22.757152557373047,
          27.201160430908203,
          24.155942916870117,
          5.322145462036133,
          21.43568229675293,
          40.770545959472656,
          -9.91613483428955,
          16.60479736328125,
          43.67934036254883,
          15.883352279663086,
          27.950010299682617,
          28.498172760009766,
          24.06220054626465,
          -0.2998720109462738,
          20.449871063232422,
          23.713022232055664,
          -0.44114723801612854,
          -14.574502944946289,
          -18.571510314941406,
          -15.308356285095215,
          -19.124876022338867,
          2.7366673946380615,
          -6.469214916229248,
          -1.7055706977844238,
          21.493085861206055,
          22.698257446289062
         ],
         "xaxis": "x",
         "y": [
          6.550602912902832,
          4.23795223236084,
          -31.765954971313477,
          -31.246580123901367,
          1.4192360639572144,
          37.91164779663086,
          -27.25089454650879,
          33.22430419921875,
          4.484026908874512,
          3.0235657691955566,
          27.92538833618164,
          8.815067291259766,
          -1.5919387340545654,
          22.421710968017578,
          -0.33967939019203186,
          -29.361167907714844,
          -27.80221939086914,
          3.450167179107666,
          4.654495716094971,
          35.36090087890625,
          34.43949508666992,
          8.523371696472168,
          7.987496852874756,
          -34.631290435791016,
          -34.222434997558594,
          -33.42704391479492,
          -24.383005142211914,
          2.6717984676361084,
          6.339608192443848,
          37.08091354370117,
          4.340000152587891
         ],
         "yaxis": "y"
        },
        {
         "customdata": [
          [
           "Bangladesh",
           80,
           20,
           60,
           55,
           47,
           20
          ],
          [
           "China",
           80,
           20,
           30,
           66,
           87,
           24
          ],
          [
           "Hong Kong",
           68,
           25,
           29,
           57,
           61,
           17
          ],
          [
           "India",
           77,
           48,
           40,
           56,
           51,
           26
          ],
          [
           "Indonesia",
           78,
           14,
           48,
           46,
           62,
           38
          ],
          [
           "Iran",
           58,
           41,
           59,
           43,
           14,
           40
          ],
          [
           "Japan",
           54,
           46,
           92,
           95,
           88,
           42
          ],
          [
           "South Korea",
           60,
           18,
           85,
           39,
           100,
           29
          ],
          [
           "Malaysia",
           104,
           26,
           36,
           50,
           41,
           57
          ],
          [
           "Pakistan",
           55,
           14,
           70,
           50,
           50,
           0
          ],
          [
           "Philippines",
           94,
           32,
           44,
           64,
           27,
           42
          ],
          [
           "Singapore",
           74,
           20,
           8,
           48,
           72,
           46
          ],
          [
           "Taiwan",
           58,
           17,
           69,
           45,
           93,
           49
          ],
          [
           "Thailand",
           64,
           20,
           64,
           34,
           32,
           45
          ],
          [
           "Turkey",
           66,
           37,
           85,
           45,
           46,
           49
          ],
          [
           "Vietnam",
           70,
           20,
           30,
           40,
           57,
           35
          ]
         ],
         "hovertemplate": "Continent=Asia<br>x=%{x}<br>y=%{y}<br>Country=%{customdata[0]}<br>Power distance=%{customdata[1]}<br>Individualism=%{customdata[2]}<br>Uncertainty avoidance=%{customdata[3]}<br>Masculinity=%{customdata[4]}<br>Long-term orientation=%{customdata[5]}<br>Indulgence=%{customdata[6]}<extra></extra>",
         "legendgroup": "Asia",
         "marker": {
          "color": "#FFA15A",
          "symbol": "circle"
         },
         "mode": "markers",
         "name": "Asia",
         "orientation": "v",
         "showlegend": true,
         "type": "scatter",
         "x": [
          -7.803318500518799,
          0.22161434590816498,
          -1.8016023635864258,
          -1.0973942279815674,
          -5.775519847869873,
          -18.842247009277344,
          19.7064266204834,
          -22.992877960205078,
          -15.043508529663086,
          -10.206419944763184,
          -15.714326858520508,
          -3.3076729774475098,
          -23.69638442993164,
          -18.004770278930664,
          -4.071350574493408,
          -4.104024887084961
         ],
         "xaxis": "x",
         "y": [
          -26.729373931884766,
          -24.334684371948242,
          -25.842744827270508,
          -27.772993087768555,
          -25.678142547607422,
          -4.415443420410156,
          -1.1296038627624512,
          -26.918819427490234,
          -13.991683959960938,
          -28.031219482421875,
          -12.868629455566406,
          -22.76006507873535,
          -25.89695930480957,
          -0.10259497165679932,
          6.083652019500732,
          -25.04123878479004
         ],
         "yaxis": "y"
        },
        {
         "customdata": [
          [
           "Canada",
           39,
           80,
           48,
           52,
           36,
           68
          ],
          [
           "El Salvador",
           66,
           19,
           94,
           40,
           20,
           89
          ],
          [
           "Mexico",
           81,
           30,
           82,
           69,
           24,
           97
          ],
          [
           "Trinidad and Tobago",
           47,
           16,
           55,
           58,
           13,
           80
          ],
          [
           "USA",
           40,
           91,
           46,
           62,
           26,
           68
          ]
         ],
         "hovertemplate": "Continent=North America<br>x=%{x}<br>y=%{y}<br>Country=%{customdata[0]}<br>Power distance=%{customdata[1]}<br>Individualism=%{customdata[2]}<br>Uncertainty avoidance=%{customdata[3]}<br>Masculinity=%{customdata[4]}<br>Long-term orientation=%{customdata[5]}<br>Indulgence=%{customdata[6]}<extra></extra>",
         "legendgroup": "North America",
         "marker": {
          "color": "#19d3f3",
          "symbol": "circle"
         },
         "mode": "markers",
         "name": "North America",
         "orientation": "v",
         "showlegend": true,
         "type": "scatter",
         "x": [
          42.44517517089844,
          -17.238014221191406,
          -16.933788299560547,
          -22.771728515625,
          44.14382553100586
         ],
         "xaxis": "x",
         "y": [
          26.106996536254883,
          15.451191902160645,
          21.473711013793945,
          20.460552215576172,
          27.1883487701416
         ],
         "yaxis": "y"
        }
       ],
       "layout": {
        "legend": {
         "title": {
          "text": "Continent"
         },
         "tracegroupgap": 0
        },
        "margin": {
         "t": 60
        },
        "template": {
         "data": {
          "bar": [
           {
            "error_x": {
             "color": "#2a3f5f"
            },
            "error_y": {
             "color": "#2a3f5f"
            },
            "marker": {
             "line": {
              "color": "#E5ECF6",
              "width": 0.5
             },
             "pattern": {
              "fillmode": "overlay",
              "size": 10,
              "solidity": 0.2
             }
            },
            "type": "bar"
           }
          ],
          "barpolar": [
           {
            "marker": {
             "line": {
              "color": "#E5ECF6",
              "width": 0.5
             },
             "pattern": {
              "fillmode": "overlay",
              "size": 10,
              "solidity": 0.2
             }
            },
            "type": "barpolar"
           }
          ],
          "carpet": [
           {
            "aaxis": {
             "endlinecolor": "#2a3f5f",
             "gridcolor": "white",
             "linecolor": "white",
             "minorgridcolor": "white",
             "startlinecolor": "#2a3f5f"
            },
            "baxis": {
             "endlinecolor": "#2a3f5f",
             "gridcolor": "white",
             "linecolor": "white",
             "minorgridcolor": "white",
             "startlinecolor": "#2a3f5f"
            },
            "type": "carpet"
           }
          ],
          "choropleth": [
           {
            "colorbar": {
             "outlinewidth": 0,
             "ticks": ""
            },
            "type": "choropleth"
           }
          ],
          "contour": [
           {
            "colorbar": {
             "outlinewidth": 0,
             "ticks": ""
            },
            "colorscale": [
             [
              0,
              "#0d0887"
             ],
             [
              0.1111111111111111,
              "#46039f"
             ],
             [
              0.2222222222222222,
              "#7201a8"
             ],
             [
              0.3333333333333333,
              "#9c179e"
             ],
             [
              0.4444444444444444,
              "#bd3786"
             ],
             [
              0.5555555555555556,
              "#d8576b"
             ],
             [
              0.6666666666666666,
              "#ed7953"
             ],
             [
              0.7777777777777778,
              "#fb9f3a"
             ],
             [
              0.8888888888888888,
              "#fdca26"
             ],
             [
              1,
              "#f0f921"
             ]
            ],
            "type": "contour"
           }
          ],
          "contourcarpet": [
           {
            "colorbar": {
             "outlinewidth": 0,
             "ticks": ""
            },
            "type": "contourcarpet"
           }
          ],
          "heatmap": [
           {
            "colorbar": {
             "outlinewidth": 0,
             "ticks": ""
            },
            "colorscale": [
             [
              0,
              "#0d0887"
             ],
             [
              0.1111111111111111,
              "#46039f"
             ],
             [
              0.2222222222222222,
              "#7201a8"
             ],
             [
              0.3333333333333333,
              "#9c179e"
             ],
             [
              0.4444444444444444,
              "#bd3786"
             ],
             [
              0.5555555555555556,
              "#d8576b"
             ],
             [
              0.6666666666666666,
              "#ed7953"
             ],
             [
              0.7777777777777778,
              "#fb9f3a"
             ],
             [
              0.8888888888888888,
              "#fdca26"
             ],
             [
              1,
              "#f0f921"
             ]
            ],
            "type": "heatmap"
           }
          ],
          "heatmapgl": [
           {
            "colorbar": {
             "outlinewidth": 0,
             "ticks": ""
            },
            "colorscale": [
             [
              0,
              "#0d0887"
             ],
             [
              0.1111111111111111,
              "#46039f"
             ],
             [
              0.2222222222222222,
              "#7201a8"
             ],
             [
              0.3333333333333333,
              "#9c179e"
             ],
             [
              0.4444444444444444,
              "#bd3786"
             ],
             [
              0.5555555555555556,
              "#d8576b"
             ],
             [
              0.6666666666666666,
              "#ed7953"
             ],
             [
              0.7777777777777778,
              "#fb9f3a"
             ],
             [
              0.8888888888888888,
              "#fdca26"
             ],
             [
              1,
              "#f0f921"
             ]
            ],
            "type": "heatmapgl"
           }
          ],
          "histogram": [
           {
            "marker": {
             "pattern": {
              "fillmode": "overlay",
              "size": 10,
              "solidity": 0.2
             }
            },
            "type": "histogram"
           }
          ],
          "histogram2d": [
           {
            "colorbar": {
             "outlinewidth": 0,
             "ticks": ""
            },
            "colorscale": [
             [
              0,
              "#0d0887"
             ],
             [
              0.1111111111111111,
              "#46039f"
             ],
             [
              0.2222222222222222,
              "#7201a8"
             ],
             [
              0.3333333333333333,
              "#9c179e"
             ],
             [
              0.4444444444444444,
              "#bd3786"
             ],
             [
              0.5555555555555556,
              "#d8576b"
             ],
             [
              0.6666666666666666,
              "#ed7953"
             ],
             [
              0.7777777777777778,
              "#fb9f3a"
             ],
             [
              0.8888888888888888,
              "#fdca26"
             ],
             [
              1,
              "#f0f921"
             ]
            ],
            "type": "histogram2d"
           }
          ],
          "histogram2dcontour": [
           {
            "colorbar": {
             "outlinewidth": 0,
             "ticks": ""
            },
            "colorscale": [
             [
              0,
              "#0d0887"
             ],
             [
              0.1111111111111111,
              "#46039f"
             ],
             [
              0.2222222222222222,
              "#7201a8"
             ],
             [
              0.3333333333333333,
              "#9c179e"
             ],
             [
              0.4444444444444444,
              "#bd3786"
             ],
             [
              0.5555555555555556,
              "#d8576b"
             ],
             [
              0.6666666666666666,
              "#ed7953"
             ],
             [
              0.7777777777777778,
              "#fb9f3a"
             ],
             [
              0.8888888888888888,
              "#fdca26"
             ],
             [
              1,
              "#f0f921"
             ]
            ],
            "type": "histogram2dcontour"
           }
          ],
          "mesh3d": [
           {
            "colorbar": {
             "outlinewidth": 0,
             "ticks": ""
            },
            "type": "mesh3d"
           }
          ],
          "parcoords": [
           {
            "line": {
             "colorbar": {
              "outlinewidth": 0,
              "ticks": ""
             }
            },
            "type": "parcoords"
           }
          ],
          "pie": [
           {
            "automargin": true,
            "type": "pie"
           }
          ],
          "scatter": [
           {
            "fillpattern": {
             "fillmode": "overlay",
             "size": 10,
             "solidity": 0.2
            },
            "type": "scatter"
           }
          ],
          "scatter3d": [
           {
            "line": {
             "colorbar": {
              "outlinewidth": 0,
              "ticks": ""
             }
            },
            "marker": {
             "colorbar": {
              "outlinewidth": 0,
              "ticks": ""
             }
            },
            "type": "scatter3d"
           }
          ],
          "scattercarpet": [
           {
            "marker": {
             "colorbar": {
              "outlinewidth": 0,
              "ticks": ""
             }
            },
            "type": "scattercarpet"
           }
          ],
          "scattergeo": [
           {
            "marker": {
             "colorbar": {
              "outlinewidth": 0,
              "ticks": ""
             }
            },
            "type": "scattergeo"
           }
          ],
          "scattergl": [
           {
            "marker": {
             "colorbar": {
              "outlinewidth": 0,
              "ticks": ""
             }
            },
            "type": "scattergl"
           }
          ],
          "scattermapbox": [
           {
            "marker": {
             "colorbar": {
              "outlinewidth": 0,
              "ticks": ""
             }
            },
            "type": "scattermapbox"
           }
          ],
          "scatterpolar": [
           {
            "marker": {
             "colorbar": {
              "outlinewidth": 0,
              "ticks": ""
             }
            },
            "type": "scatterpolar"
           }
          ],
          "scatterpolargl": [
           {
            "marker": {
             "colorbar": {
              "outlinewidth": 0,
              "ticks": ""
             }
            },
            "type": "scatterpolargl"
           }
          ],
          "scatterternary": [
           {
            "marker": {
             "colorbar": {
              "outlinewidth": 0,
              "ticks": ""
             }
            },
            "type": "scatterternary"
           }
          ],
          "surface": [
           {
            "colorbar": {
             "outlinewidth": 0,
             "ticks": ""
            },
            "colorscale": [
             [
              0,
              "#0d0887"
             ],
             [
              0.1111111111111111,
              "#46039f"
             ],
             [
              0.2222222222222222,
              "#7201a8"
             ],
             [
              0.3333333333333333,
              "#9c179e"
             ],
             [
              0.4444444444444444,
              "#bd3786"
             ],
             [
              0.5555555555555556,
              "#d8576b"
             ],
             [
              0.6666666666666666,
              "#ed7953"
             ],
             [
              0.7777777777777778,
              "#fb9f3a"
             ],
             [
              0.8888888888888888,
              "#fdca26"
             ],
             [
              1,
              "#f0f921"
             ]
            ],
            "type": "surface"
           }
          ],
          "table": [
           {
            "cells": {
             "fill": {
              "color": "#EBF0F8"
             },
             "line": {
              "color": "white"
             }
            },
            "header": {
             "fill": {
              "color": "#C8D4E3"
             },
             "line": {
              "color": "white"
             }
            },
            "type": "table"
           }
          ]
         },
         "layout": {
          "annotationdefaults": {
           "arrowcolor": "#2a3f5f",
           "arrowhead": 0,
           "arrowwidth": 1
          },
          "autotypenumbers": "strict",
          "coloraxis": {
           "colorbar": {
            "outlinewidth": 0,
            "ticks": ""
           }
          },
          "colorscale": {
           "diverging": [
            [
             0,
             "#8e0152"
            ],
            [
             0.1,
             "#c51b7d"
            ],
            [
             0.2,
             "#de77ae"
            ],
            [
             0.3,
             "#f1b6da"
            ],
            [
             0.4,
             "#fde0ef"
            ],
            [
             0.5,
             "#f7f7f7"
            ],
            [
             0.6,
             "#e6f5d0"
            ],
            [
             0.7,
             "#b8e186"
            ],
            [
             0.8,
             "#7fbc41"
            ],
            [
             0.9,
             "#4d9221"
            ],
            [
             1,
             "#276419"
            ]
           ],
           "sequential": [
            [
             0,
             "#0d0887"
            ],
            [
             0.1111111111111111,
             "#46039f"
            ],
            [
             0.2222222222222222,
             "#7201a8"
            ],
            [
             0.3333333333333333,
             "#9c179e"
            ],
            [
             0.4444444444444444,
             "#bd3786"
            ],
            [
             0.5555555555555556,
             "#d8576b"
            ],
            [
             0.6666666666666666,
             "#ed7953"
            ],
            [
             0.7777777777777778,
             "#fb9f3a"
            ],
            [
             0.8888888888888888,
             "#fdca26"
            ],
            [
             1,
             "#f0f921"
            ]
           ],
           "sequentialminus": [
            [
             0,
             "#0d0887"
            ],
            [
             0.1111111111111111,
             "#46039f"
            ],
            [
             0.2222222222222222,
             "#7201a8"
            ],
            [
             0.3333333333333333,
             "#9c179e"
            ],
            [
             0.4444444444444444,
             "#bd3786"
            ],
            [
             0.5555555555555556,
             "#d8576b"
            ],
            [
             0.6666666666666666,
             "#ed7953"
            ],
            [
             0.7777777777777778,
             "#fb9f3a"
            ],
            [
             0.8888888888888888,
             "#fdca26"
            ],
            [
             1,
             "#f0f921"
            ]
           ]
          },
          "colorway": [
           "#636efa",
           "#EF553B",
           "#00cc96",
           "#ab63fa",
           "#FFA15A",
           "#19d3f3",
           "#FF6692",
           "#B6E880",
           "#FF97FF",
           "#FECB52"
          ],
          "font": {
           "color": "#2a3f5f"
          },
          "geo": {
           "bgcolor": "white",
           "lakecolor": "white",
           "landcolor": "#E5ECF6",
           "showlakes": true,
           "showland": true,
           "subunitcolor": "white"
          },
          "hoverlabel": {
           "align": "left"
          },
          "hovermode": "closest",
          "mapbox": {
           "style": "light"
          },
          "paper_bgcolor": "white",
          "plot_bgcolor": "#E5ECF6",
          "polar": {
           "angularaxis": {
            "gridcolor": "white",
            "linecolor": "white",
            "ticks": ""
           },
           "bgcolor": "#E5ECF6",
           "radialaxis": {
            "gridcolor": "white",
            "linecolor": "white",
            "ticks": ""
           }
          },
          "scene": {
           "xaxis": {
            "backgroundcolor": "#E5ECF6",
            "gridcolor": "white",
            "gridwidth": 2,
            "linecolor": "white",
            "showbackground": true,
            "ticks": "",
            "zerolinecolor": "white"
           },
           "yaxis": {
            "backgroundcolor": "#E5ECF6",
            "gridcolor": "white",
            "gridwidth": 2,
            "linecolor": "white",
            "showbackground": true,
            "ticks": "",
            "zerolinecolor": "white"
           },
           "zaxis": {
            "backgroundcolor": "#E5ECF6",
            "gridcolor": "white",
            "gridwidth": 2,
            "linecolor": "white",
            "showbackground": true,
            "ticks": "",
            "zerolinecolor": "white"
           }
          },
          "shapedefaults": {
           "line": {
            "color": "#2a3f5f"
           }
          },
          "ternary": {
           "aaxis": {
            "gridcolor": "white",
            "linecolor": "white",
            "ticks": ""
           },
           "baxis": {
            "gridcolor": "white",
            "linecolor": "white",
            "ticks": ""
           },
           "bgcolor": "#E5ECF6",
           "caxis": {
            "gridcolor": "white",
            "linecolor": "white",
            "ticks": ""
           }
          },
          "title": {
           "x": 0.05
          },
          "xaxis": {
           "automargin": true,
           "gridcolor": "white",
           "linecolor": "white",
           "ticks": "",
           "title": {
            "standoff": 15
           },
           "zerolinecolor": "white",
           "zerolinewidth": 2
          },
          "yaxis": {
           "automargin": true,
           "gridcolor": "white",
           "linecolor": "white",
           "ticks": "",
           "title": {
            "standoff": 15
           },
           "zerolinecolor": "white",
           "zerolinewidth": 2
          }
         }
        },
        "xaxis": {
         "anchor": "y",
         "domain": [
          0,
          1
         ],
         "title": {
          "text": "x"
         }
        },
        "yaxis": {
         "anchor": "x",
         "domain": [
          0,
          1
         ],
         "title": {
          "text": "y"
         }
        }
       }
      },
      "text/html": [
       "<div>                            <div id=\"5e865371-21f7-4f7d-93b1-f554c75a0ffd\" class=\"plotly-graph-div\" style=\"height:525px; width:100%;\"></div>            <script type=\"text/javascript\">                require([\"plotly\"], function(Plotly) {                    window.PLOTLYENV=window.PLOTLYENV || {};                                    if (document.getElementById(\"5e865371-21f7-4f7d-93b1-f554c75a0ffd\")) {                    Plotly.newPlot(                        \"5e865371-21f7-4f7d-93b1-f554c75a0ffd\",                        [{\"customdata\":[[\"Africa East\",64.0,27.0,52.0,41.0,32.0,40.0],[\"Africa West\",77.0,20.0,54.0,46.0,9.0,78.0],[\"Arab countries\",80.0,38.0,68.0,53.0,23.0,34.0],[\"Morocco\",70.0,46.0,68.0,53.0,14.0,25.0]],\"hovertemplate\":\"Continent=Africa<br>x=%{x}<br>y=%{y}<br>Country=%{customdata[0]}<br>Power distance=%{customdata[1]}<br>Individualism=%{customdata[2]}<br>Uncertainty avoidance=%{customdata[3]}<br>Masculinity=%{customdata[4]}<br>Long-term orientation=%{customdata[5]}<br>Indulgence=%{customdata[6]}<extra></extra>\",\"legendgroup\":\"Africa\",\"marker\":{\"color\":\"#636efa\",\"symbol\":\"circle\"},\"mode\":\"markers\",\"name\":\"Africa\",\"orientation\":\"v\",\"showlegend\":true,\"x\":[-18.288658142089844,-23.02690887451172,-18.24427032470703,-18.688400268554688],\"xaxis\":\"x\",\"y\":[-1.4363123178482056,22.002906799316406,-7.841552257537842,-6.548094272613525],\"yaxis\":\"y\",\"type\":\"scatter\"},{\"customdata\":[[\"Argentina\",49.0,46.0,86.0,56.0,20.0,62.0],[\"Brazil\",69.0,38.0,76.0,49.0,44.0,59.0],[\"Chile\",63.0,23.0,86.0,28.0,31.0,68.0],[\"Colombia\",67.0,13.0,80.0,64.0,13.0,83.0],[\"Peru\",64.0,16.0,87.0,42.0,25.0,46.0],[\"Uruguay\",61.0,36.0,100.0,38.0,26.0,53.0],[\"Venezuela\",81.0,12.0,76.0,73.0,16.0,100.0]],\"hovertemplate\":\"Continent=South America<br>x=%{x}<br>y=%{y}<br>Country=%{customdata[0]}<br>Power distance=%{customdata[1]}<br>Individualism=%{customdata[2]}<br>Uncertainty avoidance=%{customdata[3]}<br>Masculinity=%{customdata[4]}<br>Long-term orientation=%{customdata[5]}<br>Indulgence=%{customdata[6]}<extra></extra>\",\"legendgroup\":\"South America\",\"marker\":{\"color\":\"#EF553B\",\"symbol\":\"circle\"},\"mode\":\"markers\",\"name\":\"South America\",\"orientation\":\"v\",\"showlegend\":true,\"x\":[-18.520153045654297,-5.1315836906433105,-16.319698333740234,-19.73612403869629,-16.208459854125977,-15.816681861877441,-18.403623580932617],\"xaxis\":\"x\",\"y\":[9.05834674835205,6.925978660583496,12.704339027404785,20.551589965820312,6.047463417053223,8.728106498718262,21.53770637512207],\"yaxis\":\"y\",\"type\":\"scatter\"},{\"customdata\":[[\"Australia\",38.0,90.0,51.0,61.0,21.0,71.0],[\"New Zealand\",22.0,79.0,49.0,58.0,33.0,75.0]],\"hovertemplate\":\"Continent=Oceania<br>x=%{x}<br>y=%{y}<br>Country=%{customdata[0]}<br>Power distance=%{customdata[1]}<br>Individualism=%{customdata[2]}<br>Uncertainty avoidance=%{customdata[3]}<br>Masculinity=%{customdata[4]}<br>Long-term orientation=%{customdata[5]}<br>Indulgence=%{customdata[6]}<extra></extra>\",\"legendgroup\":\"Oceania\",\"marker\":{\"color\":\"#00cc96\",\"symbol\":\"circle\"},\"mode\":\"markers\",\"name\":\"Oceania\",\"orientation\":\"v\",\"showlegend\":true,\"x\":[45.38166046142578,42.708553314208984],\"xaxis\":\"x\",\"y\":[26.585147857666016,24.25360870361328],\"yaxis\":\"y\",\"type\":\"scatter\"},{\"customdata\":[[\"Austria\",11.0,55.0,70.0,79.0,60.0,63.0],[\"Belgium\",65.0,75.0,94.0,54.0,82.0,57.0],[\"Bulgaria\",70.0,30.0,85.0,40.0,69.0,16.0],[\"Croatia\",73.0,33.0,80.0,40.0,58.0,33.0],[\"Czech Republic\",57.0,58.0,74.0,57.0,70.0,29.0],[\"Denmark\",18.0,74.0,23.0,16.0,35.0,70.0],[\"Estonia\",40.0,60.0,60.0,30.0,82.0,16.0],[\"Finland\",33.0,63.0,59.0,26.0,38.0,57.0],[\"France\",68.0,71.0,86.0,43.0,63.0,48.0],[\"Germany\",35.0,67.0,65.0,66.0,83.0,40.0],[\"Great Britain\",35.0,89.0,35.0,66.0,51.0,69.0],[\"Greece\",60.0,35.0,112.0,57.0,45.0,50.0],[\"Hungary\",46.0,80.0,82.0,88.0,58.0,31.0],[\"Ireland\",28.0,70.0,35.0,68.0,24.0,65.0],[\"Italy\",50.0,76.0,75.0,70.0,61.0,30.0],[\"Latvia\",44.0,70.0,63.0,9.0,69.0,13.0],[\"Lithuania\",42.0,60.0,65.0,19.0,82.0,16.0],[\"Luxembourg\",40.0,60.0,70.0,50.0,64.0,56.0],[\"Malta\",56.0,59.0,96.0,47.0,47.0,66.0],[\"Netherlands\",38.0,80.0,53.0,14.0,67.0,68.0],[\"Norway\",31.0,69.0,50.0,8.0,35.0,55.0],[\"Poland\",68.0,60.0,93.0,64.0,38.0,29.0],[\"Portugal\",63.0,27.0,104.0,31.0,28.0,33.0],[\"Romania\",90.0,30.0,90.0,42.0,52.0,20.0],[\"Russia\",93.0,39.0,95.0,36.0,81.0,20.0],[\"Serbia\",86.0,25.0,92.0,43.0,52.0,28.0],[\"Slovak Republic\",104.0,52.0,51.0,110.0,77.0,28.0],[\"Slovenia\",71.0,27.0,88.0,19.0,49.0,48.0],[\"Spain\",57.0,51.0,86.0,42.0,48.0,44.0],[\"Sweden\",31.0,71.0,29.0,5.0,53.0,78.0],[\"Switzerland\",34.0,68.0,58.0,70.0,74.0,66.0]],\"hovertemplate\":\"Continent=Europe<br>x=%{x}<br>y=%{y}<br>Country=%{customdata[0]}<br>Power distance=%{customdata[1]}<br>Individualism=%{customdata[2]}<br>Uncertainty avoidance=%{customdata[3]}<br>Masculinity=%{customdata[4]}<br>Long-term orientation=%{customdata[5]}<br>Indulgence=%{customdata[6]}<extra></extra>\",\"legendgroup\":\"Europe\",\"marker\":{\"color\":\"#ab63fa\",\"symbol\":\"circle\"},\"mode\":\"markers\",\"name\":\"Europe\",\"orientation\":\"v\",\"showlegend\":true,\"x\":[23.076187133789062,6.627879619598389,-16.262332916259766,-17.83273696899414,15.873089790344238,22.757152557373047,27.201160430908203,24.155942916870117,5.322145462036133,21.43568229675293,40.770545959472656,-9.91613483428955,16.60479736328125,43.67934036254883,15.883352279663086,27.950010299682617,28.498172760009766,24.06220054626465,-0.2998720109462738,20.449871063232422,23.713022232055664,-0.44114723801612854,-14.574502944946289,-18.571510314941406,-15.308356285095215,-19.124876022338867,2.7366673946380615,-6.469214916229248,-1.7055706977844238,21.493085861206055,22.698257446289062],\"xaxis\":\"x\",\"y\":[6.550602912902832,4.23795223236084,-31.765954971313477,-31.246580123901367,1.4192360639572144,37.91164779663086,-27.25089454650879,33.22430419921875,4.484026908874512,3.0235657691955566,27.92538833618164,8.815067291259766,-1.5919387340545654,22.421710968017578,-0.33967939019203186,-29.361167907714844,-27.80221939086914,3.450167179107666,4.654495716094971,35.36090087890625,34.43949508666992,8.523371696472168,7.987496852874756,-34.631290435791016,-34.222434997558594,-33.42704391479492,-24.383005142211914,2.6717984676361084,6.339608192443848,37.08091354370117,4.340000152587891],\"yaxis\":\"y\",\"type\":\"scatter\"},{\"customdata\":[[\"Bangladesh\",80.0,20.0,60.0,55.0,47.0,20.0],[\"China\",80.0,20.0,30.0,66.0,87.0,24.0],[\"Hong Kong\",68.0,25.0,29.0,57.0,61.0,17.0],[\"India\",77.0,48.0,40.0,56.0,51.0,26.0],[\"Indonesia\",78.0,14.0,48.0,46.0,62.0,38.0],[\"Iran\",58.0,41.0,59.0,43.0,14.0,40.0],[\"Japan\",54.0,46.0,92.0,95.0,88.0,42.0],[\"South Korea\",60.0,18.0,85.0,39.0,100.0,29.0],[\"Malaysia\",104.0,26.0,36.0,50.0,41.0,57.0],[\"Pakistan\",55.0,14.0,70.0,50.0,50.0,0.0],[\"Philippines\",94.0,32.0,44.0,64.0,27.0,42.0],[\"Singapore\",74.0,20.0,8.0,48.0,72.0,46.0],[\"Taiwan\",58.0,17.0,69.0,45.0,93.0,49.0],[\"Thailand\",64.0,20.0,64.0,34.0,32.0,45.0],[\"Turkey\",66.0,37.0,85.0,45.0,46.0,49.0],[\"Vietnam\",70.0,20.0,30.0,40.0,57.0,35.0]],\"hovertemplate\":\"Continent=Asia<br>x=%{x}<br>y=%{y}<br>Country=%{customdata[0]}<br>Power distance=%{customdata[1]}<br>Individualism=%{customdata[2]}<br>Uncertainty avoidance=%{customdata[3]}<br>Masculinity=%{customdata[4]}<br>Long-term orientation=%{customdata[5]}<br>Indulgence=%{customdata[6]}<extra></extra>\",\"legendgroup\":\"Asia\",\"marker\":{\"color\":\"#FFA15A\",\"symbol\":\"circle\"},\"mode\":\"markers\",\"name\":\"Asia\",\"orientation\":\"v\",\"showlegend\":true,\"x\":[-7.803318500518799,0.22161434590816498,-1.8016023635864258,-1.0973942279815674,-5.775519847869873,-18.842247009277344,19.7064266204834,-22.992877960205078,-15.043508529663086,-10.206419944763184,-15.714326858520508,-3.3076729774475098,-23.69638442993164,-18.004770278930664,-4.071350574493408,-4.104024887084961],\"xaxis\":\"x\",\"y\":[-26.729373931884766,-24.334684371948242,-25.842744827270508,-27.772993087768555,-25.678142547607422,-4.415443420410156,-1.1296038627624512,-26.918819427490234,-13.991683959960938,-28.031219482421875,-12.868629455566406,-22.76006507873535,-25.89695930480957,-0.10259497165679932,6.083652019500732,-25.04123878479004],\"yaxis\":\"y\",\"type\":\"scatter\"},{\"customdata\":[[\"Canada\",39.0,80.0,48.0,52.0,36.0,68.0],[\"El Salvador\",66.0,19.0,94.0,40.0,20.0,89.0],[\"Mexico\",81.0,30.0,82.0,69.0,24.0,97.0],[\"Trinidad and Tobago\",47.0,16.0,55.0,58.0,13.0,80.0],[\"USA\",40.0,91.0,46.0,62.0,26.0,68.0]],\"hovertemplate\":\"Continent=North America<br>x=%{x}<br>y=%{y}<br>Country=%{customdata[0]}<br>Power distance=%{customdata[1]}<br>Individualism=%{customdata[2]}<br>Uncertainty avoidance=%{customdata[3]}<br>Masculinity=%{customdata[4]}<br>Long-term orientation=%{customdata[5]}<br>Indulgence=%{customdata[6]}<extra></extra>\",\"legendgroup\":\"North America\",\"marker\":{\"color\":\"#19d3f3\",\"symbol\":\"circle\"},\"mode\":\"markers\",\"name\":\"North America\",\"orientation\":\"v\",\"showlegend\":true,\"x\":[42.44517517089844,-17.238014221191406,-16.933788299560547,-22.771728515625,44.14382553100586],\"xaxis\":\"x\",\"y\":[26.106996536254883,15.451191902160645,21.473711013793945,20.460552215576172,27.1883487701416],\"yaxis\":\"y\",\"type\":\"scatter\"}],                        {\"template\":{\"data\":{\"histogram2dcontour\":[{\"type\":\"histogram2dcontour\",\"colorbar\":{\"outlinewidth\":0,\"ticks\":\"\"},\"colorscale\":[[0.0,\"#0d0887\"],[0.1111111111111111,\"#46039f\"],[0.2222222222222222,\"#7201a8\"],[0.3333333333333333,\"#9c179e\"],[0.4444444444444444,\"#bd3786\"],[0.5555555555555556,\"#d8576b\"],[0.6666666666666666,\"#ed7953\"],[0.7777777777777778,\"#fb9f3a\"],[0.8888888888888888,\"#fdca26\"],[1.0,\"#f0f921\"]]}],\"choropleth\":[{\"type\":\"choropleth\",\"colorbar\":{\"outlinewidth\":0,\"ticks\":\"\"}}],\"histogram2d\":[{\"type\":\"histogram2d\",\"colorbar\":{\"outlinewidth\":0,\"ticks\":\"\"},\"colorscale\":[[0.0,\"#0d0887\"],[0.1111111111111111,\"#46039f\"],[0.2222222222222222,\"#7201a8\"],[0.3333333333333333,\"#9c179e\"],[0.4444444444444444,\"#bd3786\"],[0.5555555555555556,\"#d8576b\"],[0.6666666666666666,\"#ed7953\"],[0.7777777777777778,\"#fb9f3a\"],[0.8888888888888888,\"#fdca26\"],[1.0,\"#f0f921\"]]}],\"heatmap\":[{\"type\":\"heatmap\",\"colorbar\":{\"outlinewidth\":0,\"ticks\":\"\"},\"colorscale\":[[0.0,\"#0d0887\"],[0.1111111111111111,\"#46039f\"],[0.2222222222222222,\"#7201a8\"],[0.3333333333333333,\"#9c179e\"],[0.4444444444444444,\"#bd3786\"],[0.5555555555555556,\"#d8576b\"],[0.6666666666666666,\"#ed7953\"],[0.7777777777777778,\"#fb9f3a\"],[0.8888888888888888,\"#fdca26\"],[1.0,\"#f0f921\"]]}],\"heatmapgl\":[{\"type\":\"heatmapgl\",\"colorbar\":{\"outlinewidth\":0,\"ticks\":\"\"},\"colorscale\":[[0.0,\"#0d0887\"],[0.1111111111111111,\"#46039f\"],[0.2222222222222222,\"#7201a8\"],[0.3333333333333333,\"#9c179e\"],[0.4444444444444444,\"#bd3786\"],[0.5555555555555556,\"#d8576b\"],[0.6666666666666666,\"#ed7953\"],[0.7777777777777778,\"#fb9f3a\"],[0.8888888888888888,\"#fdca26\"],[1.0,\"#f0f921\"]]}],\"contourcarpet\":[{\"type\":\"contourcarpet\",\"colorbar\":{\"outlinewidth\":0,\"ticks\":\"\"}}],\"contour\":[{\"type\":\"contour\",\"colorbar\":{\"outlinewidth\":0,\"ticks\":\"\"},\"colorscale\":[[0.0,\"#0d0887\"],[0.1111111111111111,\"#46039f\"],[0.2222222222222222,\"#7201a8\"],[0.3333333333333333,\"#9c179e\"],[0.4444444444444444,\"#bd3786\"],[0.5555555555555556,\"#d8576b\"],[0.6666666666666666,\"#ed7953\"],[0.7777777777777778,\"#fb9f3a\"],[0.8888888888888888,\"#fdca26\"],[1.0,\"#f0f921\"]]}],\"surface\":[{\"type\":\"surface\",\"colorbar\":{\"outlinewidth\":0,\"ticks\":\"\"},\"colorscale\":[[0.0,\"#0d0887\"],[0.1111111111111111,\"#46039f\"],[0.2222222222222222,\"#7201a8\"],[0.3333333333333333,\"#9c179e\"],[0.4444444444444444,\"#bd3786\"],[0.5555555555555556,\"#d8576b\"],[0.6666666666666666,\"#ed7953\"],[0.7777777777777778,\"#fb9f3a\"],[0.8888888888888888,\"#fdca26\"],[1.0,\"#f0f921\"]]}],\"mesh3d\":[{\"type\":\"mesh3d\",\"colorbar\":{\"outlinewidth\":0,\"ticks\":\"\"}}],\"scatter\":[{\"fillpattern\":{\"fillmode\":\"overlay\",\"size\":10,\"solidity\":0.2},\"type\":\"scatter\"}],\"parcoords\":[{\"type\":\"parcoords\",\"line\":{\"colorbar\":{\"outlinewidth\":0,\"ticks\":\"\"}}}],\"scatterpolargl\":[{\"type\":\"scatterpolargl\",\"marker\":{\"colorbar\":{\"outlinewidth\":0,\"ticks\":\"\"}}}],\"bar\":[{\"error_x\":{\"color\":\"#2a3f5f\"},\"error_y\":{\"color\":\"#2a3f5f\"},\"marker\":{\"line\":{\"color\":\"#E5ECF6\",\"width\":0.5},\"pattern\":{\"fillmode\":\"overlay\",\"size\":10,\"solidity\":0.2}},\"type\":\"bar\"}],\"scattergeo\":[{\"type\":\"scattergeo\",\"marker\":{\"colorbar\":{\"outlinewidth\":0,\"ticks\":\"\"}}}],\"scatterpolar\":[{\"type\":\"scatterpolar\",\"marker\":{\"colorbar\":{\"outlinewidth\":0,\"ticks\":\"\"}}}],\"histogram\":[{\"marker\":{\"pattern\":{\"fillmode\":\"overlay\",\"size\":10,\"solidity\":0.2}},\"type\":\"histogram\"}],\"scattergl\":[{\"type\":\"scattergl\",\"marker\":{\"colorbar\":{\"outlinewidth\":0,\"ticks\":\"\"}}}],\"scatter3d\":[{\"type\":\"scatter3d\",\"line\":{\"colorbar\":{\"outlinewidth\":0,\"ticks\":\"\"}},\"marker\":{\"colorbar\":{\"outlinewidth\":0,\"ticks\":\"\"}}}],\"scattermapbox\":[{\"type\":\"scattermapbox\",\"marker\":{\"colorbar\":{\"outlinewidth\":0,\"ticks\":\"\"}}}],\"scatterternary\":[{\"type\":\"scatterternary\",\"marker\":{\"colorbar\":{\"outlinewidth\":0,\"ticks\":\"\"}}}],\"scattercarpet\":[{\"type\":\"scattercarpet\",\"marker\":{\"colorbar\":{\"outlinewidth\":0,\"ticks\":\"\"}}}],\"carpet\":[{\"aaxis\":{\"endlinecolor\":\"#2a3f5f\",\"gridcolor\":\"white\",\"linecolor\":\"white\",\"minorgridcolor\":\"white\",\"startlinecolor\":\"#2a3f5f\"},\"baxis\":{\"endlinecolor\":\"#2a3f5f\",\"gridcolor\":\"white\",\"linecolor\":\"white\",\"minorgridcolor\":\"white\",\"startlinecolor\":\"#2a3f5f\"},\"type\":\"carpet\"}],\"table\":[{\"cells\":{\"fill\":{\"color\":\"#EBF0F8\"},\"line\":{\"color\":\"white\"}},\"header\":{\"fill\":{\"color\":\"#C8D4E3\"},\"line\":{\"color\":\"white\"}},\"type\":\"table\"}],\"barpolar\":[{\"marker\":{\"line\":{\"color\":\"#E5ECF6\",\"width\":0.5},\"pattern\":{\"fillmode\":\"overlay\",\"size\":10,\"solidity\":0.2}},\"type\":\"barpolar\"}],\"pie\":[{\"automargin\":true,\"type\":\"pie\"}]},\"layout\":{\"autotypenumbers\":\"strict\",\"colorway\":[\"#636efa\",\"#EF553B\",\"#00cc96\",\"#ab63fa\",\"#FFA15A\",\"#19d3f3\",\"#FF6692\",\"#B6E880\",\"#FF97FF\",\"#FECB52\"],\"font\":{\"color\":\"#2a3f5f\"},\"hovermode\":\"closest\",\"hoverlabel\":{\"align\":\"left\"},\"paper_bgcolor\":\"white\",\"plot_bgcolor\":\"#E5ECF6\",\"polar\":{\"bgcolor\":\"#E5ECF6\",\"angularaxis\":{\"gridcolor\":\"white\",\"linecolor\":\"white\",\"ticks\":\"\"},\"radialaxis\":{\"gridcolor\":\"white\",\"linecolor\":\"white\",\"ticks\":\"\"}},\"ternary\":{\"bgcolor\":\"#E5ECF6\",\"aaxis\":{\"gridcolor\":\"white\",\"linecolor\":\"white\",\"ticks\":\"\"},\"baxis\":{\"gridcolor\":\"white\",\"linecolor\":\"white\",\"ticks\":\"\"},\"caxis\":{\"gridcolor\":\"white\",\"linecolor\":\"white\",\"ticks\":\"\"}},\"coloraxis\":{\"colorbar\":{\"outlinewidth\":0,\"ticks\":\"\"}},\"colorscale\":{\"sequential\":[[0.0,\"#0d0887\"],[0.1111111111111111,\"#46039f\"],[0.2222222222222222,\"#7201a8\"],[0.3333333333333333,\"#9c179e\"],[0.4444444444444444,\"#bd3786\"],[0.5555555555555556,\"#d8576b\"],[0.6666666666666666,\"#ed7953\"],[0.7777777777777778,\"#fb9f3a\"],[0.8888888888888888,\"#fdca26\"],[1.0,\"#f0f921\"]],\"sequentialminus\":[[0.0,\"#0d0887\"],[0.1111111111111111,\"#46039f\"],[0.2222222222222222,\"#7201a8\"],[0.3333333333333333,\"#9c179e\"],[0.4444444444444444,\"#bd3786\"],[0.5555555555555556,\"#d8576b\"],[0.6666666666666666,\"#ed7953\"],[0.7777777777777778,\"#fb9f3a\"],[0.8888888888888888,\"#fdca26\"],[1.0,\"#f0f921\"]],\"diverging\":[[0,\"#8e0152\"],[0.1,\"#c51b7d\"],[0.2,\"#de77ae\"],[0.3,\"#f1b6da\"],[0.4,\"#fde0ef\"],[0.5,\"#f7f7f7\"],[0.6,\"#e6f5d0\"],[0.7,\"#b8e186\"],[0.8,\"#7fbc41\"],[0.9,\"#4d9221\"],[1,\"#276419\"]]},\"xaxis\":{\"gridcolor\":\"white\",\"linecolor\":\"white\",\"ticks\":\"\",\"title\":{\"standoff\":15},\"zerolinecolor\":\"white\",\"automargin\":true,\"zerolinewidth\":2},\"yaxis\":{\"gridcolor\":\"white\",\"linecolor\":\"white\",\"ticks\":\"\",\"title\":{\"standoff\":15},\"zerolinecolor\":\"white\",\"automargin\":true,\"zerolinewidth\":2},\"scene\":{\"xaxis\":{\"backgroundcolor\":\"#E5ECF6\",\"gridcolor\":\"white\",\"linecolor\":\"white\",\"showbackground\":true,\"ticks\":\"\",\"zerolinecolor\":\"white\",\"gridwidth\":2},\"yaxis\":{\"backgroundcolor\":\"#E5ECF6\",\"gridcolor\":\"white\",\"linecolor\":\"white\",\"showbackground\":true,\"ticks\":\"\",\"zerolinecolor\":\"white\",\"gridwidth\":2},\"zaxis\":{\"backgroundcolor\":\"#E5ECF6\",\"gridcolor\":\"white\",\"linecolor\":\"white\",\"showbackground\":true,\"ticks\":\"\",\"zerolinecolor\":\"white\",\"gridwidth\":2}},\"shapedefaults\":{\"line\":{\"color\":\"#2a3f5f\"}},\"annotationdefaults\":{\"arrowcolor\":\"#2a3f5f\",\"arrowhead\":0,\"arrowwidth\":1},\"geo\":{\"bgcolor\":\"white\",\"landcolor\":\"#E5ECF6\",\"subunitcolor\":\"white\",\"showland\":true,\"showlakes\":true,\"lakecolor\":\"white\"},\"title\":{\"x\":0.05},\"mapbox\":{\"style\":\"light\"}}},\"xaxis\":{\"anchor\":\"y\",\"domain\":[0.0,1.0],\"title\":{\"text\":\"x\"}},\"yaxis\":{\"anchor\":\"x\",\"domain\":[0.0,1.0],\"title\":{\"text\":\"y\"}},\"legend\":{\"title\":{\"text\":\"Continent\"},\"tracegroupgap\":0},\"margin\":{\"t\":60}},                        {\"responsive\": true}                    ).then(function(){\n",
       "                            \n",
       "var gd = document.getElementById('5e865371-21f7-4f7d-93b1-f554c75a0ffd');\n",
       "var x = new MutationObserver(function (mutations, observer) {{\n",
       "        var display = window.getComputedStyle(gd).display;\n",
       "        if (!display || display === 'none') {{\n",
       "            console.log([gd, 'removed!']);\n",
       "            Plotly.purge(gd);\n",
       "            observer.disconnect();\n",
       "        }}\n",
       "}});\n",
       "\n",
       "// Listen for the removal of the full notebook cells\n",
       "var notebookContainer = gd.closest('#notebook-container');\n",
       "if (notebookContainer) {{\n",
       "    x.observe(notebookContainer, {childList: true});\n",
       "}}\n",
       "\n",
       "// Listen for the clearing of the current output cell\n",
       "var outputEl = gd.closest('.output');\n",
       "if (outputEl) {{\n",
       "    x.observe(outputEl, {childList: true});\n",
       "}}\n",
       "\n",
       "                        })                };                });            </script>        </div>"
      ]
     },
     "metadata": {},
     "output_type": "display_data"
    }
   ],
   "source": [
    "fig = px.scatter(df_to_plot, x='x', y='y', hover_data=['Country','Power distance', 'Individualism',\n",
    "                                                       'Uncertainty avoidance', 'Masculinity', 'Long-term orientation',\n",
    "                                                       'Indulgence'], color='Continent')\n",
    "fig.show()\n"
   ]
  },
  {
   "cell_type": "markdown",
   "id": "3b7e30e1",
   "metadata": {},
   "source": [
    "#### For simplicity, here is another plot, just with the country names"
   ]
  },
  {
   "cell_type": "code",
   "execution_count": 18,
   "id": "d13106a7",
   "metadata": {},
   "outputs": [
    {
     "data": {
      "application/vnd.plotly.v1+json": {
       "config": {
        "plotlyServerURL": "https://plot.ly"
       },
       "data": [
        {
         "customdata": [
          [
           "Africa East"
          ],
          [
           "Africa West"
          ],
          [
           "Arab countries"
          ],
          [
           "Morocco"
          ]
         ],
         "hovertemplate": "Continent=Africa<br>x=%{x}<br>y=%{y}<br>Country=%{customdata[0]}<extra></extra>",
         "legendgroup": "Africa",
         "marker": {
          "color": "#636efa",
          "symbol": "circle"
         },
         "mode": "markers",
         "name": "Africa",
         "orientation": "v",
         "showlegend": true,
         "type": "scatter",
         "x": [
          -18.288658142089844,
          -23.02690887451172,
          -18.24427032470703,
          -18.688400268554688
         ],
         "xaxis": "x",
         "y": [
          -1.4363123178482056,
          22.002906799316406,
          -7.841552257537842,
          -6.548094272613525
         ],
         "yaxis": "y"
        },
        {
         "customdata": [
          [
           "Argentina"
          ],
          [
           "Brazil"
          ],
          [
           "Chile"
          ],
          [
           "Colombia"
          ],
          [
           "Peru"
          ],
          [
           "Uruguay"
          ],
          [
           "Venezuela"
          ]
         ],
         "hovertemplate": "Continent=South America<br>x=%{x}<br>y=%{y}<br>Country=%{customdata[0]}<extra></extra>",
         "legendgroup": "South America",
         "marker": {
          "color": "#EF553B",
          "symbol": "circle"
         },
         "mode": "markers",
         "name": "South America",
         "orientation": "v",
         "showlegend": true,
         "type": "scatter",
         "x": [
          -18.520153045654297,
          -5.1315836906433105,
          -16.319698333740234,
          -19.73612403869629,
          -16.208459854125977,
          -15.816681861877441,
          -18.403623580932617
         ],
         "xaxis": "x",
         "y": [
          9.05834674835205,
          6.925978660583496,
          12.704339027404785,
          20.551589965820312,
          6.047463417053223,
          8.728106498718262,
          21.53770637512207
         ],
         "yaxis": "y"
        },
        {
         "customdata": [
          [
           "Australia"
          ],
          [
           "New Zealand"
          ]
         ],
         "hovertemplate": "Continent=Oceania<br>x=%{x}<br>y=%{y}<br>Country=%{customdata[0]}<extra></extra>",
         "legendgroup": "Oceania",
         "marker": {
          "color": "#00cc96",
          "symbol": "circle"
         },
         "mode": "markers",
         "name": "Oceania",
         "orientation": "v",
         "showlegend": true,
         "type": "scatter",
         "x": [
          45.38166046142578,
          42.708553314208984
         ],
         "xaxis": "x",
         "y": [
          26.585147857666016,
          24.25360870361328
         ],
         "yaxis": "y"
        },
        {
         "customdata": [
          [
           "Austria"
          ],
          [
           "Belgium"
          ],
          [
           "Bulgaria"
          ],
          [
           "Croatia"
          ],
          [
           "Czech Republic"
          ],
          [
           "Denmark"
          ],
          [
           "Estonia"
          ],
          [
           "Finland"
          ],
          [
           "France"
          ],
          [
           "Germany"
          ],
          [
           "Great Britain"
          ],
          [
           "Greece"
          ],
          [
           "Hungary"
          ],
          [
           "Ireland"
          ],
          [
           "Italy"
          ],
          [
           "Latvia"
          ],
          [
           "Lithuania"
          ],
          [
           "Luxembourg"
          ],
          [
           "Malta"
          ],
          [
           "Netherlands"
          ],
          [
           "Norway"
          ],
          [
           "Poland"
          ],
          [
           "Portugal"
          ],
          [
           "Romania"
          ],
          [
           "Russia"
          ],
          [
           "Serbia"
          ],
          [
           "Slovak Republic"
          ],
          [
           "Slovenia"
          ],
          [
           "Spain"
          ],
          [
           "Sweden"
          ],
          [
           "Switzerland"
          ]
         ],
         "hovertemplate": "Continent=Europe<br>x=%{x}<br>y=%{y}<br>Country=%{customdata[0]}<extra></extra>",
         "legendgroup": "Europe",
         "marker": {
          "color": "#ab63fa",
          "symbol": "circle"
         },
         "mode": "markers",
         "name": "Europe",
         "orientation": "v",
         "showlegend": true,
         "type": "scatter",
         "x": [
          23.076187133789062,
          6.627879619598389,
          -16.262332916259766,
          -17.83273696899414,
          15.873089790344238,
          22.757152557373047,
          27.201160430908203,
          24.155942916870117,
          5.322145462036133,
          21.43568229675293,
          40.770545959472656,
          -9.91613483428955,
          16.60479736328125,
          43.67934036254883,
          15.883352279663086,
          27.950010299682617,
          28.498172760009766,
          24.06220054626465,
          -0.2998720109462738,
          20.449871063232422,
          23.713022232055664,
          -0.44114723801612854,
          -14.574502944946289,
          -18.571510314941406,
          -15.308356285095215,
          -19.124876022338867,
          2.7366673946380615,
          -6.469214916229248,
          -1.7055706977844238,
          21.493085861206055,
          22.698257446289062
         ],
         "xaxis": "x",
         "y": [
          6.550602912902832,
          4.23795223236084,
          -31.765954971313477,
          -31.246580123901367,
          1.4192360639572144,
          37.91164779663086,
          -27.25089454650879,
          33.22430419921875,
          4.484026908874512,
          3.0235657691955566,
          27.92538833618164,
          8.815067291259766,
          -1.5919387340545654,
          22.421710968017578,
          -0.33967939019203186,
          -29.361167907714844,
          -27.80221939086914,
          3.450167179107666,
          4.654495716094971,
          35.36090087890625,
          34.43949508666992,
          8.523371696472168,
          7.987496852874756,
          -34.631290435791016,
          -34.222434997558594,
          -33.42704391479492,
          -24.383005142211914,
          2.6717984676361084,
          6.339608192443848,
          37.08091354370117,
          4.340000152587891
         ],
         "yaxis": "y"
        },
        {
         "customdata": [
          [
           "Bangladesh"
          ],
          [
           "China"
          ],
          [
           "Hong Kong"
          ],
          [
           "India"
          ],
          [
           "Indonesia"
          ],
          [
           "Iran"
          ],
          [
           "Japan"
          ],
          [
           "South Korea"
          ],
          [
           "Malaysia"
          ],
          [
           "Pakistan"
          ],
          [
           "Philippines"
          ],
          [
           "Singapore"
          ],
          [
           "Taiwan"
          ],
          [
           "Thailand"
          ],
          [
           "Turkey"
          ],
          [
           "Vietnam"
          ]
         ],
         "hovertemplate": "Continent=Asia<br>x=%{x}<br>y=%{y}<br>Country=%{customdata[0]}<extra></extra>",
         "legendgroup": "Asia",
         "marker": {
          "color": "#FFA15A",
          "symbol": "circle"
         },
         "mode": "markers",
         "name": "Asia",
         "orientation": "v",
         "showlegend": true,
         "type": "scatter",
         "x": [
          -7.803318500518799,
          0.22161434590816498,
          -1.8016023635864258,
          -1.0973942279815674,
          -5.775519847869873,
          -18.842247009277344,
          19.7064266204834,
          -22.992877960205078,
          -15.043508529663086,
          -10.206419944763184,
          -15.714326858520508,
          -3.3076729774475098,
          -23.69638442993164,
          -18.004770278930664,
          -4.071350574493408,
          -4.104024887084961
         ],
         "xaxis": "x",
         "y": [
          -26.729373931884766,
          -24.334684371948242,
          -25.842744827270508,
          -27.772993087768555,
          -25.678142547607422,
          -4.415443420410156,
          -1.1296038627624512,
          -26.918819427490234,
          -13.991683959960938,
          -28.031219482421875,
          -12.868629455566406,
          -22.76006507873535,
          -25.89695930480957,
          -0.10259497165679932,
          6.083652019500732,
          -25.04123878479004
         ],
         "yaxis": "y"
        },
        {
         "customdata": [
          [
           "Canada"
          ],
          [
           "El Salvador"
          ],
          [
           "Mexico"
          ],
          [
           "Trinidad and Tobago"
          ],
          [
           "USA"
          ]
         ],
         "hovertemplate": "Continent=North America<br>x=%{x}<br>y=%{y}<br>Country=%{customdata[0]}<extra></extra>",
         "legendgroup": "North America",
         "marker": {
          "color": "#19d3f3",
          "symbol": "circle"
         },
         "mode": "markers",
         "name": "North America",
         "orientation": "v",
         "showlegend": true,
         "type": "scatter",
         "x": [
          42.44517517089844,
          -17.238014221191406,
          -16.933788299560547,
          -22.771728515625,
          44.14382553100586
         ],
         "xaxis": "x",
         "y": [
          26.106996536254883,
          15.451191902160645,
          21.473711013793945,
          20.460552215576172,
          27.1883487701416
         ],
         "yaxis": "y"
        }
       ],
       "layout": {
        "legend": {
         "title": {
          "text": "Continent"
         },
         "tracegroupgap": 0
        },
        "margin": {
         "t": 60
        },
        "template": {
         "data": {
          "bar": [
           {
            "error_x": {
             "color": "#2a3f5f"
            },
            "error_y": {
             "color": "#2a3f5f"
            },
            "marker": {
             "line": {
              "color": "#E5ECF6",
              "width": 0.5
             },
             "pattern": {
              "fillmode": "overlay",
              "size": 10,
              "solidity": 0.2
             }
            },
            "type": "bar"
           }
          ],
          "barpolar": [
           {
            "marker": {
             "line": {
              "color": "#E5ECF6",
              "width": 0.5
             },
             "pattern": {
              "fillmode": "overlay",
              "size": 10,
              "solidity": 0.2
             }
            },
            "type": "barpolar"
           }
          ],
          "carpet": [
           {
            "aaxis": {
             "endlinecolor": "#2a3f5f",
             "gridcolor": "white",
             "linecolor": "white",
             "minorgridcolor": "white",
             "startlinecolor": "#2a3f5f"
            },
            "baxis": {
             "endlinecolor": "#2a3f5f",
             "gridcolor": "white",
             "linecolor": "white",
             "minorgridcolor": "white",
             "startlinecolor": "#2a3f5f"
            },
            "type": "carpet"
           }
          ],
          "choropleth": [
           {
            "colorbar": {
             "outlinewidth": 0,
             "ticks": ""
            },
            "type": "choropleth"
           }
          ],
          "contour": [
           {
            "colorbar": {
             "outlinewidth": 0,
             "ticks": ""
            },
            "colorscale": [
             [
              0,
              "#0d0887"
             ],
             [
              0.1111111111111111,
              "#46039f"
             ],
             [
              0.2222222222222222,
              "#7201a8"
             ],
             [
              0.3333333333333333,
              "#9c179e"
             ],
             [
              0.4444444444444444,
              "#bd3786"
             ],
             [
              0.5555555555555556,
              "#d8576b"
             ],
             [
              0.6666666666666666,
              "#ed7953"
             ],
             [
              0.7777777777777778,
              "#fb9f3a"
             ],
             [
              0.8888888888888888,
              "#fdca26"
             ],
             [
              1,
              "#f0f921"
             ]
            ],
            "type": "contour"
           }
          ],
          "contourcarpet": [
           {
            "colorbar": {
             "outlinewidth": 0,
             "ticks": ""
            },
            "type": "contourcarpet"
           }
          ],
          "heatmap": [
           {
            "colorbar": {
             "outlinewidth": 0,
             "ticks": ""
            },
            "colorscale": [
             [
              0,
              "#0d0887"
             ],
             [
              0.1111111111111111,
              "#46039f"
             ],
             [
              0.2222222222222222,
              "#7201a8"
             ],
             [
              0.3333333333333333,
              "#9c179e"
             ],
             [
              0.4444444444444444,
              "#bd3786"
             ],
             [
              0.5555555555555556,
              "#d8576b"
             ],
             [
              0.6666666666666666,
              "#ed7953"
             ],
             [
              0.7777777777777778,
              "#fb9f3a"
             ],
             [
              0.8888888888888888,
              "#fdca26"
             ],
             [
              1,
              "#f0f921"
             ]
            ],
            "type": "heatmap"
           }
          ],
          "heatmapgl": [
           {
            "colorbar": {
             "outlinewidth": 0,
             "ticks": ""
            },
            "colorscale": [
             [
              0,
              "#0d0887"
             ],
             [
              0.1111111111111111,
              "#46039f"
             ],
             [
              0.2222222222222222,
              "#7201a8"
             ],
             [
              0.3333333333333333,
              "#9c179e"
             ],
             [
              0.4444444444444444,
              "#bd3786"
             ],
             [
              0.5555555555555556,
              "#d8576b"
             ],
             [
              0.6666666666666666,
              "#ed7953"
             ],
             [
              0.7777777777777778,
              "#fb9f3a"
             ],
             [
              0.8888888888888888,
              "#fdca26"
             ],
             [
              1,
              "#f0f921"
             ]
            ],
            "type": "heatmapgl"
           }
          ],
          "histogram": [
           {
            "marker": {
             "pattern": {
              "fillmode": "overlay",
              "size": 10,
              "solidity": 0.2
             }
            },
            "type": "histogram"
           }
          ],
          "histogram2d": [
           {
            "colorbar": {
             "outlinewidth": 0,
             "ticks": ""
            },
            "colorscale": [
             [
              0,
              "#0d0887"
             ],
             [
              0.1111111111111111,
              "#46039f"
             ],
             [
              0.2222222222222222,
              "#7201a8"
             ],
             [
              0.3333333333333333,
              "#9c179e"
             ],
             [
              0.4444444444444444,
              "#bd3786"
             ],
             [
              0.5555555555555556,
              "#d8576b"
             ],
             [
              0.6666666666666666,
              "#ed7953"
             ],
             [
              0.7777777777777778,
              "#fb9f3a"
             ],
             [
              0.8888888888888888,
              "#fdca26"
             ],
             [
              1,
              "#f0f921"
             ]
            ],
            "type": "histogram2d"
           }
          ],
          "histogram2dcontour": [
           {
            "colorbar": {
             "outlinewidth": 0,
             "ticks": ""
            },
            "colorscale": [
             [
              0,
              "#0d0887"
             ],
             [
              0.1111111111111111,
              "#46039f"
             ],
             [
              0.2222222222222222,
              "#7201a8"
             ],
             [
              0.3333333333333333,
              "#9c179e"
             ],
             [
              0.4444444444444444,
              "#bd3786"
             ],
             [
              0.5555555555555556,
              "#d8576b"
             ],
             [
              0.6666666666666666,
              "#ed7953"
             ],
             [
              0.7777777777777778,
              "#fb9f3a"
             ],
             [
              0.8888888888888888,
              "#fdca26"
             ],
             [
              1,
              "#f0f921"
             ]
            ],
            "type": "histogram2dcontour"
           }
          ],
          "mesh3d": [
           {
            "colorbar": {
             "outlinewidth": 0,
             "ticks": ""
            },
            "type": "mesh3d"
           }
          ],
          "parcoords": [
           {
            "line": {
             "colorbar": {
              "outlinewidth": 0,
              "ticks": ""
             }
            },
            "type": "parcoords"
           }
          ],
          "pie": [
           {
            "automargin": true,
            "type": "pie"
           }
          ],
          "scatter": [
           {
            "fillpattern": {
             "fillmode": "overlay",
             "size": 10,
             "solidity": 0.2
            },
            "type": "scatter"
           }
          ],
          "scatter3d": [
           {
            "line": {
             "colorbar": {
              "outlinewidth": 0,
              "ticks": ""
             }
            },
            "marker": {
             "colorbar": {
              "outlinewidth": 0,
              "ticks": ""
             }
            },
            "type": "scatter3d"
           }
          ],
          "scattercarpet": [
           {
            "marker": {
             "colorbar": {
              "outlinewidth": 0,
              "ticks": ""
             }
            },
            "type": "scattercarpet"
           }
          ],
          "scattergeo": [
           {
            "marker": {
             "colorbar": {
              "outlinewidth": 0,
              "ticks": ""
             }
            },
            "type": "scattergeo"
           }
          ],
          "scattergl": [
           {
            "marker": {
             "colorbar": {
              "outlinewidth": 0,
              "ticks": ""
             }
            },
            "type": "scattergl"
           }
          ],
          "scattermapbox": [
           {
            "marker": {
             "colorbar": {
              "outlinewidth": 0,
              "ticks": ""
             }
            },
            "type": "scattermapbox"
           }
          ],
          "scatterpolar": [
           {
            "marker": {
             "colorbar": {
              "outlinewidth": 0,
              "ticks": ""
             }
            },
            "type": "scatterpolar"
           }
          ],
          "scatterpolargl": [
           {
            "marker": {
             "colorbar": {
              "outlinewidth": 0,
              "ticks": ""
             }
            },
            "type": "scatterpolargl"
           }
          ],
          "scatterternary": [
           {
            "marker": {
             "colorbar": {
              "outlinewidth": 0,
              "ticks": ""
             }
            },
            "type": "scatterternary"
           }
          ],
          "surface": [
           {
            "colorbar": {
             "outlinewidth": 0,
             "ticks": ""
            },
            "colorscale": [
             [
              0,
              "#0d0887"
             ],
             [
              0.1111111111111111,
              "#46039f"
             ],
             [
              0.2222222222222222,
              "#7201a8"
             ],
             [
              0.3333333333333333,
              "#9c179e"
             ],
             [
              0.4444444444444444,
              "#bd3786"
             ],
             [
              0.5555555555555556,
              "#d8576b"
             ],
             [
              0.6666666666666666,
              "#ed7953"
             ],
             [
              0.7777777777777778,
              "#fb9f3a"
             ],
             [
              0.8888888888888888,
              "#fdca26"
             ],
             [
              1,
              "#f0f921"
             ]
            ],
            "type": "surface"
           }
          ],
          "table": [
           {
            "cells": {
             "fill": {
              "color": "#EBF0F8"
             },
             "line": {
              "color": "white"
             }
            },
            "header": {
             "fill": {
              "color": "#C8D4E3"
             },
             "line": {
              "color": "white"
             }
            },
            "type": "table"
           }
          ]
         },
         "layout": {
          "annotationdefaults": {
           "arrowcolor": "#2a3f5f",
           "arrowhead": 0,
           "arrowwidth": 1
          },
          "autotypenumbers": "strict",
          "coloraxis": {
           "colorbar": {
            "outlinewidth": 0,
            "ticks": ""
           }
          },
          "colorscale": {
           "diverging": [
            [
             0,
             "#8e0152"
            ],
            [
             0.1,
             "#c51b7d"
            ],
            [
             0.2,
             "#de77ae"
            ],
            [
             0.3,
             "#f1b6da"
            ],
            [
             0.4,
             "#fde0ef"
            ],
            [
             0.5,
             "#f7f7f7"
            ],
            [
             0.6,
             "#e6f5d0"
            ],
            [
             0.7,
             "#b8e186"
            ],
            [
             0.8,
             "#7fbc41"
            ],
            [
             0.9,
             "#4d9221"
            ],
            [
             1,
             "#276419"
            ]
           ],
           "sequential": [
            [
             0,
             "#0d0887"
            ],
            [
             0.1111111111111111,
             "#46039f"
            ],
            [
             0.2222222222222222,
             "#7201a8"
            ],
            [
             0.3333333333333333,
             "#9c179e"
            ],
            [
             0.4444444444444444,
             "#bd3786"
            ],
            [
             0.5555555555555556,
             "#d8576b"
            ],
            [
             0.6666666666666666,
             "#ed7953"
            ],
            [
             0.7777777777777778,
             "#fb9f3a"
            ],
            [
             0.8888888888888888,
             "#fdca26"
            ],
            [
             1,
             "#f0f921"
            ]
           ],
           "sequentialminus": [
            [
             0,
             "#0d0887"
            ],
            [
             0.1111111111111111,
             "#46039f"
            ],
            [
             0.2222222222222222,
             "#7201a8"
            ],
            [
             0.3333333333333333,
             "#9c179e"
            ],
            [
             0.4444444444444444,
             "#bd3786"
            ],
            [
             0.5555555555555556,
             "#d8576b"
            ],
            [
             0.6666666666666666,
             "#ed7953"
            ],
            [
             0.7777777777777778,
             "#fb9f3a"
            ],
            [
             0.8888888888888888,
             "#fdca26"
            ],
            [
             1,
             "#f0f921"
            ]
           ]
          },
          "colorway": [
           "#636efa",
           "#EF553B",
           "#00cc96",
           "#ab63fa",
           "#FFA15A",
           "#19d3f3",
           "#FF6692",
           "#B6E880",
           "#FF97FF",
           "#FECB52"
          ],
          "font": {
           "color": "#2a3f5f"
          },
          "geo": {
           "bgcolor": "white",
           "lakecolor": "white",
           "landcolor": "#E5ECF6",
           "showlakes": true,
           "showland": true,
           "subunitcolor": "white"
          },
          "hoverlabel": {
           "align": "left"
          },
          "hovermode": "closest",
          "mapbox": {
           "style": "light"
          },
          "paper_bgcolor": "white",
          "plot_bgcolor": "#E5ECF6",
          "polar": {
           "angularaxis": {
            "gridcolor": "white",
            "linecolor": "white",
            "ticks": ""
           },
           "bgcolor": "#E5ECF6",
           "radialaxis": {
            "gridcolor": "white",
            "linecolor": "white",
            "ticks": ""
           }
          },
          "scene": {
           "xaxis": {
            "backgroundcolor": "#E5ECF6",
            "gridcolor": "white",
            "gridwidth": 2,
            "linecolor": "white",
            "showbackground": true,
            "ticks": "",
            "zerolinecolor": "white"
           },
           "yaxis": {
            "backgroundcolor": "#E5ECF6",
            "gridcolor": "white",
            "gridwidth": 2,
            "linecolor": "white",
            "showbackground": true,
            "ticks": "",
            "zerolinecolor": "white"
           },
           "zaxis": {
            "backgroundcolor": "#E5ECF6",
            "gridcolor": "white",
            "gridwidth": 2,
            "linecolor": "white",
            "showbackground": true,
            "ticks": "",
            "zerolinecolor": "white"
           }
          },
          "shapedefaults": {
           "line": {
            "color": "#2a3f5f"
           }
          },
          "ternary": {
           "aaxis": {
            "gridcolor": "white",
            "linecolor": "white",
            "ticks": ""
           },
           "baxis": {
            "gridcolor": "white",
            "linecolor": "white",
            "ticks": ""
           },
           "bgcolor": "#E5ECF6",
           "caxis": {
            "gridcolor": "white",
            "linecolor": "white",
            "ticks": ""
           }
          },
          "title": {
           "x": 0.05
          },
          "xaxis": {
           "automargin": true,
           "gridcolor": "white",
           "linecolor": "white",
           "ticks": "",
           "title": {
            "standoff": 15
           },
           "zerolinecolor": "white",
           "zerolinewidth": 2
          },
          "yaxis": {
           "automargin": true,
           "gridcolor": "white",
           "linecolor": "white",
           "ticks": "",
           "title": {
            "standoff": 15
           },
           "zerolinecolor": "white",
           "zerolinewidth": 2
          }
         }
        },
        "xaxis": {
         "anchor": "y",
         "domain": [
          0,
          1
         ],
         "title": {
          "text": "x"
         }
        },
        "yaxis": {
         "anchor": "x",
         "domain": [
          0,
          1
         ],
         "title": {
          "text": "y"
         }
        }
       }
      },
      "text/html": [
       "<div>                            <div id=\"ad80fb59-8048-4c5f-908b-d44f93f86564\" class=\"plotly-graph-div\" style=\"height:525px; width:100%;\"></div>            <script type=\"text/javascript\">                require([\"plotly\"], function(Plotly) {                    window.PLOTLYENV=window.PLOTLYENV || {};                                    if (document.getElementById(\"ad80fb59-8048-4c5f-908b-d44f93f86564\")) {                    Plotly.newPlot(                        \"ad80fb59-8048-4c5f-908b-d44f93f86564\",                        [{\"customdata\":[[\"Africa East\"],[\"Africa West\"],[\"Arab countries\"],[\"Morocco\"]],\"hovertemplate\":\"Continent=Africa<br>x=%{x}<br>y=%{y}<br>Country=%{customdata[0]}<extra></extra>\",\"legendgroup\":\"Africa\",\"marker\":{\"color\":\"#636efa\",\"symbol\":\"circle\"},\"mode\":\"markers\",\"name\":\"Africa\",\"orientation\":\"v\",\"showlegend\":true,\"x\":[-18.288658142089844,-23.02690887451172,-18.24427032470703,-18.688400268554688],\"xaxis\":\"x\",\"y\":[-1.4363123178482056,22.002906799316406,-7.841552257537842,-6.548094272613525],\"yaxis\":\"y\",\"type\":\"scatter\"},{\"customdata\":[[\"Argentina\"],[\"Brazil\"],[\"Chile\"],[\"Colombia\"],[\"Peru\"],[\"Uruguay\"],[\"Venezuela\"]],\"hovertemplate\":\"Continent=South America<br>x=%{x}<br>y=%{y}<br>Country=%{customdata[0]}<extra></extra>\",\"legendgroup\":\"South America\",\"marker\":{\"color\":\"#EF553B\",\"symbol\":\"circle\"},\"mode\":\"markers\",\"name\":\"South America\",\"orientation\":\"v\",\"showlegend\":true,\"x\":[-18.520153045654297,-5.1315836906433105,-16.319698333740234,-19.73612403869629,-16.208459854125977,-15.816681861877441,-18.403623580932617],\"xaxis\":\"x\",\"y\":[9.05834674835205,6.925978660583496,12.704339027404785,20.551589965820312,6.047463417053223,8.728106498718262,21.53770637512207],\"yaxis\":\"y\",\"type\":\"scatter\"},{\"customdata\":[[\"Australia\"],[\"New Zealand\"]],\"hovertemplate\":\"Continent=Oceania<br>x=%{x}<br>y=%{y}<br>Country=%{customdata[0]}<extra></extra>\",\"legendgroup\":\"Oceania\",\"marker\":{\"color\":\"#00cc96\",\"symbol\":\"circle\"},\"mode\":\"markers\",\"name\":\"Oceania\",\"orientation\":\"v\",\"showlegend\":true,\"x\":[45.38166046142578,42.708553314208984],\"xaxis\":\"x\",\"y\":[26.585147857666016,24.25360870361328],\"yaxis\":\"y\",\"type\":\"scatter\"},{\"customdata\":[[\"Austria\"],[\"Belgium\"],[\"Bulgaria\"],[\"Croatia\"],[\"Czech Republic\"],[\"Denmark\"],[\"Estonia\"],[\"Finland\"],[\"France\"],[\"Germany\"],[\"Great Britain\"],[\"Greece\"],[\"Hungary\"],[\"Ireland\"],[\"Italy\"],[\"Latvia\"],[\"Lithuania\"],[\"Luxembourg\"],[\"Malta\"],[\"Netherlands\"],[\"Norway\"],[\"Poland\"],[\"Portugal\"],[\"Romania\"],[\"Russia\"],[\"Serbia\"],[\"Slovak Republic\"],[\"Slovenia\"],[\"Spain\"],[\"Sweden\"],[\"Switzerland\"]],\"hovertemplate\":\"Continent=Europe<br>x=%{x}<br>y=%{y}<br>Country=%{customdata[0]}<extra></extra>\",\"legendgroup\":\"Europe\",\"marker\":{\"color\":\"#ab63fa\",\"symbol\":\"circle\"},\"mode\":\"markers\",\"name\":\"Europe\",\"orientation\":\"v\",\"showlegend\":true,\"x\":[23.076187133789062,6.627879619598389,-16.262332916259766,-17.83273696899414,15.873089790344238,22.757152557373047,27.201160430908203,24.155942916870117,5.322145462036133,21.43568229675293,40.770545959472656,-9.91613483428955,16.60479736328125,43.67934036254883,15.883352279663086,27.950010299682617,28.498172760009766,24.06220054626465,-0.2998720109462738,20.449871063232422,23.713022232055664,-0.44114723801612854,-14.574502944946289,-18.571510314941406,-15.308356285095215,-19.124876022338867,2.7366673946380615,-6.469214916229248,-1.7055706977844238,21.493085861206055,22.698257446289062],\"xaxis\":\"x\",\"y\":[6.550602912902832,4.23795223236084,-31.765954971313477,-31.246580123901367,1.4192360639572144,37.91164779663086,-27.25089454650879,33.22430419921875,4.484026908874512,3.0235657691955566,27.92538833618164,8.815067291259766,-1.5919387340545654,22.421710968017578,-0.33967939019203186,-29.361167907714844,-27.80221939086914,3.450167179107666,4.654495716094971,35.36090087890625,34.43949508666992,8.523371696472168,7.987496852874756,-34.631290435791016,-34.222434997558594,-33.42704391479492,-24.383005142211914,2.6717984676361084,6.339608192443848,37.08091354370117,4.340000152587891],\"yaxis\":\"y\",\"type\":\"scatter\"},{\"customdata\":[[\"Bangladesh\"],[\"China\"],[\"Hong Kong\"],[\"India\"],[\"Indonesia\"],[\"Iran\"],[\"Japan\"],[\"South Korea\"],[\"Malaysia\"],[\"Pakistan\"],[\"Philippines\"],[\"Singapore\"],[\"Taiwan\"],[\"Thailand\"],[\"Turkey\"],[\"Vietnam\"]],\"hovertemplate\":\"Continent=Asia<br>x=%{x}<br>y=%{y}<br>Country=%{customdata[0]}<extra></extra>\",\"legendgroup\":\"Asia\",\"marker\":{\"color\":\"#FFA15A\",\"symbol\":\"circle\"},\"mode\":\"markers\",\"name\":\"Asia\",\"orientation\":\"v\",\"showlegend\":true,\"x\":[-7.803318500518799,0.22161434590816498,-1.8016023635864258,-1.0973942279815674,-5.775519847869873,-18.842247009277344,19.7064266204834,-22.992877960205078,-15.043508529663086,-10.206419944763184,-15.714326858520508,-3.3076729774475098,-23.69638442993164,-18.004770278930664,-4.071350574493408,-4.104024887084961],\"xaxis\":\"x\",\"y\":[-26.729373931884766,-24.334684371948242,-25.842744827270508,-27.772993087768555,-25.678142547607422,-4.415443420410156,-1.1296038627624512,-26.918819427490234,-13.991683959960938,-28.031219482421875,-12.868629455566406,-22.76006507873535,-25.89695930480957,-0.10259497165679932,6.083652019500732,-25.04123878479004],\"yaxis\":\"y\",\"type\":\"scatter\"},{\"customdata\":[[\"Canada\"],[\"El Salvador\"],[\"Mexico\"],[\"Trinidad and Tobago\"],[\"USA\"]],\"hovertemplate\":\"Continent=North America<br>x=%{x}<br>y=%{y}<br>Country=%{customdata[0]}<extra></extra>\",\"legendgroup\":\"North America\",\"marker\":{\"color\":\"#19d3f3\",\"symbol\":\"circle\"},\"mode\":\"markers\",\"name\":\"North America\",\"orientation\":\"v\",\"showlegend\":true,\"x\":[42.44517517089844,-17.238014221191406,-16.933788299560547,-22.771728515625,44.14382553100586],\"xaxis\":\"x\",\"y\":[26.106996536254883,15.451191902160645,21.473711013793945,20.460552215576172,27.1883487701416],\"yaxis\":\"y\",\"type\":\"scatter\"}],                        {\"template\":{\"data\":{\"histogram2dcontour\":[{\"type\":\"histogram2dcontour\",\"colorbar\":{\"outlinewidth\":0,\"ticks\":\"\"},\"colorscale\":[[0.0,\"#0d0887\"],[0.1111111111111111,\"#46039f\"],[0.2222222222222222,\"#7201a8\"],[0.3333333333333333,\"#9c179e\"],[0.4444444444444444,\"#bd3786\"],[0.5555555555555556,\"#d8576b\"],[0.6666666666666666,\"#ed7953\"],[0.7777777777777778,\"#fb9f3a\"],[0.8888888888888888,\"#fdca26\"],[1.0,\"#f0f921\"]]}],\"choropleth\":[{\"type\":\"choropleth\",\"colorbar\":{\"outlinewidth\":0,\"ticks\":\"\"}}],\"histogram2d\":[{\"type\":\"histogram2d\",\"colorbar\":{\"outlinewidth\":0,\"ticks\":\"\"},\"colorscale\":[[0.0,\"#0d0887\"],[0.1111111111111111,\"#46039f\"],[0.2222222222222222,\"#7201a8\"],[0.3333333333333333,\"#9c179e\"],[0.4444444444444444,\"#bd3786\"],[0.5555555555555556,\"#d8576b\"],[0.6666666666666666,\"#ed7953\"],[0.7777777777777778,\"#fb9f3a\"],[0.8888888888888888,\"#fdca26\"],[1.0,\"#f0f921\"]]}],\"heatmap\":[{\"type\":\"heatmap\",\"colorbar\":{\"outlinewidth\":0,\"ticks\":\"\"},\"colorscale\":[[0.0,\"#0d0887\"],[0.1111111111111111,\"#46039f\"],[0.2222222222222222,\"#7201a8\"],[0.3333333333333333,\"#9c179e\"],[0.4444444444444444,\"#bd3786\"],[0.5555555555555556,\"#d8576b\"],[0.6666666666666666,\"#ed7953\"],[0.7777777777777778,\"#fb9f3a\"],[0.8888888888888888,\"#fdca26\"],[1.0,\"#f0f921\"]]}],\"heatmapgl\":[{\"type\":\"heatmapgl\",\"colorbar\":{\"outlinewidth\":0,\"ticks\":\"\"},\"colorscale\":[[0.0,\"#0d0887\"],[0.1111111111111111,\"#46039f\"],[0.2222222222222222,\"#7201a8\"],[0.3333333333333333,\"#9c179e\"],[0.4444444444444444,\"#bd3786\"],[0.5555555555555556,\"#d8576b\"],[0.6666666666666666,\"#ed7953\"],[0.7777777777777778,\"#fb9f3a\"],[0.8888888888888888,\"#fdca26\"],[1.0,\"#f0f921\"]]}],\"contourcarpet\":[{\"type\":\"contourcarpet\",\"colorbar\":{\"outlinewidth\":0,\"ticks\":\"\"}}],\"contour\":[{\"type\":\"contour\",\"colorbar\":{\"outlinewidth\":0,\"ticks\":\"\"},\"colorscale\":[[0.0,\"#0d0887\"],[0.1111111111111111,\"#46039f\"],[0.2222222222222222,\"#7201a8\"],[0.3333333333333333,\"#9c179e\"],[0.4444444444444444,\"#bd3786\"],[0.5555555555555556,\"#d8576b\"],[0.6666666666666666,\"#ed7953\"],[0.7777777777777778,\"#fb9f3a\"],[0.8888888888888888,\"#fdca26\"],[1.0,\"#f0f921\"]]}],\"surface\":[{\"type\":\"surface\",\"colorbar\":{\"outlinewidth\":0,\"ticks\":\"\"},\"colorscale\":[[0.0,\"#0d0887\"],[0.1111111111111111,\"#46039f\"],[0.2222222222222222,\"#7201a8\"],[0.3333333333333333,\"#9c179e\"],[0.4444444444444444,\"#bd3786\"],[0.5555555555555556,\"#d8576b\"],[0.6666666666666666,\"#ed7953\"],[0.7777777777777778,\"#fb9f3a\"],[0.8888888888888888,\"#fdca26\"],[1.0,\"#f0f921\"]]}],\"mesh3d\":[{\"type\":\"mesh3d\",\"colorbar\":{\"outlinewidth\":0,\"ticks\":\"\"}}],\"scatter\":[{\"fillpattern\":{\"fillmode\":\"overlay\",\"size\":10,\"solidity\":0.2},\"type\":\"scatter\"}],\"parcoords\":[{\"type\":\"parcoords\",\"line\":{\"colorbar\":{\"outlinewidth\":0,\"ticks\":\"\"}}}],\"scatterpolargl\":[{\"type\":\"scatterpolargl\",\"marker\":{\"colorbar\":{\"outlinewidth\":0,\"ticks\":\"\"}}}],\"bar\":[{\"error_x\":{\"color\":\"#2a3f5f\"},\"error_y\":{\"color\":\"#2a3f5f\"},\"marker\":{\"line\":{\"color\":\"#E5ECF6\",\"width\":0.5},\"pattern\":{\"fillmode\":\"overlay\",\"size\":10,\"solidity\":0.2}},\"type\":\"bar\"}],\"scattergeo\":[{\"type\":\"scattergeo\",\"marker\":{\"colorbar\":{\"outlinewidth\":0,\"ticks\":\"\"}}}],\"scatterpolar\":[{\"type\":\"scatterpolar\",\"marker\":{\"colorbar\":{\"outlinewidth\":0,\"ticks\":\"\"}}}],\"histogram\":[{\"marker\":{\"pattern\":{\"fillmode\":\"overlay\",\"size\":10,\"solidity\":0.2}},\"type\":\"histogram\"}],\"scattergl\":[{\"type\":\"scattergl\",\"marker\":{\"colorbar\":{\"outlinewidth\":0,\"ticks\":\"\"}}}],\"scatter3d\":[{\"type\":\"scatter3d\",\"line\":{\"colorbar\":{\"outlinewidth\":0,\"ticks\":\"\"}},\"marker\":{\"colorbar\":{\"outlinewidth\":0,\"ticks\":\"\"}}}],\"scattermapbox\":[{\"type\":\"scattermapbox\",\"marker\":{\"colorbar\":{\"outlinewidth\":0,\"ticks\":\"\"}}}],\"scatterternary\":[{\"type\":\"scatterternary\",\"marker\":{\"colorbar\":{\"outlinewidth\":0,\"ticks\":\"\"}}}],\"scattercarpet\":[{\"type\":\"scattercarpet\",\"marker\":{\"colorbar\":{\"outlinewidth\":0,\"ticks\":\"\"}}}],\"carpet\":[{\"aaxis\":{\"endlinecolor\":\"#2a3f5f\",\"gridcolor\":\"white\",\"linecolor\":\"white\",\"minorgridcolor\":\"white\",\"startlinecolor\":\"#2a3f5f\"},\"baxis\":{\"endlinecolor\":\"#2a3f5f\",\"gridcolor\":\"white\",\"linecolor\":\"white\",\"minorgridcolor\":\"white\",\"startlinecolor\":\"#2a3f5f\"},\"type\":\"carpet\"}],\"table\":[{\"cells\":{\"fill\":{\"color\":\"#EBF0F8\"},\"line\":{\"color\":\"white\"}},\"header\":{\"fill\":{\"color\":\"#C8D4E3\"},\"line\":{\"color\":\"white\"}},\"type\":\"table\"}],\"barpolar\":[{\"marker\":{\"line\":{\"color\":\"#E5ECF6\",\"width\":0.5},\"pattern\":{\"fillmode\":\"overlay\",\"size\":10,\"solidity\":0.2}},\"type\":\"barpolar\"}],\"pie\":[{\"automargin\":true,\"type\":\"pie\"}]},\"layout\":{\"autotypenumbers\":\"strict\",\"colorway\":[\"#636efa\",\"#EF553B\",\"#00cc96\",\"#ab63fa\",\"#FFA15A\",\"#19d3f3\",\"#FF6692\",\"#B6E880\",\"#FF97FF\",\"#FECB52\"],\"font\":{\"color\":\"#2a3f5f\"},\"hovermode\":\"closest\",\"hoverlabel\":{\"align\":\"left\"},\"paper_bgcolor\":\"white\",\"plot_bgcolor\":\"#E5ECF6\",\"polar\":{\"bgcolor\":\"#E5ECF6\",\"angularaxis\":{\"gridcolor\":\"white\",\"linecolor\":\"white\",\"ticks\":\"\"},\"radialaxis\":{\"gridcolor\":\"white\",\"linecolor\":\"white\",\"ticks\":\"\"}},\"ternary\":{\"bgcolor\":\"#E5ECF6\",\"aaxis\":{\"gridcolor\":\"white\",\"linecolor\":\"white\",\"ticks\":\"\"},\"baxis\":{\"gridcolor\":\"white\",\"linecolor\":\"white\",\"ticks\":\"\"},\"caxis\":{\"gridcolor\":\"white\",\"linecolor\":\"white\",\"ticks\":\"\"}},\"coloraxis\":{\"colorbar\":{\"outlinewidth\":0,\"ticks\":\"\"}},\"colorscale\":{\"sequential\":[[0.0,\"#0d0887\"],[0.1111111111111111,\"#46039f\"],[0.2222222222222222,\"#7201a8\"],[0.3333333333333333,\"#9c179e\"],[0.4444444444444444,\"#bd3786\"],[0.5555555555555556,\"#d8576b\"],[0.6666666666666666,\"#ed7953\"],[0.7777777777777778,\"#fb9f3a\"],[0.8888888888888888,\"#fdca26\"],[1.0,\"#f0f921\"]],\"sequentialminus\":[[0.0,\"#0d0887\"],[0.1111111111111111,\"#46039f\"],[0.2222222222222222,\"#7201a8\"],[0.3333333333333333,\"#9c179e\"],[0.4444444444444444,\"#bd3786\"],[0.5555555555555556,\"#d8576b\"],[0.6666666666666666,\"#ed7953\"],[0.7777777777777778,\"#fb9f3a\"],[0.8888888888888888,\"#fdca26\"],[1.0,\"#f0f921\"]],\"diverging\":[[0,\"#8e0152\"],[0.1,\"#c51b7d\"],[0.2,\"#de77ae\"],[0.3,\"#f1b6da\"],[0.4,\"#fde0ef\"],[0.5,\"#f7f7f7\"],[0.6,\"#e6f5d0\"],[0.7,\"#b8e186\"],[0.8,\"#7fbc41\"],[0.9,\"#4d9221\"],[1,\"#276419\"]]},\"xaxis\":{\"gridcolor\":\"white\",\"linecolor\":\"white\",\"ticks\":\"\",\"title\":{\"standoff\":15},\"zerolinecolor\":\"white\",\"automargin\":true,\"zerolinewidth\":2},\"yaxis\":{\"gridcolor\":\"white\",\"linecolor\":\"white\",\"ticks\":\"\",\"title\":{\"standoff\":15},\"zerolinecolor\":\"white\",\"automargin\":true,\"zerolinewidth\":2},\"scene\":{\"xaxis\":{\"backgroundcolor\":\"#E5ECF6\",\"gridcolor\":\"white\",\"linecolor\":\"white\",\"showbackground\":true,\"ticks\":\"\",\"zerolinecolor\":\"white\",\"gridwidth\":2},\"yaxis\":{\"backgroundcolor\":\"#E5ECF6\",\"gridcolor\":\"white\",\"linecolor\":\"white\",\"showbackground\":true,\"ticks\":\"\",\"zerolinecolor\":\"white\",\"gridwidth\":2},\"zaxis\":{\"backgroundcolor\":\"#E5ECF6\",\"gridcolor\":\"white\",\"linecolor\":\"white\",\"showbackground\":true,\"ticks\":\"\",\"zerolinecolor\":\"white\",\"gridwidth\":2}},\"shapedefaults\":{\"line\":{\"color\":\"#2a3f5f\"}},\"annotationdefaults\":{\"arrowcolor\":\"#2a3f5f\",\"arrowhead\":0,\"arrowwidth\":1},\"geo\":{\"bgcolor\":\"white\",\"landcolor\":\"#E5ECF6\",\"subunitcolor\":\"white\",\"showland\":true,\"showlakes\":true,\"lakecolor\":\"white\"},\"title\":{\"x\":0.05},\"mapbox\":{\"style\":\"light\"}}},\"xaxis\":{\"anchor\":\"y\",\"domain\":[0.0,1.0],\"title\":{\"text\":\"x\"}},\"yaxis\":{\"anchor\":\"x\",\"domain\":[0.0,1.0],\"title\":{\"text\":\"y\"}},\"legend\":{\"title\":{\"text\":\"Continent\"},\"tracegroupgap\":0},\"margin\":{\"t\":60}},                        {\"responsive\": true}                    ).then(function(){\n",
       "                            \n",
       "var gd = document.getElementById('ad80fb59-8048-4c5f-908b-d44f93f86564');\n",
       "var x = new MutationObserver(function (mutations, observer) {{\n",
       "        var display = window.getComputedStyle(gd).display;\n",
       "        if (!display || display === 'none') {{\n",
       "            console.log([gd, 'removed!']);\n",
       "            Plotly.purge(gd);\n",
       "            observer.disconnect();\n",
       "        }}\n",
       "}});\n",
       "\n",
       "// Listen for the removal of the full notebook cells\n",
       "var notebookContainer = gd.closest('#notebook-container');\n",
       "if (notebookContainer) {{\n",
       "    x.observe(notebookContainer, {childList: true});\n",
       "}}\n",
       "\n",
       "// Listen for the clearing of the current output cell\n",
       "var outputEl = gd.closest('.output');\n",
       "if (outputEl) {{\n",
       "    x.observe(outputEl, {childList: true});\n",
       "}}\n",
       "\n",
       "                        })                };                });            </script>        </div>"
      ]
     },
     "metadata": {},
     "output_type": "display_data"
    }
   ],
   "source": [
    "fig = px.scatter(df_to_plot, x='x', y='y', hover_data=['Country'], color='Continent')\n",
    "fig.show()"
   ]
  },
  {
   "cell_type": "code",
   "execution_count": null,
   "id": "c612c801",
   "metadata": {},
   "outputs": [],
   "source": []
  }
 ],
 "metadata": {
  "kernelspec": {
   "display_name": "Python 3 (ipykernel)",
   "language": "python",
   "name": "python3"
  },
  "language_info": {
   "codemirror_mode": {
    "name": "ipython",
    "version": 3
   },
   "file_extension": ".py",
   "mimetype": "text/x-python",
   "name": "python",
   "nbconvert_exporter": "python",
   "pygments_lexer": "ipython3",
   "version": "3.9.13"
  }
 },
 "nbformat": 4,
 "nbformat_minor": 5
}
