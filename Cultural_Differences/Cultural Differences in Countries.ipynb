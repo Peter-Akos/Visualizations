{
 "cells": [
  {
   "cell_type": "markdown",
   "id": "f47bd073",
   "metadata": {},
   "source": [
    "# Cultural Differences in countries based on The Hofstede model \n",
    "\n",
    "The six dimensions of national culture are based on extensive research done by Professor Geert Hofstede, Gert Jan Hofstede, Michael Minkov and their research teams. The cultural dimensions represent independent preferences for one state of affairs over another that distinguish countries (rather than individuals) from each other.\n",
    "\n",
    "More details about what these values represent:\n",
    "https://en.wikipedia.org/wiki/Hofstede%27s_cultural_dimensions_theory\n",
    "\n",
    "Source of the data:\n",
    "https://geerthofstede.com/research-and-vsm/dimension-data-matrix/"
   ]
  },
  {
   "cell_type": "markdown",
   "id": "7ff627f8",
   "metadata": {},
   "source": [
    "#### You can check out the interactive graph at\n",
    "#### https://peter-akos.github.io/Visualizations/Cultural_Differences/cultural_differences.html\n"
   ]
  },
  {
   "cell_type": "code",
   "execution_count": 1,
   "id": "cb36e253",
   "metadata": {},
   "outputs": [],
   "source": [
    "!pip install pandas scikit-learn plotly pycountry_convert seaborn kaleido -qqq\n",
    "!pip install --upgrade nbformat -qqq"
   ]
  },
  {
   "cell_type": "code",
   "execution_count": 2,
   "id": "6656a869",
   "metadata": {},
   "outputs": [],
   "source": [
    "import pandas as pd\n",
    "from sklearn.manifold import TSNE\n",
    "import plotly.express as px\n",
    "import pycountry_convert as pc"
   ]
  },
  {
   "cell_type": "code",
   "execution_count": 3,
   "id": "9b82df8c",
   "metadata": {},
   "outputs": [
    {
     "data": {
      "text/html": [
       "<div>\n",
       "<style scoped>\n",
       "    .dataframe tbody tr th:only-of-type {\n",
       "        vertical-align: middle;\n",
       "    }\n",
       "\n",
       "    .dataframe tbody tr th {\n",
       "        vertical-align: top;\n",
       "    }\n",
       "\n",
       "    .dataframe thead th {\n",
       "        text-align: right;\n",
       "    }\n",
       "</style>\n",
       "<table border=\"1\" class=\"dataframe\">\n",
       "  <thead>\n",
       "    <tr style=\"text-align: right;\">\n",
       "      <th></th>\n",
       "      <th>ctr</th>\n",
       "      <th>country</th>\n",
       "      <th>pdi</th>\n",
       "      <th>idv</th>\n",
       "      <th>mas</th>\n",
       "      <th>uai</th>\n",
       "      <th>ltowvs</th>\n",
       "      <th>ivr</th>\n",
       "    </tr>\n",
       "  </thead>\n",
       "  <tbody>\n",
       "    <tr>\n",
       "      <th>0</th>\n",
       "      <td>AFE</td>\n",
       "      <td>Africa East</td>\n",
       "      <td>64</td>\n",
       "      <td>27</td>\n",
       "      <td>41</td>\n",
       "      <td>52</td>\n",
       "      <td>32</td>\n",
       "      <td>40</td>\n",
       "    </tr>\n",
       "    <tr>\n",
       "      <th>1</th>\n",
       "      <td>AFW</td>\n",
       "      <td>Africa West</td>\n",
       "      <td>77</td>\n",
       "      <td>20</td>\n",
       "      <td>46</td>\n",
       "      <td>54</td>\n",
       "      <td>9</td>\n",
       "      <td>78</td>\n",
       "    </tr>\n",
       "    <tr>\n",
       "      <th>2</th>\n",
       "      <td>ALB</td>\n",
       "      <td>Albania</td>\n",
       "      <td>#NULL!</td>\n",
       "      <td>#NULL!</td>\n",
       "      <td>#NULL!</td>\n",
       "      <td>#NULL!</td>\n",
       "      <td>61</td>\n",
       "      <td>15</td>\n",
       "    </tr>\n",
       "    <tr>\n",
       "      <th>3</th>\n",
       "      <td>ALG</td>\n",
       "      <td>Algeria</td>\n",
       "      <td>#NULL!</td>\n",
       "      <td>#NULL!</td>\n",
       "      <td>#NULL!</td>\n",
       "      <td>#NULL!</td>\n",
       "      <td>26</td>\n",
       "      <td>32</td>\n",
       "    </tr>\n",
       "    <tr>\n",
       "      <th>4</th>\n",
       "      <td>AND</td>\n",
       "      <td>Andorra</td>\n",
       "      <td>#NULL!</td>\n",
       "      <td>#NULL!</td>\n",
       "      <td>#NULL!</td>\n",
       "      <td>#NULL!</td>\n",
       "      <td>#NULL!</td>\n",
       "      <td>65</td>\n",
       "    </tr>\n",
       "    <tr>\n",
       "      <th>...</th>\n",
       "      <td>...</td>\n",
       "      <td>...</td>\n",
       "      <td>...</td>\n",
       "      <td>...</td>\n",
       "      <td>...</td>\n",
       "      <td>...</td>\n",
       "      <td>...</td>\n",
       "      <td>...</td>\n",
       "    </tr>\n",
       "    <tr>\n",
       "      <th>106</th>\n",
       "      <td>URU</td>\n",
       "      <td>Uruguay</td>\n",
       "      <td>61</td>\n",
       "      <td>36</td>\n",
       "      <td>38</td>\n",
       "      <td>100</td>\n",
       "      <td>26</td>\n",
       "      <td>53</td>\n",
       "    </tr>\n",
       "    <tr>\n",
       "      <th>107</th>\n",
       "      <td>VEN</td>\n",
       "      <td>Venezuela</td>\n",
       "      <td>81</td>\n",
       "      <td>12</td>\n",
       "      <td>73</td>\n",
       "      <td>76</td>\n",
       "      <td>16</td>\n",
       "      <td>100</td>\n",
       "    </tr>\n",
       "    <tr>\n",
       "      <th>108</th>\n",
       "      <td>VIE</td>\n",
       "      <td>Vietnam</td>\n",
       "      <td>70</td>\n",
       "      <td>20</td>\n",
       "      <td>40</td>\n",
       "      <td>30</td>\n",
       "      <td>57</td>\n",
       "      <td>35</td>\n",
       "    </tr>\n",
       "    <tr>\n",
       "      <th>109</th>\n",
       "      <td>ZAM</td>\n",
       "      <td>Zambia</td>\n",
       "      <td>#NULL!</td>\n",
       "      <td>#NULL!</td>\n",
       "      <td>#NULL!</td>\n",
       "      <td>#NULL!</td>\n",
       "      <td>30</td>\n",
       "      <td>42</td>\n",
       "    </tr>\n",
       "    <tr>\n",
       "      <th>110</th>\n",
       "      <td>ZIM</td>\n",
       "      <td>Zimbabwe</td>\n",
       "      <td>#NULL!</td>\n",
       "      <td>#NULL!</td>\n",
       "      <td>#NULL!</td>\n",
       "      <td>#NULL!</td>\n",
       "      <td>15</td>\n",
       "      <td>28</td>\n",
       "    </tr>\n",
       "  </tbody>\n",
       "</table>\n",
       "<p>111 rows × 8 columns</p>\n",
       "</div>"
      ],
      "text/plain": [
       "     ctr      country     pdi     idv     mas     uai  ltowvs  ivr\n",
       "0    AFE  Africa East      64      27      41      52      32   40\n",
       "1    AFW  Africa West      77      20      46      54       9   78\n",
       "2    ALB      Albania  #NULL!  #NULL!  #NULL!  #NULL!      61   15\n",
       "3    ALG      Algeria  #NULL!  #NULL!  #NULL!  #NULL!      26   32\n",
       "4    AND      Andorra  #NULL!  #NULL!  #NULL!  #NULL!  #NULL!   65\n",
       "..   ...          ...     ...     ...     ...     ...     ...  ...\n",
       "106  URU      Uruguay      61      36      38     100      26   53\n",
       "107  VEN    Venezuela      81      12      73      76      16  100\n",
       "108  VIE      Vietnam      70      20      40      30      57   35\n",
       "109  ZAM       Zambia  #NULL!  #NULL!  #NULL!  #NULL!      30   42\n",
       "110  ZIM     Zimbabwe  #NULL!  #NULL!  #NULL!  #NULL!      15   28\n",
       "\n",
       "[111 rows x 8 columns]"
      ]
     },
     "execution_count": 3,
     "metadata": {},
     "output_type": "execute_result"
    }
   ],
   "source": [
    "df = pd.read_csv('national_culture.csv', sep=';')\n",
    "df"
   ]
  },
  {
   "cell_type": "markdown",
   "id": "e029b053",
   "metadata": {},
   "source": [
    "#### Since the data contains a lot of NULL values we need to get rid of them"
   ]
  },
  {
   "cell_type": "code",
   "execution_count": 4,
   "id": "695ae910",
   "metadata": {},
   "outputs": [],
   "source": [
    "def convert(n):\n",
    "    if n=='#NULL!':\n",
    "        return None\n",
    "    return int(n)"
   ]
  },
  {
   "cell_type": "code",
   "execution_count": 87,
   "id": "19b99172",
   "metadata": {},
   "outputs": [],
   "source": [
    "df['pdi'] = df['pdi'].apply(convert)\n",
    "df['idv'] = df['idv'].apply(convert)\n",
    "df['mas'] = df['mas'].apply(convert)\n",
    "df['uai'] = df['uai'].apply(convert)\n",
    "df['ltowvs'] = df['ltowvs'].apply(convert)\n",
    "df['ivr'] = df['ivr'].apply(convert)\n",
    "df = df.dropna()"
   ]
  },
  {
   "cell_type": "markdown",
   "id": "438d28ab",
   "metadata": {},
   "source": [
    "#### After we are done with the null values, we add the Continent for the color. To do that we'll use the pycountry package. Since our data groups together some countries, that the package will not recognize, we need to add some if statements."
   ]
  },
  {
   "cell_type": "code",
   "execution_count": 88,
   "id": "44dc5401",
   "metadata": {},
   "outputs": [],
   "source": [
    "def country_to_continent(country_name):\n",
    "    if country_name == 'Africa East' or country_name == 'Africa West':\n",
    "        return 'Africa'\n",
    "    if country_name == 'Arab countries':\n",
    "        return 'Asia'\n",
    "    \n",
    "    country_alpha2 = pc.country_name_to_country_alpha2(country_name)\n",
    "    country_continent_code = pc.country_alpha2_to_continent_code(country_alpha2)\n",
    "    country_continent_name = pc.convert_continent_code_to_continent_name(country_continent_code)\n",
    "    return country_continent_name\n",
    "df = df.replace(['Korea South'], 'South Korea')\n",
    "df = df.replace(['Czech Rep'], 'Czech Republic')\n",
    "df = df.replace(['Slovak Rep'], 'Slovak Republic')\n",
    "df = df.replace(['U.S.A.'], 'USA')\n",
    "df['Continent'] = df['country'].apply(country_to_continent)"
   ]
  },
  {
   "cell_type": "code",
   "execution_count": 89,
   "id": "0d14305f",
   "metadata": {
    "scrolled": true
   },
   "outputs": [
    {
     "data": {
      "text/html": [
       "<div>\n",
       "<style scoped>\n",
       "    .dataframe tbody tr th:only-of-type {\n",
       "        vertical-align: middle;\n",
       "    }\n",
       "\n",
       "    .dataframe tbody tr th {\n",
       "        vertical-align: top;\n",
       "    }\n",
       "\n",
       "    .dataframe thead th {\n",
       "        text-align: right;\n",
       "    }\n",
       "</style>\n",
       "<table border=\"1\" class=\"dataframe\">\n",
       "  <thead>\n",
       "    <tr style=\"text-align: right;\">\n",
       "      <th></th>\n",
       "      <th>pdi</th>\n",
       "      <th>idv</th>\n",
       "      <th>mas</th>\n",
       "      <th>uai</th>\n",
       "      <th>ltowvs</th>\n",
       "      <th>ivr</th>\n",
       "    </tr>\n",
       "  </thead>\n",
       "  <tbody>\n",
       "    <tr>\n",
       "      <th>count</th>\n",
       "      <td>65.000000</td>\n",
       "      <td>65.000000</td>\n",
       "      <td>65.00000</td>\n",
       "      <td>65.000000</td>\n",
       "      <td>65.000000</td>\n",
       "      <td>65.000000</td>\n",
       "    </tr>\n",
       "    <tr>\n",
       "      <th>mean</th>\n",
       "      <td>59.307692</td>\n",
       "      <td>44.953846</td>\n",
       "      <td>49.00000</td>\n",
       "      <td>66.538462</td>\n",
       "      <td>48.446154</td>\n",
       "      <td>47.646154</td>\n",
       "    </tr>\n",
       "    <tr>\n",
       "      <th>std</th>\n",
       "      <td>20.450339</td>\n",
       "      <td>23.466353</td>\n",
       "      <td>19.83841</td>\n",
       "      <td>22.718438</td>\n",
       "      <td>23.206297</td>\n",
       "      <td>22.251005</td>\n",
       "    </tr>\n",
       "    <tr>\n",
       "      <th>min</th>\n",
       "      <td>11.000000</td>\n",
       "      <td>12.000000</td>\n",
       "      <td>5.00000</td>\n",
       "      <td>8.000000</td>\n",
       "      <td>9.000000</td>\n",
       "      <td>0.000000</td>\n",
       "    </tr>\n",
       "    <tr>\n",
       "      <th>25%</th>\n",
       "      <td>42.000000</td>\n",
       "      <td>25.000000</td>\n",
       "      <td>40.00000</td>\n",
       "      <td>51.000000</td>\n",
       "      <td>28.000000</td>\n",
       "      <td>29.000000</td>\n",
       "    </tr>\n",
       "    <tr>\n",
       "      <th>50%</th>\n",
       "      <td>63.000000</td>\n",
       "      <td>39.000000</td>\n",
       "      <td>49.00000</td>\n",
       "      <td>68.000000</td>\n",
       "      <td>48.000000</td>\n",
       "      <td>46.000000</td>\n",
       "    </tr>\n",
       "    <tr>\n",
       "      <th>75%</th>\n",
       "      <td>71.000000</td>\n",
       "      <td>67.000000</td>\n",
       "      <td>61.00000</td>\n",
       "      <td>86.000000</td>\n",
       "      <td>64.000000</td>\n",
       "      <td>66.000000</td>\n",
       "    </tr>\n",
       "    <tr>\n",
       "      <th>max</th>\n",
       "      <td>104.000000</td>\n",
       "      <td>91.000000</td>\n",
       "      <td>110.00000</td>\n",
       "      <td>112.000000</td>\n",
       "      <td>100.000000</td>\n",
       "      <td>100.000000</td>\n",
       "    </tr>\n",
       "  </tbody>\n",
       "</table>\n",
       "</div>"
      ],
      "text/plain": [
       "              pdi        idv        mas         uai      ltowvs         ivr\n",
       "count   65.000000  65.000000   65.00000   65.000000   65.000000   65.000000\n",
       "mean    59.307692  44.953846   49.00000   66.538462   48.446154   47.646154\n",
       "std     20.450339  23.466353   19.83841   22.718438   23.206297   22.251005\n",
       "min     11.000000  12.000000    5.00000    8.000000    9.000000    0.000000\n",
       "25%     42.000000  25.000000   40.00000   51.000000   28.000000   29.000000\n",
       "50%     63.000000  39.000000   49.00000   68.000000   48.000000   46.000000\n",
       "75%     71.000000  67.000000   61.00000   86.000000   64.000000   66.000000\n",
       "max    104.000000  91.000000  110.00000  112.000000  100.000000  100.000000"
      ]
     },
     "execution_count": 89,
     "metadata": {},
     "output_type": "execute_result"
    }
   ],
   "source": [
    "df.describe()"
   ]
  },
  {
   "cell_type": "markdown",
   "id": "de276b94",
   "metadata": {},
   "source": [
    "#### Let's initialize the T-distributed Stochastic Neighbor Embedding"
   ]
  },
  {
   "cell_type": "code",
   "execution_count": 90,
   "id": "a9fa2881",
   "metadata": {},
   "outputs": [],
   "source": [
    "model = TSNE(n_components=2, learning_rate='auto', init='random', perplexity=2)"
   ]
  },
  {
   "cell_type": "code",
   "execution_count": 39,
   "id": "5e4b03b6",
   "metadata": {},
   "outputs": [],
   "source": [
    "x = df[['pdi', 'idv', 'mas', 'uai', 'ltowvs', 'ivr']].to_numpy()\n",
    "y = df['country'].to_list()\n",
    "df_dict = df.to_dict()"
   ]
  },
  {
   "cell_type": "code",
   "execution_count": 40,
   "id": "17f220ca",
   "metadata": {},
   "outputs": [],
   "source": [
    "x_embedded_2d = model.fit_transform(x)"
   ]
  },
  {
   "cell_type": "markdown",
   "id": "1c7e9d55",
   "metadata": {},
   "source": [
    "#### Now that we have the coordinates, we just have to add the culture indexes to the plot"
   ]
  },
  {
   "cell_type": "code",
   "execution_count": 41,
   "id": "4e84bcc1",
   "metadata": {},
   "outputs": [],
   "source": [
    "df_to_plot = pd.DataFrame(x_embedded_2d, columns=['x','y'])\n",
    "df_to_plot['Country'] = df_dict['country'].values()\n",
    "df_to_plot['Continent'] = df_dict['Continent'].values()\n",
    "df_to_plot['Power distance'] = df_dict['pdi'].values()\n",
    "df_to_plot['Individualism'] = df_dict['idv'].values()\n",
    "df_to_plot['Uncertainty avoidance'] = df_dict['uai'].values()\n",
    "df_to_plot['Masculinity'] = df_dict['mas'].values()\n",
    "df_to_plot['Short-term orientation'] = df_dict['ltowvs'].values()\n",
    "df_to_plot['Indulgence'] = df_dict['ivr'].values()\n",
    "df_to_plot['ax'] = 0\n",
    "df_to_plot['ay'] = 0"
   ]
  },
  {
   "cell_type": "code",
   "execution_count": 67,
   "id": "6da5a8c4",
   "metadata": {},
   "outputs": [],
   "source": [
    "df_to_plot.to_csv('data_to_plot.csv', index=False)"
   ]
  },
  {
   "cell_type": "code",
   "execution_count": 5,
   "id": "1e4ff175",
   "metadata": {},
   "outputs": [],
   "source": [
    "df_to_plot = pd.read_csv('data_to_plot.csv')"
   ]
  },
  {
   "cell_type": "code",
   "execution_count": 7,
   "id": "85a8a21f",
   "metadata": {},
   "outputs": [],
   "source": [
    "\n",
    "fig = px.scatter(df_to_plot, x='x', y='y',hover_name='Country', hover_data={'Power distance':True, 'Individualism':True,\n",
    "                                                       'Uncertainty avoidance':True, 'Masculinity':True, 'Short-term orientation':True,\n",
    "                                                       'Indulgence':True, 'Continent':False, 'x':False, 'y':False}, color='Continent')\n",
    "fig.update_layout(\n",
    "    hoverlabel=dict(\n",
    "        bgcolor=\"white\",\n",
    "        font_size=16,\n",
    "        font_family=\"open-sans\"\n",
    "    )\n",
    ")\n",
    "fig.update_traces(marker=dict(size=10))\n",
    "fig.update_xaxes(visible=False)\n",
    "fig.update_yaxes(visible=False)\n",
    "fig.update_traces(marker=dict(size=8))\n",
    "fig.update_layout(\n",
    "    margin=dict(l=5,r=5,b=5,t=50),\n",
    "    # paper_bgcolor=\"Black\"\n",
    "    plot_bgcolor='white'\n",
    "    )\n",
    "fig.write_html(\"cultural_differences_2.html\")"
   ]
  },
  {
   "cell_type": "code",
   "execution_count": null,
   "id": "4e5f879f",
   "metadata": {},
   "outputs": [],
   "source": [
    "\n",
    "fig = px.scatter(df_to_plot, x='x', y='y',hover_name='Country', hover_data={'Power distance':True, 'Individualism':True,\n",
    "                                                       'Uncertainty avoidance':True, 'Masculinity':True, 'Short-term orientation':True,\n",
    "                                                       'Indulgence':True, 'Continent':False, 'x':False, 'y':False}, color='Continent')\n",
    "fig.update_layout(\n",
    "    hoverlabel=dict(\n",
    "        bgcolor=\"white\",\n",
    "        font_size=16,\n",
    "        font_family=\"open-sans\"\n",
    "    )\n",
    ")\n",
    "fig.update_traces(marker=dict(size=10))\n",
    "fig.update_xaxes(visible=False)\n",
    "fig.update_yaxes(visible=False)\n",
    "\n",
    "fig.write_html(\"cultural_differences_2d.html\")"
   ]
  },
  {
   "cell_type": "code",
   "execution_count": 105,
   "id": "e24e4ea9",
   "metadata": {},
   "outputs": [
    {
     "data": {
      "application/vnd.plotly.v1+json": {
       "config": {
        "plotlyServerURL": "https://plot.ly"
       },
       "data": [
        {
         "hovertemplate": "<b>%{hovertext}</b><br><br>Continent=Africa<br>x=%{x}<br>y=%{y}<extra></extra>",
         "hovertext": [
          "Africa East",
          "Africa West",
          "Morocco"
         ],
         "legendgroup": "Africa",
         "marker": {
          "color": "#636efa",
          "size": 10,
          "symbol": "circle"
         },
         "mode": "markers",
         "name": "Africa",
         "orientation": "v",
         "showlegend": true,
         "type": "scatter",
         "x": [
          -3.1670618,
          23.932388,
          -8.789655
         ],
         "xaxis": "x",
         "y": [
          -5.7617188,
          -3.095923,
          -8.493765
         ],
         "yaxis": "y"
        },
        {
         "hovertemplate": "<b>%{hovertext}</b><br><br>Continent=Asia<br>x=%{x}<br>y=%{y}<extra></extra>",
         "hovertext": [
          "Arab countries",
          "Bangladesh",
          "China",
          "Hong Kong",
          "India",
          "Indonesia",
          "Iran",
          "Japan",
          "South Korea",
          "Malaysia",
          "Pakistan",
          "Philippines",
          "Singapore",
          "Taiwan",
          "Thailand",
          "Turkey",
          "Vietnam"
         ],
         "legendgroup": "Asia",
         "marker": {
          "color": "#EF553B",
          "size": 10,
          "symbol": "circle"
         },
         "mode": "markers",
         "name": "Asia",
         "orientation": "v",
         "showlegend": true,
         "type": "scatter",
         "x": [
          -10.008158,
          -21.500597,
          -26.232277,
          -26.87586,
          -29.011234,
          -23.756,
          -6.790982,
          -29.482756,
          -32.08527,
          -18.066704,
          -19.207653,
          -16.990154,
          -27.196238,
          -33.246075,
          -2.0950477,
          -0.47494555,
          -25.323229
         ],
         "xaxis": "x",
         "y": [
          -9.042105,
          -38.016678,
          -44.585434,
          -42.079174,
          -42.301254,
          -38.977844,
          -7.584401,
          30.849949,
          -22.76905,
          -12.564365,
          -37.00525,
          -11.989285,
          -37.89373,
          -22.950296,
          -5.1021304,
          17.045301,
          -39.52214
         ],
         "yaxis": "y"
        },
        {
         "hovertemplate": "<b>%{hovertext}</b><br><br>Continent=South America<br>x=%{x}<br>y=%{y}<extra></extra>",
         "hovertext": [
          "Argentina",
          "Brazil",
          "Chile",
          "Colombia",
          "Peru",
          "Uruguay",
          "Venezuela"
         ],
         "legendgroup": "South America",
         "marker": {
          "color": "#00cc96",
          "size": 10,
          "symbol": "circle"
         },
         "mode": "markers",
         "name": "South America",
         "orientation": "v",
         "showlegend": true,
         "type": "scatter",
         "x": [
          3.1190488,
          0.865462,
          9.176865,
          22.168879,
          5.430708,
          5.54468,
          22.339483
         ],
         "xaxis": "x",
         "y": [
          6.4268737,
          16.903267,
          3.4028308,
          0.90552676,
          1.1227717,
          4.245822,
          2.6169658
         ],
         "yaxis": "y"
        },
        {
         "hovertemplate": "<b>%{hovertext}</b><br><br>Continent=Oceania<br>x=%{x}<br>y=%{y}<extra></extra>",
         "hovertext": [
          "Australia",
          "New Zealand"
         ],
         "legendgroup": "Oceania",
         "marker": {
          "color": "#ab63fa",
          "size": 10,
          "symbol": "circle"
         },
         "mode": "markers",
         "name": "Oceania",
         "orientation": "v",
         "showlegend": true,
         "type": "scatter",
         "x": [
          5.280065,
          10.124152
         ],
         "xaxis": "x",
         "y": [
          61.33973,
          61.875618
         ],
         "yaxis": "y"
        },
        {
         "hovertemplate": "<b>%{hovertext}</b><br><br>Continent=Europe<br>x=%{x}<br>y=%{y}<extra></extra>",
         "hovertext": [
          "Austria",
          "Belgium",
          "Bulgaria",
          "Croatia",
          "Czech Republic",
          "Denmark",
          "Estonia",
          "Finland",
          "France",
          "Germany",
          "Great Britain",
          "Greece",
          "Hungary",
          "Ireland",
          "Italy",
          "Latvia",
          "Lithuania",
          "Luxembourg",
          "Malta",
          "Netherlands",
          "Norway",
          "Poland",
          "Portugal",
          "Romania",
          "Russia",
          "Serbia",
          "Slovak Republic",
          "Slovenia",
          "Spain",
          "Sweden",
          "Switzerland"
         ],
         "legendgroup": "Europe",
         "marker": {
          "color": "#FFA15A",
          "size": 10,
          "symbol": "circle"
         },
         "mode": "markers",
         "name": "Europe",
         "orientation": "v",
         "showlegend": true,
         "type": "scatter",
         "x": [
          -39.163548,
          -10.519574,
          -10.685177,
          -9.375914,
          -24.05194,
          25.790352,
          58.009506,
          31.926855,
          -9.500394,
          -35.48594,
          8.993276,
          6.625902,
          -27.113132,
          11.451724,
          -25.775242,
          58.938015,
          57.70261,
          -37.087326,
          -4.0106707,
          26.344904,
          30.734962,
          -0.72937346,
          4.475273,
          -5.864836,
          -11.297615,
          -6.8870225,
          -26.568527,
          -1.7858459,
          -1.7806787,
          25.801018,
          -36.90284
         ],
         "xaxis": "x",
         "y": [
          28.697872,
          25.461529,
          -32.481762,
          -33.55488,
          28.87361,
          -51.983524,
          12.779288,
          -50.966938,
          24.785255,
          28.214668,
          57.884457,
          8.64129,
          30.150967,
          63.49407,
          29.634142,
          10.368164,
          11.494966,
          25.86712,
          19.652174,
          -48.649494,
          -51.1269,
          21.661089,
          3.500442,
          -32.812572,
          -30.242128,
          -33.510036,
          -46.837173,
          14.3148365,
          19.426228,
          -50.635254,
          27.571875
         ],
         "yaxis": "y"
        },
        {
         "hovertemplate": "<b>%{hovertext}</b><br><br>Continent=North America<br>x=%{x}<br>y=%{y}<extra></extra>",
         "hovertext": [
          "Canada",
          "El Salvador",
          "Mexico",
          "Trinidad and Tobago",
          "USA"
         ],
         "legendgroup": "North America",
         "marker": {
          "color": "#19d3f3",
          "size": 10,
          "symbol": "circle"
         },
         "mode": "markers",
         "name": "North America",
         "orientation": "v",
         "showlegend": true,
         "type": "scatter",
         "x": [
          8.613399,
          11.77015,
          22.550726,
          22.704973,
          6.4412866
         ],
         "xaxis": "x",
         "y": [
          60.313496,
          2.949172,
          4.004285,
          -2.1953115,
          60.7899
         ],
         "yaxis": "y"
        }
       ],
       "layout": {
        "hoverlabel": {
         "bgcolor": "white",
         "font": {
          "family": "open-sans",
          "size": 16
         }
        },
        "legend": {
         "title": {
          "text": "Continent"
         },
         "tracegroupgap": 0,
         "x": 0.99,
         "xanchor": "right",
         "y": 0.01,
         "yanchor": "bottom"
        },
        "margin": {
         "b": 5,
         "l": 5,
         "r": 5,
         "t": 50
        },
        "plot_bgcolor": "white",
        "template": {
         "data": {
          "bar": [
           {
            "error_x": {
             "color": "#2a3f5f"
            },
            "error_y": {
             "color": "#2a3f5f"
            },
            "marker": {
             "line": {
              "color": "#E5ECF6",
              "width": 0.5
             },
             "pattern": {
              "fillmode": "overlay",
              "size": 10,
              "solidity": 0.2
             }
            },
            "type": "bar"
           }
          ],
          "barpolar": [
           {
            "marker": {
             "line": {
              "color": "#E5ECF6",
              "width": 0.5
             },
             "pattern": {
              "fillmode": "overlay",
              "size": 10,
              "solidity": 0.2
             }
            },
            "type": "barpolar"
           }
          ],
          "carpet": [
           {
            "aaxis": {
             "endlinecolor": "#2a3f5f",
             "gridcolor": "white",
             "linecolor": "white",
             "minorgridcolor": "white",
             "startlinecolor": "#2a3f5f"
            },
            "baxis": {
             "endlinecolor": "#2a3f5f",
             "gridcolor": "white",
             "linecolor": "white",
             "minorgridcolor": "white",
             "startlinecolor": "#2a3f5f"
            },
            "type": "carpet"
           }
          ],
          "choropleth": [
           {
            "colorbar": {
             "outlinewidth": 0,
             "ticks": ""
            },
            "type": "choropleth"
           }
          ],
          "contour": [
           {
            "colorbar": {
             "outlinewidth": 0,
             "ticks": ""
            },
            "colorscale": [
             [
              0,
              "#0d0887"
             ],
             [
              0.1111111111111111,
              "#46039f"
             ],
             [
              0.2222222222222222,
              "#7201a8"
             ],
             [
              0.3333333333333333,
              "#9c179e"
             ],
             [
              0.4444444444444444,
              "#bd3786"
             ],
             [
              0.5555555555555556,
              "#d8576b"
             ],
             [
              0.6666666666666666,
              "#ed7953"
             ],
             [
              0.7777777777777778,
              "#fb9f3a"
             ],
             [
              0.8888888888888888,
              "#fdca26"
             ],
             [
              1,
              "#f0f921"
             ]
            ],
            "type": "contour"
           }
          ],
          "contourcarpet": [
           {
            "colorbar": {
             "outlinewidth": 0,
             "ticks": ""
            },
            "type": "contourcarpet"
           }
          ],
          "heatmap": [
           {
            "colorbar": {
             "outlinewidth": 0,
             "ticks": ""
            },
            "colorscale": [
             [
              0,
              "#0d0887"
             ],
             [
              0.1111111111111111,
              "#46039f"
             ],
             [
              0.2222222222222222,
              "#7201a8"
             ],
             [
              0.3333333333333333,
              "#9c179e"
             ],
             [
              0.4444444444444444,
              "#bd3786"
             ],
             [
              0.5555555555555556,
              "#d8576b"
             ],
             [
              0.6666666666666666,
              "#ed7953"
             ],
             [
              0.7777777777777778,
              "#fb9f3a"
             ],
             [
              0.8888888888888888,
              "#fdca26"
             ],
             [
              1,
              "#f0f921"
             ]
            ],
            "type": "heatmap"
           }
          ],
          "heatmapgl": [
           {
            "colorbar": {
             "outlinewidth": 0,
             "ticks": ""
            },
            "colorscale": [
             [
              0,
              "#0d0887"
             ],
             [
              0.1111111111111111,
              "#46039f"
             ],
             [
              0.2222222222222222,
              "#7201a8"
             ],
             [
              0.3333333333333333,
              "#9c179e"
             ],
             [
              0.4444444444444444,
              "#bd3786"
             ],
             [
              0.5555555555555556,
              "#d8576b"
             ],
             [
              0.6666666666666666,
              "#ed7953"
             ],
             [
              0.7777777777777778,
              "#fb9f3a"
             ],
             [
              0.8888888888888888,
              "#fdca26"
             ],
             [
              1,
              "#f0f921"
             ]
            ],
            "type": "heatmapgl"
           }
          ],
          "histogram": [
           {
            "marker": {
             "pattern": {
              "fillmode": "overlay",
              "size": 10,
              "solidity": 0.2
             }
            },
            "type": "histogram"
           }
          ],
          "histogram2d": [
           {
            "colorbar": {
             "outlinewidth": 0,
             "ticks": ""
            },
            "colorscale": [
             [
              0,
              "#0d0887"
             ],
             [
              0.1111111111111111,
              "#46039f"
             ],
             [
              0.2222222222222222,
              "#7201a8"
             ],
             [
              0.3333333333333333,
              "#9c179e"
             ],
             [
              0.4444444444444444,
              "#bd3786"
             ],
             [
              0.5555555555555556,
              "#d8576b"
             ],
             [
              0.6666666666666666,
              "#ed7953"
             ],
             [
              0.7777777777777778,
              "#fb9f3a"
             ],
             [
              0.8888888888888888,
              "#fdca26"
             ],
             [
              1,
              "#f0f921"
             ]
            ],
            "type": "histogram2d"
           }
          ],
          "histogram2dcontour": [
           {
            "colorbar": {
             "outlinewidth": 0,
             "ticks": ""
            },
            "colorscale": [
             [
              0,
              "#0d0887"
             ],
             [
              0.1111111111111111,
              "#46039f"
             ],
             [
              0.2222222222222222,
              "#7201a8"
             ],
             [
              0.3333333333333333,
              "#9c179e"
             ],
             [
              0.4444444444444444,
              "#bd3786"
             ],
             [
              0.5555555555555556,
              "#d8576b"
             ],
             [
              0.6666666666666666,
              "#ed7953"
             ],
             [
              0.7777777777777778,
              "#fb9f3a"
             ],
             [
              0.8888888888888888,
              "#fdca26"
             ],
             [
              1,
              "#f0f921"
             ]
            ],
            "type": "histogram2dcontour"
           }
          ],
          "mesh3d": [
           {
            "colorbar": {
             "outlinewidth": 0,
             "ticks": ""
            },
            "type": "mesh3d"
           }
          ],
          "parcoords": [
           {
            "line": {
             "colorbar": {
              "outlinewidth": 0,
              "ticks": ""
             }
            },
            "type": "parcoords"
           }
          ],
          "pie": [
           {
            "automargin": true,
            "type": "pie"
           }
          ],
          "scatter": [
           {
            "fillpattern": {
             "fillmode": "overlay",
             "size": 10,
             "solidity": 0.2
            },
            "type": "scatter"
           }
          ],
          "scatter3d": [
           {
            "line": {
             "colorbar": {
              "outlinewidth": 0,
              "ticks": ""
             }
            },
            "marker": {
             "colorbar": {
              "outlinewidth": 0,
              "ticks": ""
             }
            },
            "type": "scatter3d"
           }
          ],
          "scattercarpet": [
           {
            "marker": {
             "colorbar": {
              "outlinewidth": 0,
              "ticks": ""
             }
            },
            "type": "scattercarpet"
           }
          ],
          "scattergeo": [
           {
            "marker": {
             "colorbar": {
              "outlinewidth": 0,
              "ticks": ""
             }
            },
            "type": "scattergeo"
           }
          ],
          "scattergl": [
           {
            "marker": {
             "colorbar": {
              "outlinewidth": 0,
              "ticks": ""
             }
            },
            "type": "scattergl"
           }
          ],
          "scattermapbox": [
           {
            "marker": {
             "colorbar": {
              "outlinewidth": 0,
              "ticks": ""
             }
            },
            "type": "scattermapbox"
           }
          ],
          "scatterpolar": [
           {
            "marker": {
             "colorbar": {
              "outlinewidth": 0,
              "ticks": ""
             }
            },
            "type": "scatterpolar"
           }
          ],
          "scatterpolargl": [
           {
            "marker": {
             "colorbar": {
              "outlinewidth": 0,
              "ticks": ""
             }
            },
            "type": "scatterpolargl"
           }
          ],
          "scatterternary": [
           {
            "marker": {
             "colorbar": {
              "outlinewidth": 0,
              "ticks": ""
             }
            },
            "type": "scatterternary"
           }
          ],
          "surface": [
           {
            "colorbar": {
             "outlinewidth": 0,
             "ticks": ""
            },
            "colorscale": [
             [
              0,
              "#0d0887"
             ],
             [
              0.1111111111111111,
              "#46039f"
             ],
             [
              0.2222222222222222,
              "#7201a8"
             ],
             [
              0.3333333333333333,
              "#9c179e"
             ],
             [
              0.4444444444444444,
              "#bd3786"
             ],
             [
              0.5555555555555556,
              "#d8576b"
             ],
             [
              0.6666666666666666,
              "#ed7953"
             ],
             [
              0.7777777777777778,
              "#fb9f3a"
             ],
             [
              0.8888888888888888,
              "#fdca26"
             ],
             [
              1,
              "#f0f921"
             ]
            ],
            "type": "surface"
           }
          ],
          "table": [
           {
            "cells": {
             "fill": {
              "color": "#EBF0F8"
             },
             "line": {
              "color": "white"
             }
            },
            "header": {
             "fill": {
              "color": "#C8D4E3"
             },
             "line": {
              "color": "white"
             }
            },
            "type": "table"
           }
          ]
         },
         "layout": {
          "annotationdefaults": {
           "arrowcolor": "#2a3f5f",
           "arrowhead": 0,
           "arrowwidth": 1
          },
          "autotypenumbers": "strict",
          "coloraxis": {
           "colorbar": {
            "outlinewidth": 0,
            "ticks": ""
           }
          },
          "colorscale": {
           "diverging": [
            [
             0,
             "#8e0152"
            ],
            [
             0.1,
             "#c51b7d"
            ],
            [
             0.2,
             "#de77ae"
            ],
            [
             0.3,
             "#f1b6da"
            ],
            [
             0.4,
             "#fde0ef"
            ],
            [
             0.5,
             "#f7f7f7"
            ],
            [
             0.6,
             "#e6f5d0"
            ],
            [
             0.7,
             "#b8e186"
            ],
            [
             0.8,
             "#7fbc41"
            ],
            [
             0.9,
             "#4d9221"
            ],
            [
             1,
             "#276419"
            ]
           ],
           "sequential": [
            [
             0,
             "#0d0887"
            ],
            [
             0.1111111111111111,
             "#46039f"
            ],
            [
             0.2222222222222222,
             "#7201a8"
            ],
            [
             0.3333333333333333,
             "#9c179e"
            ],
            [
             0.4444444444444444,
             "#bd3786"
            ],
            [
             0.5555555555555556,
             "#d8576b"
            ],
            [
             0.6666666666666666,
             "#ed7953"
            ],
            [
             0.7777777777777778,
             "#fb9f3a"
            ],
            [
             0.8888888888888888,
             "#fdca26"
            ],
            [
             1,
             "#f0f921"
            ]
           ],
           "sequentialminus": [
            [
             0,
             "#0d0887"
            ],
            [
             0.1111111111111111,
             "#46039f"
            ],
            [
             0.2222222222222222,
             "#7201a8"
            ],
            [
             0.3333333333333333,
             "#9c179e"
            ],
            [
             0.4444444444444444,
             "#bd3786"
            ],
            [
             0.5555555555555556,
             "#d8576b"
            ],
            [
             0.6666666666666666,
             "#ed7953"
            ],
            [
             0.7777777777777778,
             "#fb9f3a"
            ],
            [
             0.8888888888888888,
             "#fdca26"
            ],
            [
             1,
             "#f0f921"
            ]
           ]
          },
          "colorway": [
           "#636efa",
           "#EF553B",
           "#00cc96",
           "#ab63fa",
           "#FFA15A",
           "#19d3f3",
           "#FF6692",
           "#B6E880",
           "#FF97FF",
           "#FECB52"
          ],
          "font": {
           "color": "#2a3f5f"
          },
          "geo": {
           "bgcolor": "white",
           "lakecolor": "white",
           "landcolor": "#E5ECF6",
           "showlakes": true,
           "showland": true,
           "subunitcolor": "white"
          },
          "hoverlabel": {
           "align": "left"
          },
          "hovermode": "closest",
          "mapbox": {
           "style": "light"
          },
          "paper_bgcolor": "white",
          "plot_bgcolor": "#E5ECF6",
          "polar": {
           "angularaxis": {
            "gridcolor": "white",
            "linecolor": "white",
            "ticks": ""
           },
           "bgcolor": "#E5ECF6",
           "radialaxis": {
            "gridcolor": "white",
            "linecolor": "white",
            "ticks": ""
           }
          },
          "scene": {
           "xaxis": {
            "backgroundcolor": "#E5ECF6",
            "gridcolor": "white",
            "gridwidth": 2,
            "linecolor": "white",
            "showbackground": true,
            "ticks": "",
            "zerolinecolor": "white"
           },
           "yaxis": {
            "backgroundcolor": "#E5ECF6",
            "gridcolor": "white",
            "gridwidth": 2,
            "linecolor": "white",
            "showbackground": true,
            "ticks": "",
            "zerolinecolor": "white"
           },
           "zaxis": {
            "backgroundcolor": "#E5ECF6",
            "gridcolor": "white",
            "gridwidth": 2,
            "linecolor": "white",
            "showbackground": true,
            "ticks": "",
            "zerolinecolor": "white"
           }
          },
          "shapedefaults": {
           "line": {
            "color": "#2a3f5f"
           }
          },
          "ternary": {
           "aaxis": {
            "gridcolor": "white",
            "linecolor": "white",
            "ticks": ""
           },
           "baxis": {
            "gridcolor": "white",
            "linecolor": "white",
            "ticks": ""
           },
           "bgcolor": "#E5ECF6",
           "caxis": {
            "gridcolor": "white",
            "linecolor": "white",
            "ticks": ""
           }
          },
          "title": {
           "x": 0.05
          },
          "xaxis": {
           "automargin": true,
           "gridcolor": "white",
           "linecolor": "white",
           "ticks": "",
           "title": {
            "standoff": 15
           },
           "zerolinecolor": "white",
           "zerolinewidth": 2
          },
          "yaxis": {
           "automargin": true,
           "gridcolor": "white",
           "linecolor": "white",
           "ticks": "",
           "title": {
            "standoff": 15
           },
           "zerolinecolor": "white",
           "zerolinewidth": 2
          }
         }
        },
        "xaxis": {
         "anchor": "y",
         "domain": [
          0,
          1
         ],
         "title": {
          "text": "x"
         },
         "visible": false
        },
        "yaxis": {
         "anchor": "x",
         "domain": [
          0,
          1
         ],
         "title": {
          "text": "y"
         },
         "visible": false
        }
       }
      }
     },
     "metadata": {},
     "output_type": "display_data"
    }
   ],
   "source": [
    "df_to_plot = pd.read_csv('data_to_plot.csv')\n",
    "fig = px.scatter(df_to_plot, x='x', y='y',hover_name='Country', color='Continent')\n",
    "fig.update_layout(\n",
    "    hoverlabel=dict(\n",
    "        bgcolor=\"white\",\n",
    "        font_size=16,\n",
    "        font_family=\"open-sans\"\n",
    "    )\n",
    ")\n",
    "fig.update_traces(marker=dict(size=10))\n",
    "fig.update_xaxes(visible=False)\n",
    "fig.update_yaxes(visible=False)\n",
    "fig.update_layout(legend=dict(\n",
    "    yanchor=\"bottom\",\n",
    "    y=0.01,\n",
    "    xanchor=\"right\",\n",
    "    x=0.99\n",
    "))\n",
    "fig.write_image(\"cultural_differences_2d.png\", scale=3, width=1920, height=1080)\n",
    "fig.update_layout(\n",
    "    margin=dict(l=5,r=5,b=5,t=50),\n",
    "    # paper_bgcolor=\"Black\"\n",
    "    plot_bgcolor='white'\n",
    "    )\n",
    "\n",
    "\n",
    "fig.show()"
   ]
  },
  {
   "cell_type": "code",
   "execution_count": 39,
   "id": "5df4d785",
   "metadata": {},
   "outputs": [],
   "source": [
    "model = TSNE(n_components=3, learning_rate='auto', init='random', perplexity=2)"
   ]
  },
  {
   "cell_type": "code",
   "execution_count": 40,
   "id": "6960cb36",
   "metadata": {},
   "outputs": [],
   "source": [
    "x = df[['pdi', 'idv', 'mas', 'uai', 'ltowvs', 'ivr']].to_numpy()\n",
    "y = df['country'].to_list()\n",
    "df_dict = df.to_dict()"
   ]
  },
  {
   "cell_type": "code",
   "execution_count": 41,
   "id": "ed9b2380",
   "metadata": {},
   "outputs": [],
   "source": [
    "x_embedded_3d = model.fit_transform(x)"
   ]
  },
  {
   "cell_type": "markdown",
   "id": "b1203dbd",
   "metadata": {},
   "source": [
    "#### Now that we have the coordinates, we just have to add the culture indexes to the plot"
   ]
  },
  {
   "cell_type": "code",
   "execution_count": 42,
   "id": "cac933e6",
   "metadata": {},
   "outputs": [],
   "source": [
    "df_to_plot = pd.DataFrame(x_embedded_3d, columns=['x','y', 'z'])\n",
    "df_to_plot['Country'] = df_dict['country'].values()\n",
    "df_to_plot['Continent'] = df_dict['Continent'].values()\n",
    "df_to_plot['Power distance'] = df_dict['pdi'].values()\n",
    "df_to_plot['Individualism'] = df_dict['idv'].values()\n",
    "df_to_plot['Uncertainty avoidance'] = df_dict['uai'].values()\n",
    "df_to_plot['Masculinity'] = df_dict['mas'].values()\n",
    "df_to_plot['Short-term orientation'] = df_dict['ltowvs'].values()\n",
    "df_to_plot['Indulgence'] = df_dict['ivr'].values()\n"
   ]
  },
  {
   "cell_type": "code",
   "execution_count": 45,
   "id": "fca839b4",
   "metadata": {},
   "outputs": [],
   "source": [
    "fig = px.scatter_3d(df_to_plot, x='x', y='y', z='z', hover_name='Country', hover_data={'Power distance':True, 'Individualism':True,\n",
    "                                                       'Uncertainty avoidance':True, 'Masculinity':True, 'Short-term orientation':True,\n",
    "                                                       'Indulgence':True, 'Continent':False, 'x':False, 'y':False, 'z': False}, color='Continent')\n",
    "fig.update_layout(\n",
    "    hoverlabel=dict(\n",
    "        bgcolor=\"white\",\n",
    "        font_size=16,\n",
    "        font_family=\"open-sans\"\n",
    "    )\n",
    ")\n",
    "fig.update_traces(marker=dict(size=12))\n",
    "fig.write_html(\"cultural_differences_3d.html\")"
   ]
  }
 ],
 "metadata": {
  "kernelspec": {
   "display_name": "Python 3 (ipykernel)",
   "language": "python",
   "name": "python3"
  },
  "language_info": {
   "codemirror_mode": {
    "name": "ipython",
    "version": 3
   },
   "file_extension": ".py",
   "mimetype": "text/x-python",
   "name": "python",
   "nbconvert_exporter": "python",
   "pygments_lexer": "ipython3",
   "version": "3.10.13"
  }
 },
 "nbformat": 4,
 "nbformat_minor": 5
}
