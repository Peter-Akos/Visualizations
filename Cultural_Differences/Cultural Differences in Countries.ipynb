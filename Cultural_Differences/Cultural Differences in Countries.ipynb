{
 "cells": [
  {
   "cell_type": "markdown",
   "id": "f47bd073",
   "metadata": {},
   "source": [
    "# Cultural Differences in countries based on The Hofstede model \n",
    "\n",
    "The six dimensions of national culture are based on extensive research done by Professor Geert Hofstede, Gert Jan Hofstede, Michael Minkov and their research teams. The cultural dimensions represent independent preferences for one state of affairs over another that distinguish countries (rather than individuals) from each other.\n",
    "\n",
    "More details about what these values represent:\n",
    "https://en.wikipedia.org/wiki/Hofstede%27s_cultural_dimensions_theory\n",
    "\n",
    "Source of the data:\n",
    "https://geerthofstede.com/research-and-vsm/dimension-data-matrix/"
   ]
  },
  {
   "cell_type": "markdown",
   "id": "7ff627f8",
   "metadata": {},
   "source": [
    "#### You can check out the interactive graph at\n",
    "#### https://peter-akos.github.io/Visualizations/Cultural_Differences/cultural_differences.html\n"
   ]
  },
  {
   "cell_type": "code",
   "execution_count": 27,
   "id": "6656a869",
   "metadata": {},
   "outputs": [],
   "source": [
    "import pandas as pd\n",
    "from sklearn.manifold import TSNE\n",
    "import plotly.express as px\n",
    "import pycountry_convert as pc"
   ]
  },
  {
   "cell_type": "code",
   "execution_count": 28,
   "id": "9b82df8c",
   "metadata": {},
   "outputs": [
    {
     "data": {
      "text/html": [
       "<div>\n",
       "<style scoped>\n",
       "    .dataframe tbody tr th:only-of-type {\n",
       "        vertical-align: middle;\n",
       "    }\n",
       "\n",
       "    .dataframe tbody tr th {\n",
       "        vertical-align: top;\n",
       "    }\n",
       "\n",
       "    .dataframe thead th {\n",
       "        text-align: right;\n",
       "    }\n",
       "</style>\n",
       "<table border=\"1\" class=\"dataframe\">\n",
       "  <thead>\n",
       "    <tr style=\"text-align: right;\">\n",
       "      <th></th>\n",
       "      <th>ctr</th>\n",
       "      <th>country</th>\n",
       "      <th>pdi</th>\n",
       "      <th>idv</th>\n",
       "      <th>mas</th>\n",
       "      <th>uai</th>\n",
       "      <th>ltowvs</th>\n",
       "      <th>ivr</th>\n",
       "    </tr>\n",
       "  </thead>\n",
       "  <tbody>\n",
       "    <tr>\n",
       "      <th>0</th>\n",
       "      <td>AFE</td>\n",
       "      <td>Africa East</td>\n",
       "      <td>64</td>\n",
       "      <td>27</td>\n",
       "      <td>41</td>\n",
       "      <td>52</td>\n",
       "      <td>32</td>\n",
       "      <td>40</td>\n",
       "    </tr>\n",
       "    <tr>\n",
       "      <th>1</th>\n",
       "      <td>AFW</td>\n",
       "      <td>Africa West</td>\n",
       "      <td>77</td>\n",
       "      <td>20</td>\n",
       "      <td>46</td>\n",
       "      <td>54</td>\n",
       "      <td>9</td>\n",
       "      <td>78</td>\n",
       "    </tr>\n",
       "    <tr>\n",
       "      <th>2</th>\n",
       "      <td>ALB</td>\n",
       "      <td>Albania</td>\n",
       "      <td>#NULL!</td>\n",
       "      <td>#NULL!</td>\n",
       "      <td>#NULL!</td>\n",
       "      <td>#NULL!</td>\n",
       "      <td>61</td>\n",
       "      <td>15</td>\n",
       "    </tr>\n",
       "    <tr>\n",
       "      <th>3</th>\n",
       "      <td>ALG</td>\n",
       "      <td>Algeria</td>\n",
       "      <td>#NULL!</td>\n",
       "      <td>#NULL!</td>\n",
       "      <td>#NULL!</td>\n",
       "      <td>#NULL!</td>\n",
       "      <td>26</td>\n",
       "      <td>32</td>\n",
       "    </tr>\n",
       "    <tr>\n",
       "      <th>4</th>\n",
       "      <td>AND</td>\n",
       "      <td>Andorra</td>\n",
       "      <td>#NULL!</td>\n",
       "      <td>#NULL!</td>\n",
       "      <td>#NULL!</td>\n",
       "      <td>#NULL!</td>\n",
       "      <td>#NULL!</td>\n",
       "      <td>65</td>\n",
       "    </tr>\n",
       "    <tr>\n",
       "      <th>...</th>\n",
       "      <td>...</td>\n",
       "      <td>...</td>\n",
       "      <td>...</td>\n",
       "      <td>...</td>\n",
       "      <td>...</td>\n",
       "      <td>...</td>\n",
       "      <td>...</td>\n",
       "      <td>...</td>\n",
       "    </tr>\n",
       "    <tr>\n",
       "      <th>106</th>\n",
       "      <td>URU</td>\n",
       "      <td>Uruguay</td>\n",
       "      <td>61</td>\n",
       "      <td>36</td>\n",
       "      <td>38</td>\n",
       "      <td>100</td>\n",
       "      <td>26</td>\n",
       "      <td>53</td>\n",
       "    </tr>\n",
       "    <tr>\n",
       "      <th>107</th>\n",
       "      <td>VEN</td>\n",
       "      <td>Venezuela</td>\n",
       "      <td>81</td>\n",
       "      <td>12</td>\n",
       "      <td>73</td>\n",
       "      <td>76</td>\n",
       "      <td>16</td>\n",
       "      <td>100</td>\n",
       "    </tr>\n",
       "    <tr>\n",
       "      <th>108</th>\n",
       "      <td>VIE</td>\n",
       "      <td>Vietnam</td>\n",
       "      <td>70</td>\n",
       "      <td>20</td>\n",
       "      <td>40</td>\n",
       "      <td>30</td>\n",
       "      <td>57</td>\n",
       "      <td>35</td>\n",
       "    </tr>\n",
       "    <tr>\n",
       "      <th>109</th>\n",
       "      <td>ZAM</td>\n",
       "      <td>Zambia</td>\n",
       "      <td>#NULL!</td>\n",
       "      <td>#NULL!</td>\n",
       "      <td>#NULL!</td>\n",
       "      <td>#NULL!</td>\n",
       "      <td>30</td>\n",
       "      <td>42</td>\n",
       "    </tr>\n",
       "    <tr>\n",
       "      <th>110</th>\n",
       "      <td>ZIM</td>\n",
       "      <td>Zimbabwe</td>\n",
       "      <td>#NULL!</td>\n",
       "      <td>#NULL!</td>\n",
       "      <td>#NULL!</td>\n",
       "      <td>#NULL!</td>\n",
       "      <td>15</td>\n",
       "      <td>28</td>\n",
       "    </tr>\n",
       "  </tbody>\n",
       "</table>\n",
       "<p>111 rows × 8 columns</p>\n",
       "</div>"
      ],
      "text/plain": [
       "     ctr      country     pdi     idv     mas     uai  ltowvs  ivr\n",
       "0    AFE  Africa East      64      27      41      52      32   40\n",
       "1    AFW  Africa West      77      20      46      54       9   78\n",
       "2    ALB      Albania  #NULL!  #NULL!  #NULL!  #NULL!      61   15\n",
       "3    ALG      Algeria  #NULL!  #NULL!  #NULL!  #NULL!      26   32\n",
       "4    AND      Andorra  #NULL!  #NULL!  #NULL!  #NULL!  #NULL!   65\n",
       "..   ...          ...     ...     ...     ...     ...     ...  ...\n",
       "106  URU      Uruguay      61      36      38     100      26   53\n",
       "107  VEN    Venezuela      81      12      73      76      16  100\n",
       "108  VIE      Vietnam      70      20      40      30      57   35\n",
       "109  ZAM       Zambia  #NULL!  #NULL!  #NULL!  #NULL!      30   42\n",
       "110  ZIM     Zimbabwe  #NULL!  #NULL!  #NULL!  #NULL!      15   28\n",
       "\n",
       "[111 rows x 8 columns]"
      ]
     },
     "execution_count": 28,
     "metadata": {},
     "output_type": "execute_result"
    }
   ],
   "source": [
    "df = pd.read_csv('national_culture.csv', sep=';')\n",
    "df"
   ]
  },
  {
   "cell_type": "markdown",
   "id": "e029b053",
   "metadata": {},
   "source": [
    "#### Since the data contains a lot of NULL values we need to get rid of them"
   ]
  },
  {
   "cell_type": "code",
   "execution_count": 29,
   "id": "695ae910",
   "metadata": {},
   "outputs": [],
   "source": [
    "def convert(n):\n",
    "    if n=='#NULL!':\n",
    "        return None\n",
    "    return int(n)"
   ]
  },
  {
   "cell_type": "code",
   "execution_count": 30,
   "id": "19b99172",
   "metadata": {},
   "outputs": [],
   "source": [
    "df['pdi'] = df['pdi'].apply(convert)\n",
    "df['idv'] = df['idv'].apply(convert)\n",
    "df['mas'] = df['mas'].apply(convert)\n",
    "df['uai'] = df['uai'].apply(convert)\n",
    "df['ltowvs'] = df['ltowvs'].apply(convert)\n",
    "df['ivr'] = df['ivr'].apply(convert)\n",
    "df = df.dropna()"
   ]
  },
  {
   "cell_type": "markdown",
   "id": "438d28ab",
   "metadata": {},
   "source": [
    "#### After we are done with the null values, we add the Continent for the color. To do that we'll use the pycountry package. Since our data groups together some countries, that the package will not recognize, we need to add some if statements."
   ]
  },
  {
   "cell_type": "code",
   "execution_count": 31,
   "id": "44dc5401",
   "metadata": {},
   "outputs": [],
   "source": [
    "def country_to_continent(country_name):\n",
    "    if country_name == 'Africa East' or country_name == 'Africa West':\n",
    "        return 'Africa'\n",
    "    if country_name == 'Arab countries':\n",
    "        return 'Asia'\n",
    "    \n",
    "    country_alpha2 = pc.country_name_to_country_alpha2(country_name)\n",
    "    country_continent_code = pc.country_alpha2_to_continent_code(country_alpha2)\n",
    "    country_continent_name = pc.convert_continent_code_to_continent_name(country_continent_code)\n",
    "    return country_continent_name\n",
    "df = df.replace(['Korea South'], 'South Korea')\n",
    "df = df.replace(['Czech Rep'], 'Czech Republic')\n",
    "df = df.replace(['Slovak Rep'], 'Slovak Republic')\n",
    "df = df.replace(['U.S.A.'], 'USA')\n",
    "df['Continent'] = df['country'].apply(country_to_continent)"
   ]
  },
  {
   "cell_type": "code",
   "execution_count": 32,
   "id": "0d14305f",
   "metadata": {
    "scrolled": true
   },
   "outputs": [
    {
     "data": {
      "text/html": [
       "<div>\n",
       "<style scoped>\n",
       "    .dataframe tbody tr th:only-of-type {\n",
       "        vertical-align: middle;\n",
       "    }\n",
       "\n",
       "    .dataframe tbody tr th {\n",
       "        vertical-align: top;\n",
       "    }\n",
       "\n",
       "    .dataframe thead th {\n",
       "        text-align: right;\n",
       "    }\n",
       "</style>\n",
       "<table border=\"1\" class=\"dataframe\">\n",
       "  <thead>\n",
       "    <tr style=\"text-align: right;\">\n",
       "      <th></th>\n",
       "      <th>pdi</th>\n",
       "      <th>idv</th>\n",
       "      <th>mas</th>\n",
       "      <th>uai</th>\n",
       "      <th>ltowvs</th>\n",
       "      <th>ivr</th>\n",
       "    </tr>\n",
       "  </thead>\n",
       "  <tbody>\n",
       "    <tr>\n",
       "      <th>count</th>\n",
       "      <td>65.000000</td>\n",
       "      <td>65.000000</td>\n",
       "      <td>65.00000</td>\n",
       "      <td>65.000000</td>\n",
       "      <td>65.000000</td>\n",
       "      <td>65.000000</td>\n",
       "    </tr>\n",
       "    <tr>\n",
       "      <th>mean</th>\n",
       "      <td>59.307692</td>\n",
       "      <td>44.953846</td>\n",
       "      <td>49.00000</td>\n",
       "      <td>66.538462</td>\n",
       "      <td>48.446154</td>\n",
       "      <td>47.646154</td>\n",
       "    </tr>\n",
       "    <tr>\n",
       "      <th>std</th>\n",
       "      <td>20.450339</td>\n",
       "      <td>23.466353</td>\n",
       "      <td>19.83841</td>\n",
       "      <td>22.718438</td>\n",
       "      <td>23.206297</td>\n",
       "      <td>22.251005</td>\n",
       "    </tr>\n",
       "    <tr>\n",
       "      <th>min</th>\n",
       "      <td>11.000000</td>\n",
       "      <td>12.000000</td>\n",
       "      <td>5.00000</td>\n",
       "      <td>8.000000</td>\n",
       "      <td>9.000000</td>\n",
       "      <td>0.000000</td>\n",
       "    </tr>\n",
       "    <tr>\n",
       "      <th>25%</th>\n",
       "      <td>42.000000</td>\n",
       "      <td>25.000000</td>\n",
       "      <td>40.00000</td>\n",
       "      <td>51.000000</td>\n",
       "      <td>28.000000</td>\n",
       "      <td>29.000000</td>\n",
       "    </tr>\n",
       "    <tr>\n",
       "      <th>50%</th>\n",
       "      <td>63.000000</td>\n",
       "      <td>39.000000</td>\n",
       "      <td>49.00000</td>\n",
       "      <td>68.000000</td>\n",
       "      <td>48.000000</td>\n",
       "      <td>46.000000</td>\n",
       "    </tr>\n",
       "    <tr>\n",
       "      <th>75%</th>\n",
       "      <td>71.000000</td>\n",
       "      <td>67.000000</td>\n",
       "      <td>61.00000</td>\n",
       "      <td>86.000000</td>\n",
       "      <td>64.000000</td>\n",
       "      <td>66.000000</td>\n",
       "    </tr>\n",
       "    <tr>\n",
       "      <th>max</th>\n",
       "      <td>104.000000</td>\n",
       "      <td>91.000000</td>\n",
       "      <td>110.00000</td>\n",
       "      <td>112.000000</td>\n",
       "      <td>100.000000</td>\n",
       "      <td>100.000000</td>\n",
       "    </tr>\n",
       "  </tbody>\n",
       "</table>\n",
       "</div>"
      ],
      "text/plain": [
       "              pdi        idv        mas         uai      ltowvs         ivr\n",
       "count   65.000000  65.000000   65.00000   65.000000   65.000000   65.000000\n",
       "mean    59.307692  44.953846   49.00000   66.538462   48.446154   47.646154\n",
       "std     20.450339  23.466353   19.83841   22.718438   23.206297   22.251005\n",
       "min     11.000000  12.000000    5.00000    8.000000    9.000000    0.000000\n",
       "25%     42.000000  25.000000   40.00000   51.000000   28.000000   29.000000\n",
       "50%     63.000000  39.000000   49.00000   68.000000   48.000000   46.000000\n",
       "75%     71.000000  67.000000   61.00000   86.000000   64.000000   66.000000\n",
       "max    104.000000  91.000000  110.00000  112.000000  100.000000  100.000000"
      ]
     },
     "execution_count": 32,
     "metadata": {},
     "output_type": "execute_result"
    }
   ],
   "source": [
    "df.describe()"
   ]
  },
  {
   "cell_type": "markdown",
   "id": "de276b94",
   "metadata": {},
   "source": [
    "#### Let's initialize the T-distributed Stochastic Neighbor Embedding"
   ]
  },
  {
   "cell_type": "code",
   "execution_count": 33,
   "id": "a9fa2881",
   "metadata": {},
   "outputs": [],
   "source": [
    "model = TSNE(n_components=2, learning_rate='auto', init='random', perplexity=2)"
   ]
  },
  {
   "cell_type": "code",
   "execution_count": 34,
   "id": "5e4b03b6",
   "metadata": {},
   "outputs": [],
   "source": [
    "x = df[['pdi', 'idv', 'mas', 'uai', 'ltowvs', 'ivr']].to_numpy()\n",
    "y = df['country'].to_list()\n",
    "df_dict = df.to_dict()"
   ]
  },
  {
   "cell_type": "code",
   "execution_count": 35,
   "id": "17f220ca",
   "metadata": {},
   "outputs": [],
   "source": [
    "x_embedded_2d = model.fit_transform(x)"
   ]
  },
  {
   "cell_type": "markdown",
   "id": "1c7e9d55",
   "metadata": {},
   "source": [
    "#### Now that we have the coordinates, we just have to add the culture indexes to the plot"
   ]
  },
  {
   "cell_type": "code",
   "execution_count": 36,
   "id": "4e84bcc1",
   "metadata": {},
   "outputs": [],
   "source": [
    "df_to_plot = pd.DataFrame(x_embedded_2d, columns=['x','y'])\n",
    "df_to_plot['Country'] = df_dict['country'].values()\n",
    "df_to_plot['Continent'] = df_dict['Continent'].values()\n",
    "df_to_plot['Power distance'] = df_dict['pdi'].values()\n",
    "df_to_plot['Individualism'] = df_dict['idv'].values()\n",
    "df_to_plot['Uncertainty avoidance'] = df_dict['uai'].values()\n",
    "df_to_plot['Masculinity'] = df_dict['mas'].values()\n",
    "df_to_plot['Short-term orientation'] = df_dict['ltowvs'].values()\n",
    "df_to_plot['Indulgence'] = df_dict['ivr'].values()\n"
   ]
  },
  {
   "cell_type": "code",
   "execution_count": 37,
   "id": "85a8a21f",
   "metadata": {},
   "outputs": [],
   "source": [
    "fig = px.scatter(df_to_plot, x='x', y='y',hover_name='Country', hover_data={'Power distance':True, 'Individualism':True,\n",
    "                                                       'Uncertainty avoidance':True, 'Masculinity':True, 'Short-term orientation':True,\n",
    "                                                       'Indulgence':True, 'Continent':False, 'x':False, 'y':False}, color='Continent')\n",
    "fig.update_layout(\n",
    "    hoverlabel=dict(\n",
    "        bgcolor=\"white\",\n",
    "        font_size=16,\n",
    "        font_family=\"open-sans\"\n",
    "    )\n",
    ")\n",
    "fig.update_traces(marker=dict(size=12))\n",
    "fig.write_html(\"cultural_differences_2.html\")"
   ]
  },
  {
   "cell_type": "code",
   "execution_count": 38,
   "id": "4017a454",
   "metadata": {},
   "outputs": [
    {
     "data": {
      "application/vnd.plotly.v1+json": {
       "config": {
        "plotlyServerURL": "https://plot.ly"
       },
       "data": [
        {
         "customdata": [
          [
           64,
           27,
           52,
           41,
           32,
           40,
           "Africa"
          ],
          [
           77,
           20,
           54,
           46,
           9,
           78,
           "Africa"
          ],
          [
           70,
           46,
           68,
           53,
           14,
           25,
           "Africa"
          ]
         ],
         "hovertemplate": "<b>%{hovertext}</b><br><br>Power distance=%{customdata[0]}<br>Individualism=%{customdata[1]}<br>Uncertainty avoidance=%{customdata[2]}<br>Masculinity=%{customdata[3]}<br>Short-term orientation=%{customdata[4]}<br>Indulgence=%{customdata[5]}<extra></extra>",
         "hovertext": [
          "Africa East",
          "Africa West",
          "Morocco"
         ],
         "legendgroup": "Africa",
         "marker": {
          "color": "#636efa",
          "size": 12,
          "symbol": "circle"
         },
         "mode": "markers",
         "name": "Africa",
         "orientation": "v",
         "showlegend": true,
         "type": "scatter",
         "x": [
          -39.683616638183594,
          -46.83421325683594,
          -37.66618347167969
         ],
         "xaxis": "x",
         "y": [
          24.116771697998047,
          -26.846765518188477,
          30.37106704711914
         ],
         "yaxis": "y"
        },
        {
         "customdata": [
          [
           80,
           38,
           68,
           53,
           23,
           34,
           "Asia"
          ],
          [
           80,
           20,
           60,
           55,
           47,
           20,
           "Asia"
          ],
          [
           80,
           20,
           30,
           66,
           87,
           24,
           "Asia"
          ],
          [
           68,
           25,
           29,
           57,
           61,
           17,
           "Asia"
          ],
          [
           77,
           48,
           40,
           56,
           51,
           26,
           "Asia"
          ],
          [
           78,
           14,
           48,
           46,
           62,
           38,
           "Asia"
          ],
          [
           58,
           41,
           59,
           43,
           14,
           40,
           "Asia"
          ],
          [
           54,
           46,
           92,
           95,
           88,
           42,
           "Asia"
          ],
          [
           60,
           18,
           85,
           39,
           100,
           29,
           "Asia"
          ],
          [
           104,
           26,
           36,
           50,
           41,
           57,
           "Asia"
          ],
          [
           55,
           14,
           70,
           50,
           50,
           0,
           "Asia"
          ],
          [
           94,
           32,
           44,
           64,
           27,
           42,
           "Asia"
          ],
          [
           74,
           20,
           8,
           48,
           72,
           46,
           "Asia"
          ],
          [
           58,
           17,
           69,
           45,
           93,
           49,
           "Asia"
          ],
          [
           64,
           20,
           64,
           34,
           32,
           45,
           "Asia"
          ],
          [
           66,
           37,
           85,
           45,
           46,
           49,
           "Asia"
          ],
          [
           70,
           20,
           30,
           40,
           57,
           35,
           "Asia"
          ]
         ],
         "hovertemplate": "<b>%{hovertext}</b><br><br>Power distance=%{customdata[0]}<br>Individualism=%{customdata[1]}<br>Uncertainty avoidance=%{customdata[2]}<br>Masculinity=%{customdata[3]}<br>Short-term orientation=%{customdata[4]}<br>Indulgence=%{customdata[5]}<extra></extra>",
         "hovertext": [
          "Arab countries",
          "Bangladesh",
          "China",
          "Hong Kong",
          "India",
          "Indonesia",
          "Iran",
          "Japan",
          "South Korea",
          "Malaysia",
          "Pakistan",
          "Philippines",
          "Singapore",
          "Taiwan",
          "Thailand",
          "Turkey",
          "Vietnam"
         ],
         "legendgroup": "Asia",
         "marker": {
          "color": "#EF553B",
          "size": 12,
          "symbol": "circle"
         },
         "mode": "markers",
         "name": "Asia",
         "orientation": "v",
         "showlegend": true,
         "type": "scatter",
         "x": [
          -37.00123596191406,
          -2.0504627227783203,
          -2.5872859954833984,
          -1.5865941047668457,
          0.7337536811828613,
          -2.6588165760040283,
          -38.56258010864258,
          25.40592384338379,
          14.053635597229004,
          -31.283912658691406,
          -1.4806934595108032,
          -32.20840072631836,
          -5.645911693572998,
          15.34058666229248,
          -40.01664352416992,
          -24.266571044921875,
          -3.077390432357788
         ],
         "xaxis": "x",
         "y": [
          31.708595275878906,
          33.44112014770508,
          43.15774154663086,
          40.507659912109375,
          40.788448333740234,
          36.00410079956055,
          28.178691864013672,
          -19.601757049560547,
          16.302284240722656,
          39.66846466064453,
          30.807695388793945,
          38.65640640258789,
          38.69182205200195,
          16.655929565429688,
          22.758127212524414,
          -2.6440274715423584,
          37.76044845581055
         ],
         "yaxis": "y"
        },
        {
         "customdata": [
          [
           49,
           46,
           86,
           56,
           20,
           62,
           "South America"
          ],
          [
           69,
           38,
           76,
           49,
           44,
           59,
           "South America"
          ],
          [
           63,
           23,
           86,
           28,
           31,
           68,
           "South America"
          ],
          [
           67,
           13,
           80,
           64,
           13,
           83,
           "South America"
          ],
          [
           64,
           16,
           87,
           42,
           25,
           46,
           "South America"
          ],
          [
           61,
           36,
           100,
           38,
           26,
           53,
           "South America"
          ],
          [
           81,
           12,
           76,
           73,
           16,
           100,
           "South America"
          ]
         ],
         "hovertemplate": "<b>%{hovertext}</b><br><br>Power distance=%{customdata[0]}<br>Individualism=%{customdata[1]}<br>Uncertainty avoidance=%{customdata[2]}<br>Masculinity=%{customdata[3]}<br>Short-term orientation=%{customdata[4]}<br>Indulgence=%{customdata[5]}<extra></extra>",
         "hovertext": [
          "Argentina",
          "Brazil",
          "Chile",
          "Colombia",
          "Peru",
          "Uruguay",
          "Venezuela"
         ],
         "legendgroup": "South America",
         "marker": {
          "color": "#00cc96",
          "size": 12,
          "symbol": "circle"
         },
         "mode": "markers",
         "name": "South America",
         "orientation": "v",
         "showlegend": true,
         "type": "scatter",
         "x": [
          -36.65663528442383,
          -25.6104679107666,
          -41.622154235839844,
          -48.44839096069336,
          -41.30705642700195,
          -38.73140335083008,
          -49.89463806152344
         ],
         "xaxis": "x",
         "y": [
          -9.202409744262695,
          -3.290940523147583,
          -10.35944652557373,
          -22.42641830444336,
          -5.932831287384033,
          -7.143002510070801,
          -21.236080169677734
         ],
         "yaxis": "y"
        },
        {
         "customdata": [
          [
           38,
           90,
           51,
           61,
           21,
           71,
           "Oceania"
          ],
          [
           22,
           79,
           49,
           58,
           33,
           75,
           "Oceania"
          ]
         ],
         "hovertemplate": "<b>%{hovertext}</b><br><br>Power distance=%{customdata[0]}<br>Individualism=%{customdata[1]}<br>Uncertainty avoidance=%{customdata[2]}<br>Masculinity=%{customdata[3]}<br>Short-term orientation=%{customdata[4]}<br>Indulgence=%{customdata[5]}<extra></extra>",
         "hovertext": [
          "Australia",
          "New Zealand"
         ],
         "legendgroup": "Oceania",
         "marker": {
          "color": "#ab63fa",
          "size": 12,
          "symbol": "circle"
         },
         "mode": "markers",
         "name": "Oceania",
         "orientation": "v",
         "showlegend": true,
         "type": "scatter",
         "x": [
          37.64847946166992,
          42.77501678466797
         ],
         "xaxis": "x",
         "y": [
          35.87603759765625,
          34.55949783325195
         ],
         "yaxis": "y"
        },
        {
         "customdata": [
          [
           11,
           55,
           70,
           79,
           60,
           63,
           "Europe"
          ],
          [
           65,
           75,
           94,
           54,
           82,
           57,
           "Europe"
          ],
          [
           70,
           30,
           85,
           40,
           69,
           16,
           "Europe"
          ],
          [
           73,
           33,
           80,
           40,
           58,
           33,
           "Europe"
          ],
          [
           57,
           58,
           74,
           57,
           70,
           29,
           "Europe"
          ],
          [
           18,
           74,
           23,
           16,
           35,
           70,
           "Europe"
          ],
          [
           40,
           60,
           60,
           30,
           82,
           16,
           "Europe"
          ],
          [
           33,
           63,
           59,
           26,
           38,
           57,
           "Europe"
          ],
          [
           68,
           71,
           86,
           43,
           63,
           48,
           "Europe"
          ],
          [
           35,
           67,
           65,
           66,
           83,
           40,
           "Europe"
          ],
          [
           35,
           89,
           35,
           66,
           51,
           69,
           "Europe"
          ],
          [
           60,
           35,
           112,
           57,
           45,
           50,
           "Europe"
          ],
          [
           46,
           80,
           82,
           88,
           58,
           31,
           "Europe"
          ],
          [
           28,
           70,
           35,
           68,
           24,
           65,
           "Europe"
          ],
          [
           50,
           76,
           75,
           70,
           61,
           30,
           "Europe"
          ],
          [
           44,
           70,
           63,
           9,
           69,
           13,
           "Europe"
          ],
          [
           42,
           60,
           65,
           19,
           82,
           16,
           "Europe"
          ],
          [
           40,
           60,
           70,
           50,
           64,
           56,
           "Europe"
          ],
          [
           56,
           59,
           96,
           47,
           47,
           66,
           "Europe"
          ],
          [
           38,
           80,
           53,
           14,
           67,
           68,
           "Europe"
          ],
          [
           31,
           69,
           50,
           8,
           35,
           55,
           "Europe"
          ],
          [
           68,
           60,
           93,
           64,
           38,
           29,
           "Europe"
          ],
          [
           63,
           27,
           104,
           31,
           28,
           33,
           "Europe"
          ],
          [
           90,
           30,
           90,
           42,
           52,
           20,
           "Europe"
          ],
          [
           93,
           39,
           95,
           36,
           81,
           20,
           "Europe"
          ],
          [
           86,
           25,
           92,
           43,
           52,
           28,
           "Europe"
          ],
          [
           104,
           52,
           51,
           110,
           77,
           28,
           "Europe"
          ],
          [
           71,
           27,
           88,
           19,
           49,
           48,
           "Europe"
          ],
          [
           57,
           51,
           86,
           42,
           48,
           44,
           "Europe"
          ],
          [
           31,
           71,
           29,
           5,
           53,
           78,
           "Europe"
          ],
          [
           34,
           68,
           58,
           70,
           74,
           66,
           "Europe"
          ]
         ],
         "hovertemplate": "<b>%{hovertext}</b><br><br>Power distance=%{customdata[0]}<br>Individualism=%{customdata[1]}<br>Uncertainty avoidance=%{customdata[2]}<br>Masculinity=%{customdata[3]}<br>Short-term orientation=%{customdata[4]}<br>Indulgence=%{customdata[5]}<extra></extra>",
         "hovertext": [
          "Austria",
          "Belgium",
          "Bulgaria",
          "Croatia",
          "Czech Republic",
          "Denmark",
          "Estonia",
          "Finland",
          "France",
          "Germany",
          "Great Britain",
          "Greece",
          "Hungary",
          "Ireland",
          "Italy",
          "Latvia",
          "Lithuania",
          "Luxembourg",
          "Malta",
          "Netherlands",
          "Norway",
          "Poland",
          "Portugal",
          "Romania",
          "Russia",
          "Serbia",
          "Slovak Republic",
          "Slovenia",
          "Spain",
          "Sweden",
          "Switzerland"
         ],
         "legendgroup": "Europe",
         "marker": {
          "color": "#FFA15A",
          "size": 12,
          "symbol": "circle"
         },
         "mode": "markers",
         "name": "Europe",
         "orientation": "v",
         "showlegend": true,
         "type": "scatter",
         "x": [
          15.683514595031738,
          -16.06403350830078,
          2.7665202617645264,
          1.3494311571121216,
          24.020620346069336,
          6.2541961669921875,
          60.95027160644531,
          10.55925178527832,
          -17.056385040283203,
          19.5084171295166,
          40.10573196411133,
          -33.59537887573242,
          25.089685440063477,
          44.773529052734375,
          24.69163703918457,
          63.07440948486328,
          62.40702438354492,
          18.990997314453125,
          -21.18878936767578,
          9.711766242980957,
          9.785058975219727,
          -25.110313415527344,
          -38.437713623046875,
          1.9250975847244263,
          5.154565334320068,
          1.1756763458251953,
          -2.3939273357391357,
          -21.979862213134766,
          -23.48684310913086,
          7.557755470275879,
          18.408700942993164
         ],
         "xaxis": "x",
         "y": [
          -25.459333419799805,
          7.4079132080078125,
          14.999006271362305,
          13.780427932739258,
          -13.52051830291748,
          -56.002296447753906,
          4.011297225952148,
          -50.71438980102539,
          6.456883430480957,
          -24.197582244873047,
          30.913501739501953,
          -4.803554534912109,
          -16.970783233642578,
          35.6976432800293,
          -15.446879386901855,
          5.846597671508789,
          4.1193976402282715,
          -27.2730655670166,
          0.7624706029891968,
          -57.32084274291992,
          -51.81013870239258,
          2.151688575744629,
          -5.644372940063477,
          9.944293975830078,
          15.592253684997559,
          11.117144584655762,
          45.61806869506836,
          -5.1388115882873535,
          0.02241402491927147,
          -56.74589538574219,
          -25.512466430664062
         ],
         "yaxis": "y"
        },
        {
         "customdata": [
          [
           39,
           80,
           48,
           52,
           36,
           68,
           "North America"
          ],
          [
           66,
           19,
           94,
           40,
           20,
           89,
           "North America"
          ],
          [
           81,
           30,
           82,
           69,
           24,
           97,
           "North America"
          ],
          [
           47,
           16,
           55,
           58,
           13,
           80,
           "North America"
          ],
          [
           40,
           91,
           46,
           62,
           26,
           68,
           "North America"
          ]
         ],
         "hovertemplate": "<b>%{hovertext}</b><br><br>Power distance=%{customdata[0]}<br>Individualism=%{customdata[1]}<br>Uncertainty avoidance=%{customdata[2]}<br>Masculinity=%{customdata[3]}<br>Short-term orientation=%{customdata[4]}<br>Indulgence=%{customdata[5]}<extra></extra>",
         "hovertext": [
          "Canada",
          "El Salvador",
          "Mexico",
          "Trinidad and Tobago",
          "USA"
         ],
         "legendgroup": "North America",
         "marker": {
          "color": "#19d3f3",
          "size": 12,
          "symbol": "circle"
         },
         "mode": "markers",
         "name": "North America",
         "orientation": "v",
         "showlegend": true,
         "type": "scatter",
         "x": [
          40.67173385620117,
          -43.21782684326172,
          -51.13029098510742,
          -46.512691497802734,
          38.65726852416992
         ],
         "xaxis": "x",
         "y": [
          33.54353713989258,
          -12.673577308654785,
          -20.309160232543945,
          -25.190656661987305,
          34.833473205566406
         ],
         "yaxis": "y"
        }
       ],
       "layout": {
        "hoverlabel": {
         "bgcolor": "white",
         "font": {
          "family": "open-sans",
          "size": 16
         }
        },
        "legend": {
         "title": {
          "text": "Continent"
         },
         "tracegroupgap": 0
        },
        "margin": {
         "t": 60
        },
        "template": {
         "data": {
          "bar": [
           {
            "error_x": {
             "color": "#2a3f5f"
            },
            "error_y": {
             "color": "#2a3f5f"
            },
            "marker": {
             "line": {
              "color": "#E5ECF6",
              "width": 0.5
             },
             "pattern": {
              "fillmode": "overlay",
              "size": 10,
              "solidity": 0.2
             }
            },
            "type": "bar"
           }
          ],
          "barpolar": [
           {
            "marker": {
             "line": {
              "color": "#E5ECF6",
              "width": 0.5
             },
             "pattern": {
              "fillmode": "overlay",
              "size": 10,
              "solidity": 0.2
             }
            },
            "type": "barpolar"
           }
          ],
          "carpet": [
           {
            "aaxis": {
             "endlinecolor": "#2a3f5f",
             "gridcolor": "white",
             "linecolor": "white",
             "minorgridcolor": "white",
             "startlinecolor": "#2a3f5f"
            },
            "baxis": {
             "endlinecolor": "#2a3f5f",
             "gridcolor": "white",
             "linecolor": "white",
             "minorgridcolor": "white",
             "startlinecolor": "#2a3f5f"
            },
            "type": "carpet"
           }
          ],
          "choropleth": [
           {
            "colorbar": {
             "outlinewidth": 0,
             "ticks": ""
            },
            "type": "choropleth"
           }
          ],
          "contour": [
           {
            "colorbar": {
             "outlinewidth": 0,
             "ticks": ""
            },
            "colorscale": [
             [
              0,
              "#0d0887"
             ],
             [
              0.1111111111111111,
              "#46039f"
             ],
             [
              0.2222222222222222,
              "#7201a8"
             ],
             [
              0.3333333333333333,
              "#9c179e"
             ],
             [
              0.4444444444444444,
              "#bd3786"
             ],
             [
              0.5555555555555556,
              "#d8576b"
             ],
             [
              0.6666666666666666,
              "#ed7953"
             ],
             [
              0.7777777777777778,
              "#fb9f3a"
             ],
             [
              0.8888888888888888,
              "#fdca26"
             ],
             [
              1,
              "#f0f921"
             ]
            ],
            "type": "contour"
           }
          ],
          "contourcarpet": [
           {
            "colorbar": {
             "outlinewidth": 0,
             "ticks": ""
            },
            "type": "contourcarpet"
           }
          ],
          "heatmap": [
           {
            "colorbar": {
             "outlinewidth": 0,
             "ticks": ""
            },
            "colorscale": [
             [
              0,
              "#0d0887"
             ],
             [
              0.1111111111111111,
              "#46039f"
             ],
             [
              0.2222222222222222,
              "#7201a8"
             ],
             [
              0.3333333333333333,
              "#9c179e"
             ],
             [
              0.4444444444444444,
              "#bd3786"
             ],
             [
              0.5555555555555556,
              "#d8576b"
             ],
             [
              0.6666666666666666,
              "#ed7953"
             ],
             [
              0.7777777777777778,
              "#fb9f3a"
             ],
             [
              0.8888888888888888,
              "#fdca26"
             ],
             [
              1,
              "#f0f921"
             ]
            ],
            "type": "heatmap"
           }
          ],
          "heatmapgl": [
           {
            "colorbar": {
             "outlinewidth": 0,
             "ticks": ""
            },
            "colorscale": [
             [
              0,
              "#0d0887"
             ],
             [
              0.1111111111111111,
              "#46039f"
             ],
             [
              0.2222222222222222,
              "#7201a8"
             ],
             [
              0.3333333333333333,
              "#9c179e"
             ],
             [
              0.4444444444444444,
              "#bd3786"
             ],
             [
              0.5555555555555556,
              "#d8576b"
             ],
             [
              0.6666666666666666,
              "#ed7953"
             ],
             [
              0.7777777777777778,
              "#fb9f3a"
             ],
             [
              0.8888888888888888,
              "#fdca26"
             ],
             [
              1,
              "#f0f921"
             ]
            ],
            "type": "heatmapgl"
           }
          ],
          "histogram": [
           {
            "marker": {
             "pattern": {
              "fillmode": "overlay",
              "size": 10,
              "solidity": 0.2
             }
            },
            "type": "histogram"
           }
          ],
          "histogram2d": [
           {
            "colorbar": {
             "outlinewidth": 0,
             "ticks": ""
            },
            "colorscale": [
             [
              0,
              "#0d0887"
             ],
             [
              0.1111111111111111,
              "#46039f"
             ],
             [
              0.2222222222222222,
              "#7201a8"
             ],
             [
              0.3333333333333333,
              "#9c179e"
             ],
             [
              0.4444444444444444,
              "#bd3786"
             ],
             [
              0.5555555555555556,
              "#d8576b"
             ],
             [
              0.6666666666666666,
              "#ed7953"
             ],
             [
              0.7777777777777778,
              "#fb9f3a"
             ],
             [
              0.8888888888888888,
              "#fdca26"
             ],
             [
              1,
              "#f0f921"
             ]
            ],
            "type": "histogram2d"
           }
          ],
          "histogram2dcontour": [
           {
            "colorbar": {
             "outlinewidth": 0,
             "ticks": ""
            },
            "colorscale": [
             [
              0,
              "#0d0887"
             ],
             [
              0.1111111111111111,
              "#46039f"
             ],
             [
              0.2222222222222222,
              "#7201a8"
             ],
             [
              0.3333333333333333,
              "#9c179e"
             ],
             [
              0.4444444444444444,
              "#bd3786"
             ],
             [
              0.5555555555555556,
              "#d8576b"
             ],
             [
              0.6666666666666666,
              "#ed7953"
             ],
             [
              0.7777777777777778,
              "#fb9f3a"
             ],
             [
              0.8888888888888888,
              "#fdca26"
             ],
             [
              1,
              "#f0f921"
             ]
            ],
            "type": "histogram2dcontour"
           }
          ],
          "mesh3d": [
           {
            "colorbar": {
             "outlinewidth": 0,
             "ticks": ""
            },
            "type": "mesh3d"
           }
          ],
          "parcoords": [
           {
            "line": {
             "colorbar": {
              "outlinewidth": 0,
              "ticks": ""
             }
            },
            "type": "parcoords"
           }
          ],
          "pie": [
           {
            "automargin": true,
            "type": "pie"
           }
          ],
          "scatter": [
           {
            "fillpattern": {
             "fillmode": "overlay",
             "size": 10,
             "solidity": 0.2
            },
            "type": "scatter"
           }
          ],
          "scatter3d": [
           {
            "line": {
             "colorbar": {
              "outlinewidth": 0,
              "ticks": ""
             }
            },
            "marker": {
             "colorbar": {
              "outlinewidth": 0,
              "ticks": ""
             }
            },
            "type": "scatter3d"
           }
          ],
          "scattercarpet": [
           {
            "marker": {
             "colorbar": {
              "outlinewidth": 0,
              "ticks": ""
             }
            },
            "type": "scattercarpet"
           }
          ],
          "scattergeo": [
           {
            "marker": {
             "colorbar": {
              "outlinewidth": 0,
              "ticks": ""
             }
            },
            "type": "scattergeo"
           }
          ],
          "scattergl": [
           {
            "marker": {
             "colorbar": {
              "outlinewidth": 0,
              "ticks": ""
             }
            },
            "type": "scattergl"
           }
          ],
          "scattermapbox": [
           {
            "marker": {
             "colorbar": {
              "outlinewidth": 0,
              "ticks": ""
             }
            },
            "type": "scattermapbox"
           }
          ],
          "scatterpolar": [
           {
            "marker": {
             "colorbar": {
              "outlinewidth": 0,
              "ticks": ""
             }
            },
            "type": "scatterpolar"
           }
          ],
          "scatterpolargl": [
           {
            "marker": {
             "colorbar": {
              "outlinewidth": 0,
              "ticks": ""
             }
            },
            "type": "scatterpolargl"
           }
          ],
          "scatterternary": [
           {
            "marker": {
             "colorbar": {
              "outlinewidth": 0,
              "ticks": ""
             }
            },
            "type": "scatterternary"
           }
          ],
          "surface": [
           {
            "colorbar": {
             "outlinewidth": 0,
             "ticks": ""
            },
            "colorscale": [
             [
              0,
              "#0d0887"
             ],
             [
              0.1111111111111111,
              "#46039f"
             ],
             [
              0.2222222222222222,
              "#7201a8"
             ],
             [
              0.3333333333333333,
              "#9c179e"
             ],
             [
              0.4444444444444444,
              "#bd3786"
             ],
             [
              0.5555555555555556,
              "#d8576b"
             ],
             [
              0.6666666666666666,
              "#ed7953"
             ],
             [
              0.7777777777777778,
              "#fb9f3a"
             ],
             [
              0.8888888888888888,
              "#fdca26"
             ],
             [
              1,
              "#f0f921"
             ]
            ],
            "type": "surface"
           }
          ],
          "table": [
           {
            "cells": {
             "fill": {
              "color": "#EBF0F8"
             },
             "line": {
              "color": "white"
             }
            },
            "header": {
             "fill": {
              "color": "#C8D4E3"
             },
             "line": {
              "color": "white"
             }
            },
            "type": "table"
           }
          ]
         },
         "layout": {
          "annotationdefaults": {
           "arrowcolor": "#2a3f5f",
           "arrowhead": 0,
           "arrowwidth": 1
          },
          "autotypenumbers": "strict",
          "coloraxis": {
           "colorbar": {
            "outlinewidth": 0,
            "ticks": ""
           }
          },
          "colorscale": {
           "diverging": [
            [
             0,
             "#8e0152"
            ],
            [
             0.1,
             "#c51b7d"
            ],
            [
             0.2,
             "#de77ae"
            ],
            [
             0.3,
             "#f1b6da"
            ],
            [
             0.4,
             "#fde0ef"
            ],
            [
             0.5,
             "#f7f7f7"
            ],
            [
             0.6,
             "#e6f5d0"
            ],
            [
             0.7,
             "#b8e186"
            ],
            [
             0.8,
             "#7fbc41"
            ],
            [
             0.9,
             "#4d9221"
            ],
            [
             1,
             "#276419"
            ]
           ],
           "sequential": [
            [
             0,
             "#0d0887"
            ],
            [
             0.1111111111111111,
             "#46039f"
            ],
            [
             0.2222222222222222,
             "#7201a8"
            ],
            [
             0.3333333333333333,
             "#9c179e"
            ],
            [
             0.4444444444444444,
             "#bd3786"
            ],
            [
             0.5555555555555556,
             "#d8576b"
            ],
            [
             0.6666666666666666,
             "#ed7953"
            ],
            [
             0.7777777777777778,
             "#fb9f3a"
            ],
            [
             0.8888888888888888,
             "#fdca26"
            ],
            [
             1,
             "#f0f921"
            ]
           ],
           "sequentialminus": [
            [
             0,
             "#0d0887"
            ],
            [
             0.1111111111111111,
             "#46039f"
            ],
            [
             0.2222222222222222,
             "#7201a8"
            ],
            [
             0.3333333333333333,
             "#9c179e"
            ],
            [
             0.4444444444444444,
             "#bd3786"
            ],
            [
             0.5555555555555556,
             "#d8576b"
            ],
            [
             0.6666666666666666,
             "#ed7953"
            ],
            [
             0.7777777777777778,
             "#fb9f3a"
            ],
            [
             0.8888888888888888,
             "#fdca26"
            ],
            [
             1,
             "#f0f921"
            ]
           ]
          },
          "colorway": [
           "#636efa",
           "#EF553B",
           "#00cc96",
           "#ab63fa",
           "#FFA15A",
           "#19d3f3",
           "#FF6692",
           "#B6E880",
           "#FF97FF",
           "#FECB52"
          ],
          "font": {
           "color": "#2a3f5f"
          },
          "geo": {
           "bgcolor": "white",
           "lakecolor": "white",
           "landcolor": "#E5ECF6",
           "showlakes": true,
           "showland": true,
           "subunitcolor": "white"
          },
          "hoverlabel": {
           "align": "left"
          },
          "hovermode": "closest",
          "mapbox": {
           "style": "light"
          },
          "paper_bgcolor": "white",
          "plot_bgcolor": "#E5ECF6",
          "polar": {
           "angularaxis": {
            "gridcolor": "white",
            "linecolor": "white",
            "ticks": ""
           },
           "bgcolor": "#E5ECF6",
           "radialaxis": {
            "gridcolor": "white",
            "linecolor": "white",
            "ticks": ""
           }
          },
          "scene": {
           "xaxis": {
            "backgroundcolor": "#E5ECF6",
            "gridcolor": "white",
            "gridwidth": 2,
            "linecolor": "white",
            "showbackground": true,
            "ticks": "",
            "zerolinecolor": "white"
           },
           "yaxis": {
            "backgroundcolor": "#E5ECF6",
            "gridcolor": "white",
            "gridwidth": 2,
            "linecolor": "white",
            "showbackground": true,
            "ticks": "",
            "zerolinecolor": "white"
           },
           "zaxis": {
            "backgroundcolor": "#E5ECF6",
            "gridcolor": "white",
            "gridwidth": 2,
            "linecolor": "white",
            "showbackground": true,
            "ticks": "",
            "zerolinecolor": "white"
           }
          },
          "shapedefaults": {
           "line": {
            "color": "#2a3f5f"
           }
          },
          "ternary": {
           "aaxis": {
            "gridcolor": "white",
            "linecolor": "white",
            "ticks": ""
           },
           "baxis": {
            "gridcolor": "white",
            "linecolor": "white",
            "ticks": ""
           },
           "bgcolor": "#E5ECF6",
           "caxis": {
            "gridcolor": "white",
            "linecolor": "white",
            "ticks": ""
           }
          },
          "title": {
           "x": 0.05
          },
          "xaxis": {
           "automargin": true,
           "gridcolor": "white",
           "linecolor": "white",
           "ticks": "",
           "title": {
            "standoff": 15
           },
           "zerolinecolor": "white",
           "zerolinewidth": 2
          },
          "yaxis": {
           "automargin": true,
           "gridcolor": "white",
           "linecolor": "white",
           "ticks": "",
           "title": {
            "standoff": 15
           },
           "zerolinecolor": "white",
           "zerolinewidth": 2
          }
         }
        },
        "xaxis": {
         "anchor": "y",
         "domain": [
          0,
          1
         ],
         "title": {
          "text": "x"
         }
        },
        "yaxis": {
         "anchor": "x",
         "domain": [
          0,
          1
         ],
         "title": {
          "text": "y"
         }
        }
       }
      },
      "text/html": [
       "<div>                            <div id=\"6540a4b3-26ee-4831-8349-cf65c3ecfbb2\" class=\"plotly-graph-div\" style=\"height:525px; width:100%;\"></div>            <script type=\"text/javascript\">                require([\"plotly\"], function(Plotly) {                    window.PLOTLYENV=window.PLOTLYENV || {};                                    if (document.getElementById(\"6540a4b3-26ee-4831-8349-cf65c3ecfbb2\")) {                    Plotly.newPlot(                        \"6540a4b3-26ee-4831-8349-cf65c3ecfbb2\",                        [{\"customdata\":[[64.0,27.0,52.0,41.0,32.0,40.0,\"Africa\"],[77.0,20.0,54.0,46.0,9.0,78.0,\"Africa\"],[70.0,46.0,68.0,53.0,14.0,25.0,\"Africa\"]],\"hovertemplate\":\"<b>%{hovertext}</b><br><br>Power distance=%{customdata[0]}<br>Individualism=%{customdata[1]}<br>Uncertainty avoidance=%{customdata[2]}<br>Masculinity=%{customdata[3]}<br>Short-term orientation=%{customdata[4]}<br>Indulgence=%{customdata[5]}<extra></extra>\",\"hovertext\":[\"Africa East\",\"Africa West\",\"Morocco\"],\"legendgroup\":\"Africa\",\"marker\":{\"color\":\"#636efa\",\"symbol\":\"circle\",\"size\":12},\"mode\":\"markers\",\"name\":\"Africa\",\"orientation\":\"v\",\"showlegend\":true,\"x\":[-39.683616638183594,-46.83421325683594,-37.66618347167969],\"xaxis\":\"x\",\"y\":[24.116771697998047,-26.846765518188477,30.37106704711914],\"yaxis\":\"y\",\"type\":\"scatter\"},{\"customdata\":[[80.0,38.0,68.0,53.0,23.0,34.0,\"Asia\"],[80.0,20.0,60.0,55.0,47.0,20.0,\"Asia\"],[80.0,20.0,30.0,66.0,87.0,24.0,\"Asia\"],[68.0,25.0,29.0,57.0,61.0,17.0,\"Asia\"],[77.0,48.0,40.0,56.0,51.0,26.0,\"Asia\"],[78.0,14.0,48.0,46.0,62.0,38.0,\"Asia\"],[58.0,41.0,59.0,43.0,14.0,40.0,\"Asia\"],[54.0,46.0,92.0,95.0,88.0,42.0,\"Asia\"],[60.0,18.0,85.0,39.0,100.0,29.0,\"Asia\"],[104.0,26.0,36.0,50.0,41.0,57.0,\"Asia\"],[55.0,14.0,70.0,50.0,50.0,0.0,\"Asia\"],[94.0,32.0,44.0,64.0,27.0,42.0,\"Asia\"],[74.0,20.0,8.0,48.0,72.0,46.0,\"Asia\"],[58.0,17.0,69.0,45.0,93.0,49.0,\"Asia\"],[64.0,20.0,64.0,34.0,32.0,45.0,\"Asia\"],[66.0,37.0,85.0,45.0,46.0,49.0,\"Asia\"],[70.0,20.0,30.0,40.0,57.0,35.0,\"Asia\"]],\"hovertemplate\":\"<b>%{hovertext}</b><br><br>Power distance=%{customdata[0]}<br>Individualism=%{customdata[1]}<br>Uncertainty avoidance=%{customdata[2]}<br>Masculinity=%{customdata[3]}<br>Short-term orientation=%{customdata[4]}<br>Indulgence=%{customdata[5]}<extra></extra>\",\"hovertext\":[\"Arab countries\",\"Bangladesh\",\"China\",\"Hong Kong\",\"India\",\"Indonesia\",\"Iran\",\"Japan\",\"South Korea\",\"Malaysia\",\"Pakistan\",\"Philippines\",\"Singapore\",\"Taiwan\",\"Thailand\",\"Turkey\",\"Vietnam\"],\"legendgroup\":\"Asia\",\"marker\":{\"color\":\"#EF553B\",\"symbol\":\"circle\",\"size\":12},\"mode\":\"markers\",\"name\":\"Asia\",\"orientation\":\"v\",\"showlegend\":true,\"x\":[-37.00123596191406,-2.0504627227783203,-2.5872859954833984,-1.5865941047668457,0.7337536811828613,-2.6588165760040283,-38.56258010864258,25.40592384338379,14.053635597229004,-31.283912658691406,-1.4806934595108032,-32.20840072631836,-5.645911693572998,15.34058666229248,-40.01664352416992,-24.266571044921875,-3.077390432357788],\"xaxis\":\"x\",\"y\":[31.708595275878906,33.44112014770508,43.15774154663086,40.507659912109375,40.788448333740234,36.00410079956055,28.178691864013672,-19.601757049560547,16.302284240722656,39.66846466064453,30.807695388793945,38.65640640258789,38.69182205200195,16.655929565429688,22.758127212524414,-2.6440274715423584,37.76044845581055],\"yaxis\":\"y\",\"type\":\"scatter\"},{\"customdata\":[[49.0,46.0,86.0,56.0,20.0,62.0,\"South America\"],[69.0,38.0,76.0,49.0,44.0,59.0,\"South America\"],[63.0,23.0,86.0,28.0,31.0,68.0,\"South America\"],[67.0,13.0,80.0,64.0,13.0,83.0,\"South America\"],[64.0,16.0,87.0,42.0,25.0,46.0,\"South America\"],[61.0,36.0,100.0,38.0,26.0,53.0,\"South America\"],[81.0,12.0,76.0,73.0,16.0,100.0,\"South America\"]],\"hovertemplate\":\"<b>%{hovertext}</b><br><br>Power distance=%{customdata[0]}<br>Individualism=%{customdata[1]}<br>Uncertainty avoidance=%{customdata[2]}<br>Masculinity=%{customdata[3]}<br>Short-term orientation=%{customdata[4]}<br>Indulgence=%{customdata[5]}<extra></extra>\",\"hovertext\":[\"Argentina\",\"Brazil\",\"Chile\",\"Colombia\",\"Peru\",\"Uruguay\",\"Venezuela\"],\"legendgroup\":\"South America\",\"marker\":{\"color\":\"#00cc96\",\"symbol\":\"circle\",\"size\":12},\"mode\":\"markers\",\"name\":\"South America\",\"orientation\":\"v\",\"showlegend\":true,\"x\":[-36.65663528442383,-25.6104679107666,-41.622154235839844,-48.44839096069336,-41.30705642700195,-38.73140335083008,-49.89463806152344],\"xaxis\":\"x\",\"y\":[-9.202409744262695,-3.290940523147583,-10.35944652557373,-22.42641830444336,-5.932831287384033,-7.143002510070801,-21.236080169677734],\"yaxis\":\"y\",\"type\":\"scatter\"},{\"customdata\":[[38.0,90.0,51.0,61.0,21.0,71.0,\"Oceania\"],[22.0,79.0,49.0,58.0,33.0,75.0,\"Oceania\"]],\"hovertemplate\":\"<b>%{hovertext}</b><br><br>Power distance=%{customdata[0]}<br>Individualism=%{customdata[1]}<br>Uncertainty avoidance=%{customdata[2]}<br>Masculinity=%{customdata[3]}<br>Short-term orientation=%{customdata[4]}<br>Indulgence=%{customdata[5]}<extra></extra>\",\"hovertext\":[\"Australia\",\"New Zealand\"],\"legendgroup\":\"Oceania\",\"marker\":{\"color\":\"#ab63fa\",\"symbol\":\"circle\",\"size\":12},\"mode\":\"markers\",\"name\":\"Oceania\",\"orientation\":\"v\",\"showlegend\":true,\"x\":[37.64847946166992,42.77501678466797],\"xaxis\":\"x\",\"y\":[35.87603759765625,34.55949783325195],\"yaxis\":\"y\",\"type\":\"scatter\"},{\"customdata\":[[11.0,55.0,70.0,79.0,60.0,63.0,\"Europe\"],[65.0,75.0,94.0,54.0,82.0,57.0,\"Europe\"],[70.0,30.0,85.0,40.0,69.0,16.0,\"Europe\"],[73.0,33.0,80.0,40.0,58.0,33.0,\"Europe\"],[57.0,58.0,74.0,57.0,70.0,29.0,\"Europe\"],[18.0,74.0,23.0,16.0,35.0,70.0,\"Europe\"],[40.0,60.0,60.0,30.0,82.0,16.0,\"Europe\"],[33.0,63.0,59.0,26.0,38.0,57.0,\"Europe\"],[68.0,71.0,86.0,43.0,63.0,48.0,\"Europe\"],[35.0,67.0,65.0,66.0,83.0,40.0,\"Europe\"],[35.0,89.0,35.0,66.0,51.0,69.0,\"Europe\"],[60.0,35.0,112.0,57.0,45.0,50.0,\"Europe\"],[46.0,80.0,82.0,88.0,58.0,31.0,\"Europe\"],[28.0,70.0,35.0,68.0,24.0,65.0,\"Europe\"],[50.0,76.0,75.0,70.0,61.0,30.0,\"Europe\"],[44.0,70.0,63.0,9.0,69.0,13.0,\"Europe\"],[42.0,60.0,65.0,19.0,82.0,16.0,\"Europe\"],[40.0,60.0,70.0,50.0,64.0,56.0,\"Europe\"],[56.0,59.0,96.0,47.0,47.0,66.0,\"Europe\"],[38.0,80.0,53.0,14.0,67.0,68.0,\"Europe\"],[31.0,69.0,50.0,8.0,35.0,55.0,\"Europe\"],[68.0,60.0,93.0,64.0,38.0,29.0,\"Europe\"],[63.0,27.0,104.0,31.0,28.0,33.0,\"Europe\"],[90.0,30.0,90.0,42.0,52.0,20.0,\"Europe\"],[93.0,39.0,95.0,36.0,81.0,20.0,\"Europe\"],[86.0,25.0,92.0,43.0,52.0,28.0,\"Europe\"],[104.0,52.0,51.0,110.0,77.0,28.0,\"Europe\"],[71.0,27.0,88.0,19.0,49.0,48.0,\"Europe\"],[57.0,51.0,86.0,42.0,48.0,44.0,\"Europe\"],[31.0,71.0,29.0,5.0,53.0,78.0,\"Europe\"],[34.0,68.0,58.0,70.0,74.0,66.0,\"Europe\"]],\"hovertemplate\":\"<b>%{hovertext}</b><br><br>Power distance=%{customdata[0]}<br>Individualism=%{customdata[1]}<br>Uncertainty avoidance=%{customdata[2]}<br>Masculinity=%{customdata[3]}<br>Short-term orientation=%{customdata[4]}<br>Indulgence=%{customdata[5]}<extra></extra>\",\"hovertext\":[\"Austria\",\"Belgium\",\"Bulgaria\",\"Croatia\",\"Czech Republic\",\"Denmark\",\"Estonia\",\"Finland\",\"France\",\"Germany\",\"Great Britain\",\"Greece\",\"Hungary\",\"Ireland\",\"Italy\",\"Latvia\",\"Lithuania\",\"Luxembourg\",\"Malta\",\"Netherlands\",\"Norway\",\"Poland\",\"Portugal\",\"Romania\",\"Russia\",\"Serbia\",\"Slovak Republic\",\"Slovenia\",\"Spain\",\"Sweden\",\"Switzerland\"],\"legendgroup\":\"Europe\",\"marker\":{\"color\":\"#FFA15A\",\"symbol\":\"circle\",\"size\":12},\"mode\":\"markers\",\"name\":\"Europe\",\"orientation\":\"v\",\"showlegend\":true,\"x\":[15.683514595031738,-16.06403350830078,2.7665202617645264,1.3494311571121216,24.020620346069336,6.2541961669921875,60.95027160644531,10.55925178527832,-17.056385040283203,19.5084171295166,40.10573196411133,-33.59537887573242,25.089685440063477,44.773529052734375,24.69163703918457,63.07440948486328,62.40702438354492,18.990997314453125,-21.18878936767578,9.711766242980957,9.785058975219727,-25.110313415527344,-38.437713623046875,1.9250975847244263,5.154565334320068,1.1756763458251953,-2.3939273357391357,-21.979862213134766,-23.48684310913086,7.557755470275879,18.408700942993164],\"xaxis\":\"x\",\"y\":[-25.459333419799805,7.4079132080078125,14.999006271362305,13.780427932739258,-13.52051830291748,-56.002296447753906,4.011297225952148,-50.71438980102539,6.456883430480957,-24.197582244873047,30.913501739501953,-4.803554534912109,-16.970783233642578,35.6976432800293,-15.446879386901855,5.846597671508789,4.1193976402282715,-27.2730655670166,0.7624706029891968,-57.32084274291992,-51.81013870239258,2.151688575744629,-5.644372940063477,9.944293975830078,15.592253684997559,11.117144584655762,45.61806869506836,-5.1388115882873535,0.02241402491927147,-56.74589538574219,-25.512466430664062],\"yaxis\":\"y\",\"type\":\"scatter\"},{\"customdata\":[[39.0,80.0,48.0,52.0,36.0,68.0,\"North America\"],[66.0,19.0,94.0,40.0,20.0,89.0,\"North America\"],[81.0,30.0,82.0,69.0,24.0,97.0,\"North America\"],[47.0,16.0,55.0,58.0,13.0,80.0,\"North America\"],[40.0,91.0,46.0,62.0,26.0,68.0,\"North America\"]],\"hovertemplate\":\"<b>%{hovertext}</b><br><br>Power distance=%{customdata[0]}<br>Individualism=%{customdata[1]}<br>Uncertainty avoidance=%{customdata[2]}<br>Masculinity=%{customdata[3]}<br>Short-term orientation=%{customdata[4]}<br>Indulgence=%{customdata[5]}<extra></extra>\",\"hovertext\":[\"Canada\",\"El Salvador\",\"Mexico\",\"Trinidad and Tobago\",\"USA\"],\"legendgroup\":\"North America\",\"marker\":{\"color\":\"#19d3f3\",\"symbol\":\"circle\",\"size\":12},\"mode\":\"markers\",\"name\":\"North America\",\"orientation\":\"v\",\"showlegend\":true,\"x\":[40.67173385620117,-43.21782684326172,-51.13029098510742,-46.512691497802734,38.65726852416992],\"xaxis\":\"x\",\"y\":[33.54353713989258,-12.673577308654785,-20.309160232543945,-25.190656661987305,34.833473205566406],\"yaxis\":\"y\",\"type\":\"scatter\"}],                        {\"template\":{\"data\":{\"histogram2dcontour\":[{\"type\":\"histogram2dcontour\",\"colorbar\":{\"outlinewidth\":0,\"ticks\":\"\"},\"colorscale\":[[0.0,\"#0d0887\"],[0.1111111111111111,\"#46039f\"],[0.2222222222222222,\"#7201a8\"],[0.3333333333333333,\"#9c179e\"],[0.4444444444444444,\"#bd3786\"],[0.5555555555555556,\"#d8576b\"],[0.6666666666666666,\"#ed7953\"],[0.7777777777777778,\"#fb9f3a\"],[0.8888888888888888,\"#fdca26\"],[1.0,\"#f0f921\"]]}],\"choropleth\":[{\"type\":\"choropleth\",\"colorbar\":{\"outlinewidth\":0,\"ticks\":\"\"}}],\"histogram2d\":[{\"type\":\"histogram2d\",\"colorbar\":{\"outlinewidth\":0,\"ticks\":\"\"},\"colorscale\":[[0.0,\"#0d0887\"],[0.1111111111111111,\"#46039f\"],[0.2222222222222222,\"#7201a8\"],[0.3333333333333333,\"#9c179e\"],[0.4444444444444444,\"#bd3786\"],[0.5555555555555556,\"#d8576b\"],[0.6666666666666666,\"#ed7953\"],[0.7777777777777778,\"#fb9f3a\"],[0.8888888888888888,\"#fdca26\"],[1.0,\"#f0f921\"]]}],\"heatmap\":[{\"type\":\"heatmap\",\"colorbar\":{\"outlinewidth\":0,\"ticks\":\"\"},\"colorscale\":[[0.0,\"#0d0887\"],[0.1111111111111111,\"#46039f\"],[0.2222222222222222,\"#7201a8\"],[0.3333333333333333,\"#9c179e\"],[0.4444444444444444,\"#bd3786\"],[0.5555555555555556,\"#d8576b\"],[0.6666666666666666,\"#ed7953\"],[0.7777777777777778,\"#fb9f3a\"],[0.8888888888888888,\"#fdca26\"],[1.0,\"#f0f921\"]]}],\"heatmapgl\":[{\"type\":\"heatmapgl\",\"colorbar\":{\"outlinewidth\":0,\"ticks\":\"\"},\"colorscale\":[[0.0,\"#0d0887\"],[0.1111111111111111,\"#46039f\"],[0.2222222222222222,\"#7201a8\"],[0.3333333333333333,\"#9c179e\"],[0.4444444444444444,\"#bd3786\"],[0.5555555555555556,\"#d8576b\"],[0.6666666666666666,\"#ed7953\"],[0.7777777777777778,\"#fb9f3a\"],[0.8888888888888888,\"#fdca26\"],[1.0,\"#f0f921\"]]}],\"contourcarpet\":[{\"type\":\"contourcarpet\",\"colorbar\":{\"outlinewidth\":0,\"ticks\":\"\"}}],\"contour\":[{\"type\":\"contour\",\"colorbar\":{\"outlinewidth\":0,\"ticks\":\"\"},\"colorscale\":[[0.0,\"#0d0887\"],[0.1111111111111111,\"#46039f\"],[0.2222222222222222,\"#7201a8\"],[0.3333333333333333,\"#9c179e\"],[0.4444444444444444,\"#bd3786\"],[0.5555555555555556,\"#d8576b\"],[0.6666666666666666,\"#ed7953\"],[0.7777777777777778,\"#fb9f3a\"],[0.8888888888888888,\"#fdca26\"],[1.0,\"#f0f921\"]]}],\"surface\":[{\"type\":\"surface\",\"colorbar\":{\"outlinewidth\":0,\"ticks\":\"\"},\"colorscale\":[[0.0,\"#0d0887\"],[0.1111111111111111,\"#46039f\"],[0.2222222222222222,\"#7201a8\"],[0.3333333333333333,\"#9c179e\"],[0.4444444444444444,\"#bd3786\"],[0.5555555555555556,\"#d8576b\"],[0.6666666666666666,\"#ed7953\"],[0.7777777777777778,\"#fb9f3a\"],[0.8888888888888888,\"#fdca26\"],[1.0,\"#f0f921\"]]}],\"mesh3d\":[{\"type\":\"mesh3d\",\"colorbar\":{\"outlinewidth\":0,\"ticks\":\"\"}}],\"scatter\":[{\"fillpattern\":{\"fillmode\":\"overlay\",\"size\":10,\"solidity\":0.2},\"type\":\"scatter\"}],\"parcoords\":[{\"type\":\"parcoords\",\"line\":{\"colorbar\":{\"outlinewidth\":0,\"ticks\":\"\"}}}],\"scatterpolargl\":[{\"type\":\"scatterpolargl\",\"marker\":{\"colorbar\":{\"outlinewidth\":0,\"ticks\":\"\"}}}],\"bar\":[{\"error_x\":{\"color\":\"#2a3f5f\"},\"error_y\":{\"color\":\"#2a3f5f\"},\"marker\":{\"line\":{\"color\":\"#E5ECF6\",\"width\":0.5},\"pattern\":{\"fillmode\":\"overlay\",\"size\":10,\"solidity\":0.2}},\"type\":\"bar\"}],\"scattergeo\":[{\"type\":\"scattergeo\",\"marker\":{\"colorbar\":{\"outlinewidth\":0,\"ticks\":\"\"}}}],\"scatterpolar\":[{\"type\":\"scatterpolar\",\"marker\":{\"colorbar\":{\"outlinewidth\":0,\"ticks\":\"\"}}}],\"histogram\":[{\"marker\":{\"pattern\":{\"fillmode\":\"overlay\",\"size\":10,\"solidity\":0.2}},\"type\":\"histogram\"}],\"scattergl\":[{\"type\":\"scattergl\",\"marker\":{\"colorbar\":{\"outlinewidth\":0,\"ticks\":\"\"}}}],\"scatter3d\":[{\"type\":\"scatter3d\",\"line\":{\"colorbar\":{\"outlinewidth\":0,\"ticks\":\"\"}},\"marker\":{\"colorbar\":{\"outlinewidth\":0,\"ticks\":\"\"}}}],\"scattermapbox\":[{\"type\":\"scattermapbox\",\"marker\":{\"colorbar\":{\"outlinewidth\":0,\"ticks\":\"\"}}}],\"scatterternary\":[{\"type\":\"scatterternary\",\"marker\":{\"colorbar\":{\"outlinewidth\":0,\"ticks\":\"\"}}}],\"scattercarpet\":[{\"type\":\"scattercarpet\",\"marker\":{\"colorbar\":{\"outlinewidth\":0,\"ticks\":\"\"}}}],\"carpet\":[{\"aaxis\":{\"endlinecolor\":\"#2a3f5f\",\"gridcolor\":\"white\",\"linecolor\":\"white\",\"minorgridcolor\":\"white\",\"startlinecolor\":\"#2a3f5f\"},\"baxis\":{\"endlinecolor\":\"#2a3f5f\",\"gridcolor\":\"white\",\"linecolor\":\"white\",\"minorgridcolor\":\"white\",\"startlinecolor\":\"#2a3f5f\"},\"type\":\"carpet\"}],\"table\":[{\"cells\":{\"fill\":{\"color\":\"#EBF0F8\"},\"line\":{\"color\":\"white\"}},\"header\":{\"fill\":{\"color\":\"#C8D4E3\"},\"line\":{\"color\":\"white\"}},\"type\":\"table\"}],\"barpolar\":[{\"marker\":{\"line\":{\"color\":\"#E5ECF6\",\"width\":0.5},\"pattern\":{\"fillmode\":\"overlay\",\"size\":10,\"solidity\":0.2}},\"type\":\"barpolar\"}],\"pie\":[{\"automargin\":true,\"type\":\"pie\"}]},\"layout\":{\"autotypenumbers\":\"strict\",\"colorway\":[\"#636efa\",\"#EF553B\",\"#00cc96\",\"#ab63fa\",\"#FFA15A\",\"#19d3f3\",\"#FF6692\",\"#B6E880\",\"#FF97FF\",\"#FECB52\"],\"font\":{\"color\":\"#2a3f5f\"},\"hovermode\":\"closest\",\"hoverlabel\":{\"align\":\"left\"},\"paper_bgcolor\":\"white\",\"plot_bgcolor\":\"#E5ECF6\",\"polar\":{\"bgcolor\":\"#E5ECF6\",\"angularaxis\":{\"gridcolor\":\"white\",\"linecolor\":\"white\",\"ticks\":\"\"},\"radialaxis\":{\"gridcolor\":\"white\",\"linecolor\":\"white\",\"ticks\":\"\"}},\"ternary\":{\"bgcolor\":\"#E5ECF6\",\"aaxis\":{\"gridcolor\":\"white\",\"linecolor\":\"white\",\"ticks\":\"\"},\"baxis\":{\"gridcolor\":\"white\",\"linecolor\":\"white\",\"ticks\":\"\"},\"caxis\":{\"gridcolor\":\"white\",\"linecolor\":\"white\",\"ticks\":\"\"}},\"coloraxis\":{\"colorbar\":{\"outlinewidth\":0,\"ticks\":\"\"}},\"colorscale\":{\"sequential\":[[0.0,\"#0d0887\"],[0.1111111111111111,\"#46039f\"],[0.2222222222222222,\"#7201a8\"],[0.3333333333333333,\"#9c179e\"],[0.4444444444444444,\"#bd3786\"],[0.5555555555555556,\"#d8576b\"],[0.6666666666666666,\"#ed7953\"],[0.7777777777777778,\"#fb9f3a\"],[0.8888888888888888,\"#fdca26\"],[1.0,\"#f0f921\"]],\"sequentialminus\":[[0.0,\"#0d0887\"],[0.1111111111111111,\"#46039f\"],[0.2222222222222222,\"#7201a8\"],[0.3333333333333333,\"#9c179e\"],[0.4444444444444444,\"#bd3786\"],[0.5555555555555556,\"#d8576b\"],[0.6666666666666666,\"#ed7953\"],[0.7777777777777778,\"#fb9f3a\"],[0.8888888888888888,\"#fdca26\"],[1.0,\"#f0f921\"]],\"diverging\":[[0,\"#8e0152\"],[0.1,\"#c51b7d\"],[0.2,\"#de77ae\"],[0.3,\"#f1b6da\"],[0.4,\"#fde0ef\"],[0.5,\"#f7f7f7\"],[0.6,\"#e6f5d0\"],[0.7,\"#b8e186\"],[0.8,\"#7fbc41\"],[0.9,\"#4d9221\"],[1,\"#276419\"]]},\"xaxis\":{\"gridcolor\":\"white\",\"linecolor\":\"white\",\"ticks\":\"\",\"title\":{\"standoff\":15},\"zerolinecolor\":\"white\",\"automargin\":true,\"zerolinewidth\":2},\"yaxis\":{\"gridcolor\":\"white\",\"linecolor\":\"white\",\"ticks\":\"\",\"title\":{\"standoff\":15},\"zerolinecolor\":\"white\",\"automargin\":true,\"zerolinewidth\":2},\"scene\":{\"xaxis\":{\"backgroundcolor\":\"#E5ECF6\",\"gridcolor\":\"white\",\"linecolor\":\"white\",\"showbackground\":true,\"ticks\":\"\",\"zerolinecolor\":\"white\",\"gridwidth\":2},\"yaxis\":{\"backgroundcolor\":\"#E5ECF6\",\"gridcolor\":\"white\",\"linecolor\":\"white\",\"showbackground\":true,\"ticks\":\"\",\"zerolinecolor\":\"white\",\"gridwidth\":2},\"zaxis\":{\"backgroundcolor\":\"#E5ECF6\",\"gridcolor\":\"white\",\"linecolor\":\"white\",\"showbackground\":true,\"ticks\":\"\",\"zerolinecolor\":\"white\",\"gridwidth\":2}},\"shapedefaults\":{\"line\":{\"color\":\"#2a3f5f\"}},\"annotationdefaults\":{\"arrowcolor\":\"#2a3f5f\",\"arrowhead\":0,\"arrowwidth\":1},\"geo\":{\"bgcolor\":\"white\",\"landcolor\":\"#E5ECF6\",\"subunitcolor\":\"white\",\"showland\":true,\"showlakes\":true,\"lakecolor\":\"white\"},\"title\":{\"x\":0.05},\"mapbox\":{\"style\":\"light\"}}},\"xaxis\":{\"anchor\":\"y\",\"domain\":[0.0,1.0],\"title\":{\"text\":\"x\"}},\"yaxis\":{\"anchor\":\"x\",\"domain\":[0.0,1.0],\"title\":{\"text\":\"y\"}},\"legend\":{\"title\":{\"text\":\"Continent\"},\"tracegroupgap\":0},\"margin\":{\"t\":60},\"hoverlabel\":{\"font\":{\"size\":16,\"family\":\"open-sans\"},\"bgcolor\":\"white\"}},                        {\"responsive\": true}                    ).then(function(){\n",
       "                            \n",
       "var gd = document.getElementById('6540a4b3-26ee-4831-8349-cf65c3ecfbb2');\n",
       "var x = new MutationObserver(function (mutations, observer) {{\n",
       "        var display = window.getComputedStyle(gd).display;\n",
       "        if (!display || display === 'none') {{\n",
       "            console.log([gd, 'removed!']);\n",
       "            Plotly.purge(gd);\n",
       "            observer.disconnect();\n",
       "        }}\n",
       "}});\n",
       "\n",
       "// Listen for the removal of the full notebook cells\n",
       "var notebookContainer = gd.closest('#notebook-container');\n",
       "if (notebookContainer) {{\n",
       "    x.observe(notebookContainer, {childList: true});\n",
       "}}\n",
       "\n",
       "// Listen for the clearing of the current output cell\n",
       "var outputEl = gd.closest('.output');\n",
       "if (outputEl) {{\n",
       "    x.observe(outputEl, {childList: true});\n",
       "}}\n",
       "\n",
       "                        })                };                });            </script>        </div>"
      ]
     },
     "metadata": {},
     "output_type": "display_data"
    }
   ],
   "source": [
    "fig.show()"
   ]
  },
  {
   "cell_type": "code",
   "execution_count": 39,
   "id": "084354b8",
   "metadata": {},
   "outputs": [],
   "source": [
    "model = TSNE(n_components=3, learning_rate='auto', init='random', perplexity=2)"
   ]
  },
  {
   "cell_type": "code",
   "execution_count": 40,
   "id": "4b5f3871",
   "metadata": {},
   "outputs": [],
   "source": [
    "x = df[['pdi', 'idv', 'mas', 'uai', 'ltowvs', 'ivr']].to_numpy()\n",
    "y = df['country'].to_list()\n",
    "df_dict = df.to_dict()"
   ]
  },
  {
   "cell_type": "code",
   "execution_count": 41,
   "id": "83bd4161",
   "metadata": {},
   "outputs": [],
   "source": [
    "x_embedded_3d = model.fit_transform(x)"
   ]
  },
  {
   "cell_type": "markdown",
   "id": "2ea9ba85",
   "metadata": {},
   "source": [
    "#### Now that we have the coordinates, we just have to add the culture indexes to the plot"
   ]
  },
  {
   "cell_type": "code",
   "execution_count": 42,
   "id": "e7926375",
   "metadata": {},
   "outputs": [],
   "source": [
    "df_to_plot = pd.DataFrame(x_embedded_3d, columns=['x','y', 'z'])\n",
    "df_to_plot['Country'] = df_dict['country'].values()\n",
    "df_to_plot['Continent'] = df_dict['Continent'].values()\n",
    "df_to_plot['Power distance'] = df_dict['pdi'].values()\n",
    "df_to_plot['Individualism'] = df_dict['idv'].values()\n",
    "df_to_plot['Uncertainty avoidance'] = df_dict['uai'].values()\n",
    "df_to_plot['Masculinity'] = df_dict['mas'].values()\n",
    "df_to_plot['Short-term orientation'] = df_dict['ltowvs'].values()\n",
    "df_to_plot['Indulgence'] = df_dict['ivr'].values()\n"
   ]
  },
  {
   "cell_type": "code",
   "execution_count": 43,
   "id": "a503cb3c",
   "metadata": {},
   "outputs": [],
   "source": [
    "fig = px.scatter_3d(df_to_plot, x='x', y='y', z='z', hover_name='Country', hover_data={'Power distance':True, 'Individualism':True,\n",
    "                                                       'Uncertainty avoidance':True, 'Masculinity':True, 'Short-term orientation':True,\n",
    "                                                       'Indulgence':True, 'Continent':False, 'x':False, 'y':False}, color='Continent')\n",
    "fig.update_layout(\n",
    "    hoverlabel=dict(\n",
    "        bgcolor=\"white\",\n",
    "        font_size=16,\n",
    "        font_family=\"open-sans\"\n",
    "    )\n",
    ")\n",
    "fig.update_traces(marker=dict(size=12))\n",
    "fig.write_html(\"cultural_differences_3.html\")"
   ]
  },
  {
   "cell_type": "code",
   "execution_count": 44,
   "id": "2d14a4c8",
   "metadata": {},
   "outputs": [
    {
     "data": {
      "application/vnd.plotly.v1+json": {
       "config": {
        "plotlyServerURL": "https://plot.ly"
       },
       "data": [
        {
         "customdata": [
          [
           64,
           27,
           52,
           41,
           32,
           40,
           "Africa"
          ],
          [
           77,
           20,
           54,
           46,
           9,
           78,
           "Africa"
          ],
          [
           70,
           46,
           68,
           53,
           14,
           25,
           "Africa"
          ]
         ],
         "hovertemplate": "<b>%{hovertext}</b><br><br>z=%{z}<br>Power distance=%{customdata[0]}<br>Individualism=%{customdata[1]}<br>Uncertainty avoidance=%{customdata[2]}<br>Masculinity=%{customdata[3]}<br>Short-term orientation=%{customdata[4]}<br>Indulgence=%{customdata[5]}<extra></extra>",
         "hovertext": [
          "Africa East",
          "Africa West",
          "Morocco"
         ],
         "legendgroup": "Africa",
         "marker": {
          "color": "#636efa",
          "size": 12,
          "symbol": "circle"
         },
         "mode": "markers",
         "name": "Africa",
         "scene": "scene",
         "showlegend": true,
         "type": "scatter3d",
         "x": [
          -10.364916801452637,
          -44.8892822265625,
          -19.751115798950195
         ],
         "y": [
          -29.555606842041016,
          31.670686721801758,
          -51.0619010925293
         ],
         "z": [
          -15.882981300354004,
          -47.061920166015625,
          -29.786985397338867
         ]
        },
        {
         "customdata": [
          [
           80,
           38,
           68,
           53,
           23,
           34,
           "Asia"
          ],
          [
           80,
           20,
           60,
           55,
           47,
           20,
           "Asia"
          ],
          [
           80,
           20,
           30,
           66,
           87,
           24,
           "Asia"
          ],
          [
           68,
           25,
           29,
           57,
           61,
           17,
           "Asia"
          ],
          [
           77,
           48,
           40,
           56,
           51,
           26,
           "Asia"
          ],
          [
           78,
           14,
           48,
           46,
           62,
           38,
           "Asia"
          ],
          [
           58,
           41,
           59,
           43,
           14,
           40,
           "Asia"
          ],
          [
           54,
           46,
           92,
           95,
           88,
           42,
           "Asia"
          ],
          [
           60,
           18,
           85,
           39,
           100,
           29,
           "Asia"
          ],
          [
           104,
           26,
           36,
           50,
           41,
           57,
           "Asia"
          ],
          [
           55,
           14,
           70,
           50,
           50,
           0,
           "Asia"
          ],
          [
           94,
           32,
           44,
           64,
           27,
           42,
           "Asia"
          ],
          [
           74,
           20,
           8,
           48,
           72,
           46,
           "Asia"
          ],
          [
           58,
           17,
           69,
           45,
           93,
           49,
           "Asia"
          ],
          [
           64,
           20,
           64,
           34,
           32,
           45,
           "Asia"
          ],
          [
           66,
           37,
           85,
           45,
           46,
           49,
           "Asia"
          ],
          [
           70,
           20,
           30,
           40,
           57,
           35,
           "Asia"
          ]
         ],
         "hovertemplate": "<b>%{hovertext}</b><br><br>z=%{z}<br>Power distance=%{customdata[0]}<br>Individualism=%{customdata[1]}<br>Uncertainty avoidance=%{customdata[2]}<br>Masculinity=%{customdata[3]}<br>Short-term orientation=%{customdata[4]}<br>Indulgence=%{customdata[5]}<extra></extra>",
         "hovertext": [
          "Arab countries",
          "Bangladesh",
          "China",
          "Hong Kong",
          "India",
          "Indonesia",
          "Iran",
          "Japan",
          "South Korea",
          "Malaysia",
          "Pakistan",
          "Philippines",
          "Singapore",
          "Taiwan",
          "Thailand",
          "Turkey",
          "Vietnam"
         ],
         "legendgroup": "Asia",
         "marker": {
          "color": "#EF553B",
          "size": 12,
          "symbol": "circle"
         },
         "mode": "markers",
         "name": "Asia",
         "scene": "scene",
         "showlegend": true,
         "type": "scatter3d",
         "x": [
          -17.5029354095459,
          45.425926208496094,
          26.469032287597656,
          34.512882232666016,
          34.515846252441406,
          44.03620147705078,
          -17.884653091430664,
          10.569877624511719,
          -94.33008575439453,
          72.74044799804688,
          -7.790172576904297,
          72.79623413085938,
          46.69474792480469,
          64.57275390625,
          -8.175585746765137,
          1.4721370935440063,
          41.87675857543945
         ],
         "y": [
          -60.721282958984375,
          -57.92094421386719,
          -36.3911018371582,
          -39.15251541137695,
          -30.175579071044922,
          -53.27535629272461,
          -39.72966003417969,
          75.08470916748047,
          5.135354042053223,
          -18.634979248046875,
          2.911316156387329,
          -16.8432674407959,
          -52.927032470703125,
          -31.377885818481445,
          -26.47976303100586,
          -2.7075982093811035,
          -48.70262908935547
         ],
         "z": [
          -30.858320236206055,
          -31.44204330444336,
          -19.96428108215332,
          -10.73012924194336,
          -2.5895779132843018,
          -20.751495361328125,
          -25.87112045288086,
          -6.402847766876221,
          30.60869789123535,
          -17.86937713623047,
          45.46566390991211,
          -8.161530494689941,
          -0.9161974191665649,
          10.601042747497559,
          -6.758296012878418,
          -46.28324890136719,
          -11.852446556091309
         ]
        },
        {
         "customdata": [
          [
           49,
           46,
           86,
           56,
           20,
           62,
           "South America"
          ],
          [
           69,
           38,
           76,
           49,
           44,
           59,
           "South America"
          ],
          [
           63,
           23,
           86,
           28,
           31,
           68,
           "South America"
          ],
          [
           67,
           13,
           80,
           64,
           13,
           83,
           "South America"
          ],
          [
           64,
           16,
           87,
           42,
           25,
           46,
           "South America"
          ],
          [
           61,
           36,
           100,
           38,
           26,
           53,
           "South America"
          ],
          [
           81,
           12,
           76,
           73,
           16,
           100,
           "South America"
          ]
         ],
         "hovertemplate": "<b>%{hovertext}</b><br><br>z=%{z}<br>Power distance=%{customdata[0]}<br>Individualism=%{customdata[1]}<br>Uncertainty avoidance=%{customdata[2]}<br>Masculinity=%{customdata[3]}<br>Short-term orientation=%{customdata[4]}<br>Indulgence=%{customdata[5]}<extra></extra>",
         "hovertext": [
          "Argentina",
          "Brazil",
          "Chile",
          "Colombia",
          "Peru",
          "Uruguay",
          "Venezuela"
         ],
         "legendgroup": "South America",
         "marker": {
          "color": "#00cc96",
          "size": 12,
          "symbol": "circle"
         },
         "mode": "markers",
         "name": "South America",
         "scene": "scene",
         "showlegend": true,
         "type": "scatter3d",
         "x": [
          -19.532438278198242,
          -7.827010631561279,
          -27.918907165527344,
          -31.95794677734375,
          -10.333728790283203,
          -16.06566047668457,
          -23.562538146972656
         ],
         "y": [
          -29.46007537841797,
          -5.533946514129639,
          -36.427101135253906,
          24.673120498657227,
          -29.61574935913086,
          -34.90291213989258,
          26.343273162841797
         ],
         "z": [
          33.01911163330078,
          -44.28767395019531,
          14.475327491760254,
          -37.79278564453125,
          10.895139694213867,
          21.302913665771484,
          -31.014497756958008
         ]
        },
        {
         "customdata": [
          [
           38,
           90,
           51,
           61,
           21,
           71,
           "Oceania"
          ],
          [
           22,
           79,
           49,
           58,
           33,
           75,
           "Oceania"
          ]
         ],
         "hovertemplate": "<b>%{hovertext}</b><br><br>z=%{z}<br>Power distance=%{customdata[0]}<br>Individualism=%{customdata[1]}<br>Uncertainty avoidance=%{customdata[2]}<br>Masculinity=%{customdata[3]}<br>Short-term orientation=%{customdata[4]}<br>Indulgence=%{customdata[5]}<extra></extra>",
         "hovertext": [
          "Australia",
          "New Zealand"
         ],
         "legendgroup": "Oceania",
         "marker": {
          "color": "#ab63fa",
          "size": 12,
          "symbol": "circle"
         },
         "mode": "markers",
         "name": "Oceania",
         "scene": "scene",
         "showlegend": true,
         "type": "scatter3d",
         "x": [
          -21.455196380615234,
          -39.10631561279297
         ],
         "y": [
          26.93918228149414,
          37.67840576171875
         ],
         "z": [
          0.25837960839271545,
          8.61199951171875
         ]
        },
        {
         "customdata": [
          [
           11,
           55,
           70,
           79,
           60,
           63,
           "Europe"
          ],
          [
           65,
           75,
           94,
           54,
           82,
           57,
           "Europe"
          ],
          [
           70,
           30,
           85,
           40,
           69,
           16,
           "Europe"
          ],
          [
           73,
           33,
           80,
           40,
           58,
           33,
           "Europe"
          ],
          [
           57,
           58,
           74,
           57,
           70,
           29,
           "Europe"
          ],
          [
           18,
           74,
           23,
           16,
           35,
           70,
           "Europe"
          ],
          [
           40,
           60,
           60,
           30,
           82,
           16,
           "Europe"
          ],
          [
           33,
           63,
           59,
           26,
           38,
           57,
           "Europe"
          ],
          [
           68,
           71,
           86,
           43,
           63,
           48,
           "Europe"
          ],
          [
           35,
           67,
           65,
           66,
           83,
           40,
           "Europe"
          ],
          [
           35,
           89,
           35,
           66,
           51,
           69,
           "Europe"
          ],
          [
           60,
           35,
           112,
           57,
           45,
           50,
           "Europe"
          ],
          [
           46,
           80,
           82,
           88,
           58,
           31,
           "Europe"
          ],
          [
           28,
           70,
           35,
           68,
           24,
           65,
           "Europe"
          ],
          [
           50,
           76,
           75,
           70,
           61,
           30,
           "Europe"
          ],
          [
           44,
           70,
           63,
           9,
           69,
           13,
           "Europe"
          ],
          [
           42,
           60,
           65,
           19,
           82,
           16,
           "Europe"
          ],
          [
           40,
           60,
           70,
           50,
           64,
           56,
           "Europe"
          ],
          [
           56,
           59,
           96,
           47,
           47,
           66,
           "Europe"
          ],
          [
           38,
           80,
           53,
           14,
           67,
           68,
           "Europe"
          ],
          [
           31,
           69,
           50,
           8,
           35,
           55,
           "Europe"
          ],
          [
           68,
           60,
           93,
           64,
           38,
           29,
           "Europe"
          ],
          [
           63,
           27,
           104,
           31,
           28,
           33,
           "Europe"
          ],
          [
           90,
           30,
           90,
           42,
           52,
           20,
           "Europe"
          ],
          [
           93,
           39,
           95,
           36,
           81,
           20,
           "Europe"
          ],
          [
           86,
           25,
           92,
           43,
           52,
           28,
           "Europe"
          ],
          [
           104,
           52,
           51,
           110,
           77,
           28,
           "Europe"
          ],
          [
           71,
           27,
           88,
           19,
           49,
           48,
           "Europe"
          ],
          [
           57,
           51,
           86,
           42,
           48,
           44,
           "Europe"
          ],
          [
           31,
           71,
           29,
           5,
           53,
           78,
           "Europe"
          ],
          [
           34,
           68,
           58,
           70,
           74,
           66,
           "Europe"
          ]
         ],
         "hovertemplate": "<b>%{hovertext}</b><br><br>z=%{z}<br>Power distance=%{customdata[0]}<br>Individualism=%{customdata[1]}<br>Uncertainty avoidance=%{customdata[2]}<br>Masculinity=%{customdata[3]}<br>Short-term orientation=%{customdata[4]}<br>Indulgence=%{customdata[5]}<extra></extra>",
         "hovertext": [
          "Austria",
          "Belgium",
          "Bulgaria",
          "Croatia",
          "Czech Republic",
          "Denmark",
          "Estonia",
          "Finland",
          "France",
          "Germany",
          "Great Britain",
          "Greece",
          "Hungary",
          "Ireland",
          "Italy",
          "Latvia",
          "Lithuania",
          "Luxembourg",
          "Malta",
          "Netherlands",
          "Norway",
          "Poland",
          "Portugal",
          "Romania",
          "Russia",
          "Serbia",
          "Slovak Republic",
          "Slovenia",
          "Spain",
          "Sweden",
          "Switzerland"
         ],
         "legendgroup": "Europe",
         "marker": {
          "color": "#FFA15A",
          "size": 12,
          "symbol": "circle"
         },
         "mode": "markers",
         "name": "Europe",
         "scene": "scene",
         "showlegend": true,
         "type": "scatter3d",
         "x": [
          20.794113159179688,
          -23.1401309967041,
          1.4888993501663208,
          4.780182838439941,
          23.222808837890625,
          61.4571418762207,
          -49.88774490356445,
          1.2186328172683716,
          74.12789154052734,
          25.34478759765625,
          -52.12250900268555,
          66.21343994140625,
          11.061080932617188,
          -31.78962516784668,
          15.602002143859863,
          -49.09552001953125,
          -46.37698745727539,
          29.031076431274414,
          17.289379119873047,
          21.6165714263916,
          9.898506164550781,
          21.88692283630371,
          -8.299969673156738,
          22.979707717895508,
          7.4398651123046875,
          17.683673858642578,
          22.068859100341797,
          1.5672285556793213,
          11.616244316101074,
          30.20332145690918,
          25.868209838867188
         ],
         "y": [
          41.387081146240234,
          59.43076705932617,
          17.57853126525879,
          25.550302505493164,
          66.80730438232422,
          -13.613726615905762,
          -5.538243770599365,
          -39.22793960571289,
          20.46799659729004,
          56.51441955566406,
          24.89531707763672,
          33.80072784423828,
          75.47039031982422,
          46.032630920410156,
          72.6310806274414,
          0.12625136971473694,
          -9.8773832321167,
          39.9570198059082,
          4.887090682983398,
          -51.526187896728516,
          -34.87726593017578,
          5.653712749481201,
          -41.51297378540039,
          21.829273223876953,
          14.155680656433105,
          27.299861907958984,
          -30.69615936279297,
          -6.004312992095947,
          1.7904553413391113,
          -44.689552307128906,
          46.56692886352539
         ],
         "z": [
          6.3707122802734375,
          -41.13993453979492,
          33.814029693603516,
          40.69597244262695,
          -34.000614166259766,
          -47.458045959472656,
          48.31588363647461,
          63.48219299316406,
          -53.6842041015625,
          -7.000333786010742,
          -4.430881977081299,
          12.53661823272705,
          -19.351341247558594,
          13.852466583251953,
          -27.77906036376953,
          61.7285041809082,
          56.9029655456543,
          -12.148001670837402,
          -32.70001983642578,
          56.40180587768555,
          62.891658782958984,
          -50.12976837158203,
          22.36459732055664,
          34.30127716064453,
          22.742549896240234,
          40.61050796508789,
          -30.4426326751709,
          -59.76468276977539,
          -43.12091827392578,
          52.08002471923828,
          -4.019615650177002
         ]
        },
        {
         "customdata": [
          [
           39,
           80,
           48,
           52,
           36,
           68,
           "North America"
          ],
          [
           66,
           19,
           94,
           40,
           20,
           89,
           "North America"
          ],
          [
           81,
           30,
           82,
           69,
           24,
           97,
           "North America"
          ],
          [
           47,
           16,
           55,
           58,
           13,
           80,
           "North America"
          ],
          [
           40,
           91,
           46,
           62,
           26,
           68,
           "North America"
          ]
         ],
         "hovertemplate": "<b>%{hovertext}</b><br><br>z=%{z}<br>Power distance=%{customdata[0]}<br>Individualism=%{customdata[1]}<br>Uncertainty avoidance=%{customdata[2]}<br>Masculinity=%{customdata[3]}<br>Short-term orientation=%{customdata[4]}<br>Indulgence=%{customdata[5]}<extra></extra>",
         "hovertext": [
          "Canada",
          "El Salvador",
          "Mexico",
          "Trinidad and Tobago",
          "USA"
         ],
         "legendgroup": "North America",
         "marker": {
          "color": "#19d3f3",
          "size": 12,
          "symbol": "circle"
         },
         "mode": "markers",
         "name": "North America",
         "scene": "scene",
         "showlegend": true,
         "type": "scatter3d",
         "x": [
          -40.625205993652344,
          -39.07322311401367,
          -22.52346420288086,
          -6.1616106033325195,
          -29.453649520874023
         ],
         "y": [
          29.89139747619629,
          -36.23480224609375,
          17.23667335510254,
          -34.614601135253906,
          29.911516189575195
         ],
         "z": [
          -0.30309417843818665,
          7.259995460510254,
          -26.25214385986328,
          97.87770080566406,
          -4.948974132537842
         ]
        }
       ],
       "layout": {
        "hoverlabel": {
         "bgcolor": "white",
         "font": {
          "family": "open-sans",
          "size": 16
         }
        },
        "legend": {
         "title": {
          "text": "Continent"
         },
         "tracegroupgap": 0
        },
        "margin": {
         "t": 60
        },
        "scene": {
         "domain": {
          "x": [
           0,
           1
          ],
          "y": [
           0,
           1
          ]
         },
         "xaxis": {
          "title": {
           "text": "x"
          }
         },
         "yaxis": {
          "title": {
           "text": "y"
          }
         },
         "zaxis": {
          "title": {
           "text": "z"
          }
         }
        },
        "template": {
         "data": {
          "bar": [
           {
            "error_x": {
             "color": "#2a3f5f"
            },
            "error_y": {
             "color": "#2a3f5f"
            },
            "marker": {
             "line": {
              "color": "#E5ECF6",
              "width": 0.5
             },
             "pattern": {
              "fillmode": "overlay",
              "size": 10,
              "solidity": 0.2
             }
            },
            "type": "bar"
           }
          ],
          "barpolar": [
           {
            "marker": {
             "line": {
              "color": "#E5ECF6",
              "width": 0.5
             },
             "pattern": {
              "fillmode": "overlay",
              "size": 10,
              "solidity": 0.2
             }
            },
            "type": "barpolar"
           }
          ],
          "carpet": [
           {
            "aaxis": {
             "endlinecolor": "#2a3f5f",
             "gridcolor": "white",
             "linecolor": "white",
             "minorgridcolor": "white",
             "startlinecolor": "#2a3f5f"
            },
            "baxis": {
             "endlinecolor": "#2a3f5f",
             "gridcolor": "white",
             "linecolor": "white",
             "minorgridcolor": "white",
             "startlinecolor": "#2a3f5f"
            },
            "type": "carpet"
           }
          ],
          "choropleth": [
           {
            "colorbar": {
             "outlinewidth": 0,
             "ticks": ""
            },
            "type": "choropleth"
           }
          ],
          "contour": [
           {
            "colorbar": {
             "outlinewidth": 0,
             "ticks": ""
            },
            "colorscale": [
             [
              0,
              "#0d0887"
             ],
             [
              0.1111111111111111,
              "#46039f"
             ],
             [
              0.2222222222222222,
              "#7201a8"
             ],
             [
              0.3333333333333333,
              "#9c179e"
             ],
             [
              0.4444444444444444,
              "#bd3786"
             ],
             [
              0.5555555555555556,
              "#d8576b"
             ],
             [
              0.6666666666666666,
              "#ed7953"
             ],
             [
              0.7777777777777778,
              "#fb9f3a"
             ],
             [
              0.8888888888888888,
              "#fdca26"
             ],
             [
              1,
              "#f0f921"
             ]
            ],
            "type": "contour"
           }
          ],
          "contourcarpet": [
           {
            "colorbar": {
             "outlinewidth": 0,
             "ticks": ""
            },
            "type": "contourcarpet"
           }
          ],
          "heatmap": [
           {
            "colorbar": {
             "outlinewidth": 0,
             "ticks": ""
            },
            "colorscale": [
             [
              0,
              "#0d0887"
             ],
             [
              0.1111111111111111,
              "#46039f"
             ],
             [
              0.2222222222222222,
              "#7201a8"
             ],
             [
              0.3333333333333333,
              "#9c179e"
             ],
             [
              0.4444444444444444,
              "#bd3786"
             ],
             [
              0.5555555555555556,
              "#d8576b"
             ],
             [
              0.6666666666666666,
              "#ed7953"
             ],
             [
              0.7777777777777778,
              "#fb9f3a"
             ],
             [
              0.8888888888888888,
              "#fdca26"
             ],
             [
              1,
              "#f0f921"
             ]
            ],
            "type": "heatmap"
           }
          ],
          "heatmapgl": [
           {
            "colorbar": {
             "outlinewidth": 0,
             "ticks": ""
            },
            "colorscale": [
             [
              0,
              "#0d0887"
             ],
             [
              0.1111111111111111,
              "#46039f"
             ],
             [
              0.2222222222222222,
              "#7201a8"
             ],
             [
              0.3333333333333333,
              "#9c179e"
             ],
             [
              0.4444444444444444,
              "#bd3786"
             ],
             [
              0.5555555555555556,
              "#d8576b"
             ],
             [
              0.6666666666666666,
              "#ed7953"
             ],
             [
              0.7777777777777778,
              "#fb9f3a"
             ],
             [
              0.8888888888888888,
              "#fdca26"
             ],
             [
              1,
              "#f0f921"
             ]
            ],
            "type": "heatmapgl"
           }
          ],
          "histogram": [
           {
            "marker": {
             "pattern": {
              "fillmode": "overlay",
              "size": 10,
              "solidity": 0.2
             }
            },
            "type": "histogram"
           }
          ],
          "histogram2d": [
           {
            "colorbar": {
             "outlinewidth": 0,
             "ticks": ""
            },
            "colorscale": [
             [
              0,
              "#0d0887"
             ],
             [
              0.1111111111111111,
              "#46039f"
             ],
             [
              0.2222222222222222,
              "#7201a8"
             ],
             [
              0.3333333333333333,
              "#9c179e"
             ],
             [
              0.4444444444444444,
              "#bd3786"
             ],
             [
              0.5555555555555556,
              "#d8576b"
             ],
             [
              0.6666666666666666,
              "#ed7953"
             ],
             [
              0.7777777777777778,
              "#fb9f3a"
             ],
             [
              0.8888888888888888,
              "#fdca26"
             ],
             [
              1,
              "#f0f921"
             ]
            ],
            "type": "histogram2d"
           }
          ],
          "histogram2dcontour": [
           {
            "colorbar": {
             "outlinewidth": 0,
             "ticks": ""
            },
            "colorscale": [
             [
              0,
              "#0d0887"
             ],
             [
              0.1111111111111111,
              "#46039f"
             ],
             [
              0.2222222222222222,
              "#7201a8"
             ],
             [
              0.3333333333333333,
              "#9c179e"
             ],
             [
              0.4444444444444444,
              "#bd3786"
             ],
             [
              0.5555555555555556,
              "#d8576b"
             ],
             [
              0.6666666666666666,
              "#ed7953"
             ],
             [
              0.7777777777777778,
              "#fb9f3a"
             ],
             [
              0.8888888888888888,
              "#fdca26"
             ],
             [
              1,
              "#f0f921"
             ]
            ],
            "type": "histogram2dcontour"
           }
          ],
          "mesh3d": [
           {
            "colorbar": {
             "outlinewidth": 0,
             "ticks": ""
            },
            "type": "mesh3d"
           }
          ],
          "parcoords": [
           {
            "line": {
             "colorbar": {
              "outlinewidth": 0,
              "ticks": ""
             }
            },
            "type": "parcoords"
           }
          ],
          "pie": [
           {
            "automargin": true,
            "type": "pie"
           }
          ],
          "scatter": [
           {
            "fillpattern": {
             "fillmode": "overlay",
             "size": 10,
             "solidity": 0.2
            },
            "type": "scatter"
           }
          ],
          "scatter3d": [
           {
            "line": {
             "colorbar": {
              "outlinewidth": 0,
              "ticks": ""
             }
            },
            "marker": {
             "colorbar": {
              "outlinewidth": 0,
              "ticks": ""
             }
            },
            "type": "scatter3d"
           }
          ],
          "scattercarpet": [
           {
            "marker": {
             "colorbar": {
              "outlinewidth": 0,
              "ticks": ""
             }
            },
            "type": "scattercarpet"
           }
          ],
          "scattergeo": [
           {
            "marker": {
             "colorbar": {
              "outlinewidth": 0,
              "ticks": ""
             }
            },
            "type": "scattergeo"
           }
          ],
          "scattergl": [
           {
            "marker": {
             "colorbar": {
              "outlinewidth": 0,
              "ticks": ""
             }
            },
            "type": "scattergl"
           }
          ],
          "scattermapbox": [
           {
            "marker": {
             "colorbar": {
              "outlinewidth": 0,
              "ticks": ""
             }
            },
            "type": "scattermapbox"
           }
          ],
          "scatterpolar": [
           {
            "marker": {
             "colorbar": {
              "outlinewidth": 0,
              "ticks": ""
             }
            },
            "type": "scatterpolar"
           }
          ],
          "scatterpolargl": [
           {
            "marker": {
             "colorbar": {
              "outlinewidth": 0,
              "ticks": ""
             }
            },
            "type": "scatterpolargl"
           }
          ],
          "scatterternary": [
           {
            "marker": {
             "colorbar": {
              "outlinewidth": 0,
              "ticks": ""
             }
            },
            "type": "scatterternary"
           }
          ],
          "surface": [
           {
            "colorbar": {
             "outlinewidth": 0,
             "ticks": ""
            },
            "colorscale": [
             [
              0,
              "#0d0887"
             ],
             [
              0.1111111111111111,
              "#46039f"
             ],
             [
              0.2222222222222222,
              "#7201a8"
             ],
             [
              0.3333333333333333,
              "#9c179e"
             ],
             [
              0.4444444444444444,
              "#bd3786"
             ],
             [
              0.5555555555555556,
              "#d8576b"
             ],
             [
              0.6666666666666666,
              "#ed7953"
             ],
             [
              0.7777777777777778,
              "#fb9f3a"
             ],
             [
              0.8888888888888888,
              "#fdca26"
             ],
             [
              1,
              "#f0f921"
             ]
            ],
            "type": "surface"
           }
          ],
          "table": [
           {
            "cells": {
             "fill": {
              "color": "#EBF0F8"
             },
             "line": {
              "color": "white"
             }
            },
            "header": {
             "fill": {
              "color": "#C8D4E3"
             },
             "line": {
              "color": "white"
             }
            },
            "type": "table"
           }
          ]
         },
         "layout": {
          "annotationdefaults": {
           "arrowcolor": "#2a3f5f",
           "arrowhead": 0,
           "arrowwidth": 1
          },
          "autotypenumbers": "strict",
          "coloraxis": {
           "colorbar": {
            "outlinewidth": 0,
            "ticks": ""
           }
          },
          "colorscale": {
           "diverging": [
            [
             0,
             "#8e0152"
            ],
            [
             0.1,
             "#c51b7d"
            ],
            [
             0.2,
             "#de77ae"
            ],
            [
             0.3,
             "#f1b6da"
            ],
            [
             0.4,
             "#fde0ef"
            ],
            [
             0.5,
             "#f7f7f7"
            ],
            [
             0.6,
             "#e6f5d0"
            ],
            [
             0.7,
             "#b8e186"
            ],
            [
             0.8,
             "#7fbc41"
            ],
            [
             0.9,
             "#4d9221"
            ],
            [
             1,
             "#276419"
            ]
           ],
           "sequential": [
            [
             0,
             "#0d0887"
            ],
            [
             0.1111111111111111,
             "#46039f"
            ],
            [
             0.2222222222222222,
             "#7201a8"
            ],
            [
             0.3333333333333333,
             "#9c179e"
            ],
            [
             0.4444444444444444,
             "#bd3786"
            ],
            [
             0.5555555555555556,
             "#d8576b"
            ],
            [
             0.6666666666666666,
             "#ed7953"
            ],
            [
             0.7777777777777778,
             "#fb9f3a"
            ],
            [
             0.8888888888888888,
             "#fdca26"
            ],
            [
             1,
             "#f0f921"
            ]
           ],
           "sequentialminus": [
            [
             0,
             "#0d0887"
            ],
            [
             0.1111111111111111,
             "#46039f"
            ],
            [
             0.2222222222222222,
             "#7201a8"
            ],
            [
             0.3333333333333333,
             "#9c179e"
            ],
            [
             0.4444444444444444,
             "#bd3786"
            ],
            [
             0.5555555555555556,
             "#d8576b"
            ],
            [
             0.6666666666666666,
             "#ed7953"
            ],
            [
             0.7777777777777778,
             "#fb9f3a"
            ],
            [
             0.8888888888888888,
             "#fdca26"
            ],
            [
             1,
             "#f0f921"
            ]
           ]
          },
          "colorway": [
           "#636efa",
           "#EF553B",
           "#00cc96",
           "#ab63fa",
           "#FFA15A",
           "#19d3f3",
           "#FF6692",
           "#B6E880",
           "#FF97FF",
           "#FECB52"
          ],
          "font": {
           "color": "#2a3f5f"
          },
          "geo": {
           "bgcolor": "white",
           "lakecolor": "white",
           "landcolor": "#E5ECF6",
           "showlakes": true,
           "showland": true,
           "subunitcolor": "white"
          },
          "hoverlabel": {
           "align": "left"
          },
          "hovermode": "closest",
          "mapbox": {
           "style": "light"
          },
          "paper_bgcolor": "white",
          "plot_bgcolor": "#E5ECF6",
          "polar": {
           "angularaxis": {
            "gridcolor": "white",
            "linecolor": "white",
            "ticks": ""
           },
           "bgcolor": "#E5ECF6",
           "radialaxis": {
            "gridcolor": "white",
            "linecolor": "white",
            "ticks": ""
           }
          },
          "scene": {
           "xaxis": {
            "backgroundcolor": "#E5ECF6",
            "gridcolor": "white",
            "gridwidth": 2,
            "linecolor": "white",
            "showbackground": true,
            "ticks": "",
            "zerolinecolor": "white"
           },
           "yaxis": {
            "backgroundcolor": "#E5ECF6",
            "gridcolor": "white",
            "gridwidth": 2,
            "linecolor": "white",
            "showbackground": true,
            "ticks": "",
            "zerolinecolor": "white"
           },
           "zaxis": {
            "backgroundcolor": "#E5ECF6",
            "gridcolor": "white",
            "gridwidth": 2,
            "linecolor": "white",
            "showbackground": true,
            "ticks": "",
            "zerolinecolor": "white"
           }
          },
          "shapedefaults": {
           "line": {
            "color": "#2a3f5f"
           }
          },
          "ternary": {
           "aaxis": {
            "gridcolor": "white",
            "linecolor": "white",
            "ticks": ""
           },
           "baxis": {
            "gridcolor": "white",
            "linecolor": "white",
            "ticks": ""
           },
           "bgcolor": "#E5ECF6",
           "caxis": {
            "gridcolor": "white",
            "linecolor": "white",
            "ticks": ""
           }
          },
          "title": {
           "x": 0.05
          },
          "xaxis": {
           "automargin": true,
           "gridcolor": "white",
           "linecolor": "white",
           "ticks": "",
           "title": {
            "standoff": 15
           },
           "zerolinecolor": "white",
           "zerolinewidth": 2
          },
          "yaxis": {
           "automargin": true,
           "gridcolor": "white",
           "linecolor": "white",
           "ticks": "",
           "title": {
            "standoff": 15
           },
           "zerolinecolor": "white",
           "zerolinewidth": 2
          }
         }
        }
       }
      },
      "text/html": [
       "<div>                            <div id=\"4ec43624-dc63-4a8e-b8aa-e66344793736\" class=\"plotly-graph-div\" style=\"height:525px; width:100%;\"></div>            <script type=\"text/javascript\">                require([\"plotly\"], function(Plotly) {                    window.PLOTLYENV=window.PLOTLYENV || {};                                    if (document.getElementById(\"4ec43624-dc63-4a8e-b8aa-e66344793736\")) {                    Plotly.newPlot(                        \"4ec43624-dc63-4a8e-b8aa-e66344793736\",                        [{\"customdata\":[[64.0,27.0,52.0,41.0,32.0,40.0,\"Africa\"],[77.0,20.0,54.0,46.0,9.0,78.0,\"Africa\"],[70.0,46.0,68.0,53.0,14.0,25.0,\"Africa\"]],\"hovertemplate\":\"<b>%{hovertext}</b><br><br>z=%{z}<br>Power distance=%{customdata[0]}<br>Individualism=%{customdata[1]}<br>Uncertainty avoidance=%{customdata[2]}<br>Masculinity=%{customdata[3]}<br>Short-term orientation=%{customdata[4]}<br>Indulgence=%{customdata[5]}<extra></extra>\",\"hovertext\":[\"Africa East\",\"Africa West\",\"Morocco\"],\"legendgroup\":\"Africa\",\"marker\":{\"color\":\"#636efa\",\"symbol\":\"circle\",\"size\":12},\"mode\":\"markers\",\"name\":\"Africa\",\"scene\":\"scene\",\"showlegend\":true,\"x\":[-10.364916801452637,-44.8892822265625,-19.751115798950195],\"y\":[-29.555606842041016,31.670686721801758,-51.0619010925293],\"z\":[-15.882981300354004,-47.061920166015625,-29.786985397338867],\"type\":\"scatter3d\"},{\"customdata\":[[80.0,38.0,68.0,53.0,23.0,34.0,\"Asia\"],[80.0,20.0,60.0,55.0,47.0,20.0,\"Asia\"],[80.0,20.0,30.0,66.0,87.0,24.0,\"Asia\"],[68.0,25.0,29.0,57.0,61.0,17.0,\"Asia\"],[77.0,48.0,40.0,56.0,51.0,26.0,\"Asia\"],[78.0,14.0,48.0,46.0,62.0,38.0,\"Asia\"],[58.0,41.0,59.0,43.0,14.0,40.0,\"Asia\"],[54.0,46.0,92.0,95.0,88.0,42.0,\"Asia\"],[60.0,18.0,85.0,39.0,100.0,29.0,\"Asia\"],[104.0,26.0,36.0,50.0,41.0,57.0,\"Asia\"],[55.0,14.0,70.0,50.0,50.0,0.0,\"Asia\"],[94.0,32.0,44.0,64.0,27.0,42.0,\"Asia\"],[74.0,20.0,8.0,48.0,72.0,46.0,\"Asia\"],[58.0,17.0,69.0,45.0,93.0,49.0,\"Asia\"],[64.0,20.0,64.0,34.0,32.0,45.0,\"Asia\"],[66.0,37.0,85.0,45.0,46.0,49.0,\"Asia\"],[70.0,20.0,30.0,40.0,57.0,35.0,\"Asia\"]],\"hovertemplate\":\"<b>%{hovertext}</b><br><br>z=%{z}<br>Power distance=%{customdata[0]}<br>Individualism=%{customdata[1]}<br>Uncertainty avoidance=%{customdata[2]}<br>Masculinity=%{customdata[3]}<br>Short-term orientation=%{customdata[4]}<br>Indulgence=%{customdata[5]}<extra></extra>\",\"hovertext\":[\"Arab countries\",\"Bangladesh\",\"China\",\"Hong Kong\",\"India\",\"Indonesia\",\"Iran\",\"Japan\",\"South Korea\",\"Malaysia\",\"Pakistan\",\"Philippines\",\"Singapore\",\"Taiwan\",\"Thailand\",\"Turkey\",\"Vietnam\"],\"legendgroup\":\"Asia\",\"marker\":{\"color\":\"#EF553B\",\"symbol\":\"circle\",\"size\":12},\"mode\":\"markers\",\"name\":\"Asia\",\"scene\":\"scene\",\"showlegend\":true,\"x\":[-17.5029354095459,45.425926208496094,26.469032287597656,34.512882232666016,34.515846252441406,44.03620147705078,-17.884653091430664,10.569877624511719,-94.33008575439453,72.74044799804688,-7.790172576904297,72.79623413085938,46.69474792480469,64.57275390625,-8.175585746765137,1.4721370935440063,41.87675857543945],\"y\":[-60.721282958984375,-57.92094421386719,-36.3911018371582,-39.15251541137695,-30.175579071044922,-53.27535629272461,-39.72966003417969,75.08470916748047,5.135354042053223,-18.634979248046875,2.911316156387329,-16.8432674407959,-52.927032470703125,-31.377885818481445,-26.47976303100586,-2.7075982093811035,-48.70262908935547],\"z\":[-30.858320236206055,-31.44204330444336,-19.96428108215332,-10.73012924194336,-2.5895779132843018,-20.751495361328125,-25.87112045288086,-6.402847766876221,30.60869789123535,-17.86937713623047,45.46566390991211,-8.161530494689941,-0.9161974191665649,10.601042747497559,-6.758296012878418,-46.28324890136719,-11.852446556091309],\"type\":\"scatter3d\"},{\"customdata\":[[49.0,46.0,86.0,56.0,20.0,62.0,\"South America\"],[69.0,38.0,76.0,49.0,44.0,59.0,\"South America\"],[63.0,23.0,86.0,28.0,31.0,68.0,\"South America\"],[67.0,13.0,80.0,64.0,13.0,83.0,\"South America\"],[64.0,16.0,87.0,42.0,25.0,46.0,\"South America\"],[61.0,36.0,100.0,38.0,26.0,53.0,\"South America\"],[81.0,12.0,76.0,73.0,16.0,100.0,\"South America\"]],\"hovertemplate\":\"<b>%{hovertext}</b><br><br>z=%{z}<br>Power distance=%{customdata[0]}<br>Individualism=%{customdata[1]}<br>Uncertainty avoidance=%{customdata[2]}<br>Masculinity=%{customdata[3]}<br>Short-term orientation=%{customdata[4]}<br>Indulgence=%{customdata[5]}<extra></extra>\",\"hovertext\":[\"Argentina\",\"Brazil\",\"Chile\",\"Colombia\",\"Peru\",\"Uruguay\",\"Venezuela\"],\"legendgroup\":\"South America\",\"marker\":{\"color\":\"#00cc96\",\"symbol\":\"circle\",\"size\":12},\"mode\":\"markers\",\"name\":\"South America\",\"scene\":\"scene\",\"showlegend\":true,\"x\":[-19.532438278198242,-7.827010631561279,-27.918907165527344,-31.95794677734375,-10.333728790283203,-16.06566047668457,-23.562538146972656],\"y\":[-29.46007537841797,-5.533946514129639,-36.427101135253906,24.673120498657227,-29.61574935913086,-34.90291213989258,26.343273162841797],\"z\":[33.01911163330078,-44.28767395019531,14.475327491760254,-37.79278564453125,10.895139694213867,21.302913665771484,-31.014497756958008],\"type\":\"scatter3d\"},{\"customdata\":[[38.0,90.0,51.0,61.0,21.0,71.0,\"Oceania\"],[22.0,79.0,49.0,58.0,33.0,75.0,\"Oceania\"]],\"hovertemplate\":\"<b>%{hovertext}</b><br><br>z=%{z}<br>Power distance=%{customdata[0]}<br>Individualism=%{customdata[1]}<br>Uncertainty avoidance=%{customdata[2]}<br>Masculinity=%{customdata[3]}<br>Short-term orientation=%{customdata[4]}<br>Indulgence=%{customdata[5]}<extra></extra>\",\"hovertext\":[\"Australia\",\"New Zealand\"],\"legendgroup\":\"Oceania\",\"marker\":{\"color\":\"#ab63fa\",\"symbol\":\"circle\",\"size\":12},\"mode\":\"markers\",\"name\":\"Oceania\",\"scene\":\"scene\",\"showlegend\":true,\"x\":[-21.455196380615234,-39.10631561279297],\"y\":[26.93918228149414,37.67840576171875],\"z\":[0.25837960839271545,8.61199951171875],\"type\":\"scatter3d\"},{\"customdata\":[[11.0,55.0,70.0,79.0,60.0,63.0,\"Europe\"],[65.0,75.0,94.0,54.0,82.0,57.0,\"Europe\"],[70.0,30.0,85.0,40.0,69.0,16.0,\"Europe\"],[73.0,33.0,80.0,40.0,58.0,33.0,\"Europe\"],[57.0,58.0,74.0,57.0,70.0,29.0,\"Europe\"],[18.0,74.0,23.0,16.0,35.0,70.0,\"Europe\"],[40.0,60.0,60.0,30.0,82.0,16.0,\"Europe\"],[33.0,63.0,59.0,26.0,38.0,57.0,\"Europe\"],[68.0,71.0,86.0,43.0,63.0,48.0,\"Europe\"],[35.0,67.0,65.0,66.0,83.0,40.0,\"Europe\"],[35.0,89.0,35.0,66.0,51.0,69.0,\"Europe\"],[60.0,35.0,112.0,57.0,45.0,50.0,\"Europe\"],[46.0,80.0,82.0,88.0,58.0,31.0,\"Europe\"],[28.0,70.0,35.0,68.0,24.0,65.0,\"Europe\"],[50.0,76.0,75.0,70.0,61.0,30.0,\"Europe\"],[44.0,70.0,63.0,9.0,69.0,13.0,\"Europe\"],[42.0,60.0,65.0,19.0,82.0,16.0,\"Europe\"],[40.0,60.0,70.0,50.0,64.0,56.0,\"Europe\"],[56.0,59.0,96.0,47.0,47.0,66.0,\"Europe\"],[38.0,80.0,53.0,14.0,67.0,68.0,\"Europe\"],[31.0,69.0,50.0,8.0,35.0,55.0,\"Europe\"],[68.0,60.0,93.0,64.0,38.0,29.0,\"Europe\"],[63.0,27.0,104.0,31.0,28.0,33.0,\"Europe\"],[90.0,30.0,90.0,42.0,52.0,20.0,\"Europe\"],[93.0,39.0,95.0,36.0,81.0,20.0,\"Europe\"],[86.0,25.0,92.0,43.0,52.0,28.0,\"Europe\"],[104.0,52.0,51.0,110.0,77.0,28.0,\"Europe\"],[71.0,27.0,88.0,19.0,49.0,48.0,\"Europe\"],[57.0,51.0,86.0,42.0,48.0,44.0,\"Europe\"],[31.0,71.0,29.0,5.0,53.0,78.0,\"Europe\"],[34.0,68.0,58.0,70.0,74.0,66.0,\"Europe\"]],\"hovertemplate\":\"<b>%{hovertext}</b><br><br>z=%{z}<br>Power distance=%{customdata[0]}<br>Individualism=%{customdata[1]}<br>Uncertainty avoidance=%{customdata[2]}<br>Masculinity=%{customdata[3]}<br>Short-term orientation=%{customdata[4]}<br>Indulgence=%{customdata[5]}<extra></extra>\",\"hovertext\":[\"Austria\",\"Belgium\",\"Bulgaria\",\"Croatia\",\"Czech Republic\",\"Denmark\",\"Estonia\",\"Finland\",\"France\",\"Germany\",\"Great Britain\",\"Greece\",\"Hungary\",\"Ireland\",\"Italy\",\"Latvia\",\"Lithuania\",\"Luxembourg\",\"Malta\",\"Netherlands\",\"Norway\",\"Poland\",\"Portugal\",\"Romania\",\"Russia\",\"Serbia\",\"Slovak Republic\",\"Slovenia\",\"Spain\",\"Sweden\",\"Switzerland\"],\"legendgroup\":\"Europe\",\"marker\":{\"color\":\"#FFA15A\",\"symbol\":\"circle\",\"size\":12},\"mode\":\"markers\",\"name\":\"Europe\",\"scene\":\"scene\",\"showlegend\":true,\"x\":[20.794113159179688,-23.1401309967041,1.4888993501663208,4.780182838439941,23.222808837890625,61.4571418762207,-49.88774490356445,1.2186328172683716,74.12789154052734,25.34478759765625,-52.12250900268555,66.21343994140625,11.061080932617188,-31.78962516784668,15.602002143859863,-49.09552001953125,-46.37698745727539,29.031076431274414,17.289379119873047,21.6165714263916,9.898506164550781,21.88692283630371,-8.299969673156738,22.979707717895508,7.4398651123046875,17.683673858642578,22.068859100341797,1.5672285556793213,11.616244316101074,30.20332145690918,25.868209838867188],\"y\":[41.387081146240234,59.43076705932617,17.57853126525879,25.550302505493164,66.80730438232422,-13.613726615905762,-5.538243770599365,-39.22793960571289,20.46799659729004,56.51441955566406,24.89531707763672,33.80072784423828,75.47039031982422,46.032630920410156,72.6310806274414,0.12625136971473694,-9.8773832321167,39.9570198059082,4.887090682983398,-51.526187896728516,-34.87726593017578,5.653712749481201,-41.51297378540039,21.829273223876953,14.155680656433105,27.299861907958984,-30.69615936279297,-6.004312992095947,1.7904553413391113,-44.689552307128906,46.56692886352539],\"z\":[6.3707122802734375,-41.13993453979492,33.814029693603516,40.69597244262695,-34.000614166259766,-47.458045959472656,48.31588363647461,63.48219299316406,-53.6842041015625,-7.000333786010742,-4.430881977081299,12.53661823272705,-19.351341247558594,13.852466583251953,-27.77906036376953,61.7285041809082,56.9029655456543,-12.148001670837402,-32.70001983642578,56.40180587768555,62.891658782958984,-50.12976837158203,22.36459732055664,34.30127716064453,22.742549896240234,40.61050796508789,-30.4426326751709,-59.76468276977539,-43.12091827392578,52.08002471923828,-4.019615650177002],\"type\":\"scatter3d\"},{\"customdata\":[[39.0,80.0,48.0,52.0,36.0,68.0,\"North America\"],[66.0,19.0,94.0,40.0,20.0,89.0,\"North America\"],[81.0,30.0,82.0,69.0,24.0,97.0,\"North America\"],[47.0,16.0,55.0,58.0,13.0,80.0,\"North America\"],[40.0,91.0,46.0,62.0,26.0,68.0,\"North America\"]],\"hovertemplate\":\"<b>%{hovertext}</b><br><br>z=%{z}<br>Power distance=%{customdata[0]}<br>Individualism=%{customdata[1]}<br>Uncertainty avoidance=%{customdata[2]}<br>Masculinity=%{customdata[3]}<br>Short-term orientation=%{customdata[4]}<br>Indulgence=%{customdata[5]}<extra></extra>\",\"hovertext\":[\"Canada\",\"El Salvador\",\"Mexico\",\"Trinidad and Tobago\",\"USA\"],\"legendgroup\":\"North America\",\"marker\":{\"color\":\"#19d3f3\",\"symbol\":\"circle\",\"size\":12},\"mode\":\"markers\",\"name\":\"North America\",\"scene\":\"scene\",\"showlegend\":true,\"x\":[-40.625205993652344,-39.07322311401367,-22.52346420288086,-6.1616106033325195,-29.453649520874023],\"y\":[29.89139747619629,-36.23480224609375,17.23667335510254,-34.614601135253906,29.911516189575195],\"z\":[-0.30309417843818665,7.259995460510254,-26.25214385986328,97.87770080566406,-4.948974132537842],\"type\":\"scatter3d\"}],                        {\"template\":{\"data\":{\"histogram2dcontour\":[{\"type\":\"histogram2dcontour\",\"colorbar\":{\"outlinewidth\":0,\"ticks\":\"\"},\"colorscale\":[[0.0,\"#0d0887\"],[0.1111111111111111,\"#46039f\"],[0.2222222222222222,\"#7201a8\"],[0.3333333333333333,\"#9c179e\"],[0.4444444444444444,\"#bd3786\"],[0.5555555555555556,\"#d8576b\"],[0.6666666666666666,\"#ed7953\"],[0.7777777777777778,\"#fb9f3a\"],[0.8888888888888888,\"#fdca26\"],[1.0,\"#f0f921\"]]}],\"choropleth\":[{\"type\":\"choropleth\",\"colorbar\":{\"outlinewidth\":0,\"ticks\":\"\"}}],\"histogram2d\":[{\"type\":\"histogram2d\",\"colorbar\":{\"outlinewidth\":0,\"ticks\":\"\"},\"colorscale\":[[0.0,\"#0d0887\"],[0.1111111111111111,\"#46039f\"],[0.2222222222222222,\"#7201a8\"],[0.3333333333333333,\"#9c179e\"],[0.4444444444444444,\"#bd3786\"],[0.5555555555555556,\"#d8576b\"],[0.6666666666666666,\"#ed7953\"],[0.7777777777777778,\"#fb9f3a\"],[0.8888888888888888,\"#fdca26\"],[1.0,\"#f0f921\"]]}],\"heatmap\":[{\"type\":\"heatmap\",\"colorbar\":{\"outlinewidth\":0,\"ticks\":\"\"},\"colorscale\":[[0.0,\"#0d0887\"],[0.1111111111111111,\"#46039f\"],[0.2222222222222222,\"#7201a8\"],[0.3333333333333333,\"#9c179e\"],[0.4444444444444444,\"#bd3786\"],[0.5555555555555556,\"#d8576b\"],[0.6666666666666666,\"#ed7953\"],[0.7777777777777778,\"#fb9f3a\"],[0.8888888888888888,\"#fdca26\"],[1.0,\"#f0f921\"]]}],\"heatmapgl\":[{\"type\":\"heatmapgl\",\"colorbar\":{\"outlinewidth\":0,\"ticks\":\"\"},\"colorscale\":[[0.0,\"#0d0887\"],[0.1111111111111111,\"#46039f\"],[0.2222222222222222,\"#7201a8\"],[0.3333333333333333,\"#9c179e\"],[0.4444444444444444,\"#bd3786\"],[0.5555555555555556,\"#d8576b\"],[0.6666666666666666,\"#ed7953\"],[0.7777777777777778,\"#fb9f3a\"],[0.8888888888888888,\"#fdca26\"],[1.0,\"#f0f921\"]]}],\"contourcarpet\":[{\"type\":\"contourcarpet\",\"colorbar\":{\"outlinewidth\":0,\"ticks\":\"\"}}],\"contour\":[{\"type\":\"contour\",\"colorbar\":{\"outlinewidth\":0,\"ticks\":\"\"},\"colorscale\":[[0.0,\"#0d0887\"],[0.1111111111111111,\"#46039f\"],[0.2222222222222222,\"#7201a8\"],[0.3333333333333333,\"#9c179e\"],[0.4444444444444444,\"#bd3786\"],[0.5555555555555556,\"#d8576b\"],[0.6666666666666666,\"#ed7953\"],[0.7777777777777778,\"#fb9f3a\"],[0.8888888888888888,\"#fdca26\"],[1.0,\"#f0f921\"]]}],\"surface\":[{\"type\":\"surface\",\"colorbar\":{\"outlinewidth\":0,\"ticks\":\"\"},\"colorscale\":[[0.0,\"#0d0887\"],[0.1111111111111111,\"#46039f\"],[0.2222222222222222,\"#7201a8\"],[0.3333333333333333,\"#9c179e\"],[0.4444444444444444,\"#bd3786\"],[0.5555555555555556,\"#d8576b\"],[0.6666666666666666,\"#ed7953\"],[0.7777777777777778,\"#fb9f3a\"],[0.8888888888888888,\"#fdca26\"],[1.0,\"#f0f921\"]]}],\"mesh3d\":[{\"type\":\"mesh3d\",\"colorbar\":{\"outlinewidth\":0,\"ticks\":\"\"}}],\"scatter\":[{\"fillpattern\":{\"fillmode\":\"overlay\",\"size\":10,\"solidity\":0.2},\"type\":\"scatter\"}],\"parcoords\":[{\"type\":\"parcoords\",\"line\":{\"colorbar\":{\"outlinewidth\":0,\"ticks\":\"\"}}}],\"scatterpolargl\":[{\"type\":\"scatterpolargl\",\"marker\":{\"colorbar\":{\"outlinewidth\":0,\"ticks\":\"\"}}}],\"bar\":[{\"error_x\":{\"color\":\"#2a3f5f\"},\"error_y\":{\"color\":\"#2a3f5f\"},\"marker\":{\"line\":{\"color\":\"#E5ECF6\",\"width\":0.5},\"pattern\":{\"fillmode\":\"overlay\",\"size\":10,\"solidity\":0.2}},\"type\":\"bar\"}],\"scattergeo\":[{\"type\":\"scattergeo\",\"marker\":{\"colorbar\":{\"outlinewidth\":0,\"ticks\":\"\"}}}],\"scatterpolar\":[{\"type\":\"scatterpolar\",\"marker\":{\"colorbar\":{\"outlinewidth\":0,\"ticks\":\"\"}}}],\"histogram\":[{\"marker\":{\"pattern\":{\"fillmode\":\"overlay\",\"size\":10,\"solidity\":0.2}},\"type\":\"histogram\"}],\"scattergl\":[{\"type\":\"scattergl\",\"marker\":{\"colorbar\":{\"outlinewidth\":0,\"ticks\":\"\"}}}],\"scatter3d\":[{\"type\":\"scatter3d\",\"line\":{\"colorbar\":{\"outlinewidth\":0,\"ticks\":\"\"}},\"marker\":{\"colorbar\":{\"outlinewidth\":0,\"ticks\":\"\"}}}],\"scattermapbox\":[{\"type\":\"scattermapbox\",\"marker\":{\"colorbar\":{\"outlinewidth\":0,\"ticks\":\"\"}}}],\"scatterternary\":[{\"type\":\"scatterternary\",\"marker\":{\"colorbar\":{\"outlinewidth\":0,\"ticks\":\"\"}}}],\"scattercarpet\":[{\"type\":\"scattercarpet\",\"marker\":{\"colorbar\":{\"outlinewidth\":0,\"ticks\":\"\"}}}],\"carpet\":[{\"aaxis\":{\"endlinecolor\":\"#2a3f5f\",\"gridcolor\":\"white\",\"linecolor\":\"white\",\"minorgridcolor\":\"white\",\"startlinecolor\":\"#2a3f5f\"},\"baxis\":{\"endlinecolor\":\"#2a3f5f\",\"gridcolor\":\"white\",\"linecolor\":\"white\",\"minorgridcolor\":\"white\",\"startlinecolor\":\"#2a3f5f\"},\"type\":\"carpet\"}],\"table\":[{\"cells\":{\"fill\":{\"color\":\"#EBF0F8\"},\"line\":{\"color\":\"white\"}},\"header\":{\"fill\":{\"color\":\"#C8D4E3\"},\"line\":{\"color\":\"white\"}},\"type\":\"table\"}],\"barpolar\":[{\"marker\":{\"line\":{\"color\":\"#E5ECF6\",\"width\":0.5},\"pattern\":{\"fillmode\":\"overlay\",\"size\":10,\"solidity\":0.2}},\"type\":\"barpolar\"}],\"pie\":[{\"automargin\":true,\"type\":\"pie\"}]},\"layout\":{\"autotypenumbers\":\"strict\",\"colorway\":[\"#636efa\",\"#EF553B\",\"#00cc96\",\"#ab63fa\",\"#FFA15A\",\"#19d3f3\",\"#FF6692\",\"#B6E880\",\"#FF97FF\",\"#FECB52\"],\"font\":{\"color\":\"#2a3f5f\"},\"hovermode\":\"closest\",\"hoverlabel\":{\"align\":\"left\"},\"paper_bgcolor\":\"white\",\"plot_bgcolor\":\"#E5ECF6\",\"polar\":{\"bgcolor\":\"#E5ECF6\",\"angularaxis\":{\"gridcolor\":\"white\",\"linecolor\":\"white\",\"ticks\":\"\"},\"radialaxis\":{\"gridcolor\":\"white\",\"linecolor\":\"white\",\"ticks\":\"\"}},\"ternary\":{\"bgcolor\":\"#E5ECF6\",\"aaxis\":{\"gridcolor\":\"white\",\"linecolor\":\"white\",\"ticks\":\"\"},\"baxis\":{\"gridcolor\":\"white\",\"linecolor\":\"white\",\"ticks\":\"\"},\"caxis\":{\"gridcolor\":\"white\",\"linecolor\":\"white\",\"ticks\":\"\"}},\"coloraxis\":{\"colorbar\":{\"outlinewidth\":0,\"ticks\":\"\"}},\"colorscale\":{\"sequential\":[[0.0,\"#0d0887\"],[0.1111111111111111,\"#46039f\"],[0.2222222222222222,\"#7201a8\"],[0.3333333333333333,\"#9c179e\"],[0.4444444444444444,\"#bd3786\"],[0.5555555555555556,\"#d8576b\"],[0.6666666666666666,\"#ed7953\"],[0.7777777777777778,\"#fb9f3a\"],[0.8888888888888888,\"#fdca26\"],[1.0,\"#f0f921\"]],\"sequentialminus\":[[0.0,\"#0d0887\"],[0.1111111111111111,\"#46039f\"],[0.2222222222222222,\"#7201a8\"],[0.3333333333333333,\"#9c179e\"],[0.4444444444444444,\"#bd3786\"],[0.5555555555555556,\"#d8576b\"],[0.6666666666666666,\"#ed7953\"],[0.7777777777777778,\"#fb9f3a\"],[0.8888888888888888,\"#fdca26\"],[1.0,\"#f0f921\"]],\"diverging\":[[0,\"#8e0152\"],[0.1,\"#c51b7d\"],[0.2,\"#de77ae\"],[0.3,\"#f1b6da\"],[0.4,\"#fde0ef\"],[0.5,\"#f7f7f7\"],[0.6,\"#e6f5d0\"],[0.7,\"#b8e186\"],[0.8,\"#7fbc41\"],[0.9,\"#4d9221\"],[1,\"#276419\"]]},\"xaxis\":{\"gridcolor\":\"white\",\"linecolor\":\"white\",\"ticks\":\"\",\"title\":{\"standoff\":15},\"zerolinecolor\":\"white\",\"automargin\":true,\"zerolinewidth\":2},\"yaxis\":{\"gridcolor\":\"white\",\"linecolor\":\"white\",\"ticks\":\"\",\"title\":{\"standoff\":15},\"zerolinecolor\":\"white\",\"automargin\":true,\"zerolinewidth\":2},\"scene\":{\"xaxis\":{\"backgroundcolor\":\"#E5ECF6\",\"gridcolor\":\"white\",\"linecolor\":\"white\",\"showbackground\":true,\"ticks\":\"\",\"zerolinecolor\":\"white\",\"gridwidth\":2},\"yaxis\":{\"backgroundcolor\":\"#E5ECF6\",\"gridcolor\":\"white\",\"linecolor\":\"white\",\"showbackground\":true,\"ticks\":\"\",\"zerolinecolor\":\"white\",\"gridwidth\":2},\"zaxis\":{\"backgroundcolor\":\"#E5ECF6\",\"gridcolor\":\"white\",\"linecolor\":\"white\",\"showbackground\":true,\"ticks\":\"\",\"zerolinecolor\":\"white\",\"gridwidth\":2}},\"shapedefaults\":{\"line\":{\"color\":\"#2a3f5f\"}},\"annotationdefaults\":{\"arrowcolor\":\"#2a3f5f\",\"arrowhead\":0,\"arrowwidth\":1},\"geo\":{\"bgcolor\":\"white\",\"landcolor\":\"#E5ECF6\",\"subunitcolor\":\"white\",\"showland\":true,\"showlakes\":true,\"lakecolor\":\"white\"},\"title\":{\"x\":0.05},\"mapbox\":{\"style\":\"light\"}}},\"scene\":{\"domain\":{\"x\":[0.0,1.0],\"y\":[0.0,1.0]},\"xaxis\":{\"title\":{\"text\":\"x\"}},\"yaxis\":{\"title\":{\"text\":\"y\"}},\"zaxis\":{\"title\":{\"text\":\"z\"}}},\"legend\":{\"title\":{\"text\":\"Continent\"},\"tracegroupgap\":0},\"margin\":{\"t\":60},\"hoverlabel\":{\"font\":{\"size\":16,\"family\":\"open-sans\"},\"bgcolor\":\"white\"}},                        {\"responsive\": true}                    ).then(function(){\n",
       "                            \n",
       "var gd = document.getElementById('4ec43624-dc63-4a8e-b8aa-e66344793736');\n",
       "var x = new MutationObserver(function (mutations, observer) {{\n",
       "        var display = window.getComputedStyle(gd).display;\n",
       "        if (!display || display === 'none') {{\n",
       "            console.log([gd, 'removed!']);\n",
       "            Plotly.purge(gd);\n",
       "            observer.disconnect();\n",
       "        }}\n",
       "}});\n",
       "\n",
       "// Listen for the removal of the full notebook cells\n",
       "var notebookContainer = gd.closest('#notebook-container');\n",
       "if (notebookContainer) {{\n",
       "    x.observe(notebookContainer, {childList: true});\n",
       "}}\n",
       "\n",
       "// Listen for the clearing of the current output cell\n",
       "var outputEl = gd.closest('.output');\n",
       "if (outputEl) {{\n",
       "    x.observe(outputEl, {childList: true});\n",
       "}}\n",
       "\n",
       "                        })                };                });            </script>        </div>"
      ]
     },
     "metadata": {},
     "output_type": "display_data"
    }
   ],
   "source": [
    "fig.show()"
   ]
  },
  {
   "cell_type": "code",
   "execution_count": null,
   "id": "b4caecac",
   "metadata": {},
   "outputs": [],
   "source": []
  },
  {
   "cell_type": "code",
   "execution_count": null,
   "id": "23ab4b07",
   "metadata": {},
   "outputs": [],
   "source": []
  },
  {
   "cell_type": "code",
   "execution_count": null,
   "id": "643fb17b",
   "metadata": {},
   "outputs": [],
   "source": []
  },
  {
   "cell_type": "code",
   "execution_count": null,
   "id": "93c1f0cc",
   "metadata": {},
   "outputs": [],
   "source": []
  },
  {
   "cell_type": "code",
   "execution_count": null,
   "id": "f6050373",
   "metadata": {},
   "outputs": [],
   "source": []
  },
  {
   "cell_type": "code",
   "execution_count": null,
   "id": "0e4a7c35",
   "metadata": {},
   "outputs": [],
   "source": []
  },
  {
   "cell_type": "code",
   "execution_count": null,
   "id": "af2133e8",
   "metadata": {},
   "outputs": [],
   "source": []
  },
  {
   "cell_type": "code",
   "execution_count": null,
   "id": "98c3ddc8",
   "metadata": {},
   "outputs": [],
   "source": []
  },
  {
   "cell_type": "code",
   "execution_count": null,
   "id": "d661df53",
   "metadata": {},
   "outputs": [],
   "source": []
  },
  {
   "cell_type": "code",
   "execution_count": null,
   "id": "beb7a1af",
   "metadata": {},
   "outputs": [],
   "source": []
  },
  {
   "cell_type": "code",
   "execution_count": null,
   "id": "92a2cc26",
   "metadata": {},
   "outputs": [],
   "source": []
  },
  {
   "cell_type": "code",
   "execution_count": null,
   "id": "94d8b936",
   "metadata": {},
   "outputs": [],
   "source": []
  },
  {
   "cell_type": "code",
   "execution_count": null,
   "id": "c84a04de",
   "metadata": {},
   "outputs": [],
   "source": []
  },
  {
   "cell_type": "code",
   "execution_count": null,
   "id": "576f20a3",
   "metadata": {},
   "outputs": [],
   "source": []
  },
  {
   "cell_type": "code",
   "execution_count": null,
   "id": "7cadda7c",
   "metadata": {},
   "outputs": [],
   "source": []
  },
  {
   "cell_type": "code",
   "execution_count": null,
   "id": "b87faa42",
   "metadata": {},
   "outputs": [],
   "source": []
  },
  {
   "cell_type": "code",
   "execution_count": null,
   "id": "110bcfdb",
   "metadata": {},
   "outputs": [],
   "source": []
  },
  {
   "cell_type": "code",
   "execution_count": null,
   "id": "23103c5f",
   "metadata": {},
   "outputs": [],
   "source": []
  },
  {
   "cell_type": "code",
   "execution_count": null,
   "id": "9a9d9671",
   "metadata": {},
   "outputs": [],
   "source": []
  },
  {
   "cell_type": "code",
   "execution_count": null,
   "id": "2294b582",
   "metadata": {},
   "outputs": [],
   "source": []
  },
  {
   "cell_type": "code",
   "execution_count": null,
   "id": "838ad240",
   "metadata": {},
   "outputs": [],
   "source": []
  },
  {
   "cell_type": "code",
   "execution_count": null,
   "id": "7df60f41",
   "metadata": {},
   "outputs": [],
   "source": []
  }
 ],
 "metadata": {
  "kernelspec": {
   "display_name": "Python 3 (ipykernel)",
   "language": "python",
   "name": "python3"
  },
  "language_info": {
   "codemirror_mode": {
    "name": "ipython",
    "version": 3
   },
   "file_extension": ".py",
   "mimetype": "text/x-python",
   "name": "python",
   "nbconvert_exporter": "python",
   "pygments_lexer": "ipython3",
   "version": "3.9.13"
  }
 },
 "nbformat": 4,
 "nbformat_minor": 5
}
