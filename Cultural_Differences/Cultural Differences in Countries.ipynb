{
 "cells": [
  {
   "cell_type": "markdown",
   "id": "f47bd073",
   "metadata": {},
   "source": [
    "# Cultural Differences in countries based on The Hofstede model \n",
    "\n",
    "The six dimensions of national culture are based on extensive research done by Professor Geert Hofstede, Gert Jan Hofstede, Michael Minkov and their research teams. The cultural dimensions represent independent preferences for one state of affairs over another that distinguish countries (rather than individuals) from each other.\n",
    "\n",
    "More details about what these values represent:\n",
    "https://en.wikipedia.org/wiki/Hofstede%27s_cultural_dimensions_theory\n",
    "\n",
    "Source of the data:\n",
    "https://geerthofstede.com/research-and-vsm/dimension-data-matrix/"
   ]
  },
  {
   "cell_type": "markdown",
   "id": "7ff627f8",
   "metadata": {},
   "source": [
    "#### You can check out the interactive graph at\n",
    "#### https://peter-akos.github.io/Visualizations/Cultural_Differences/cultural_differences.html\n"
   ]
  },
  {
   "cell_type": "code",
   "execution_count": 27,
   "id": "6656a869",
   "metadata": {},
   "outputs": [],
   "source": [
    "import pandas as pd\n",
    "from sklearn.manifold import TSNE\n",
    "import plotly.express as px\n",
    "import pycountry_convert as pc"
   ]
  },
  {
   "cell_type": "code",
   "execution_count": 28,
   "id": "9b82df8c",
   "metadata": {},
   "outputs": [
    {
     "data": {
      "text/html": [
       "<div>\n",
       "<style scoped>\n",
       "    .dataframe tbody tr th:only-of-type {\n",
       "        vertical-align: middle;\n",
       "    }\n",
       "\n",
       "    .dataframe tbody tr th {\n",
       "        vertical-align: top;\n",
       "    }\n",
       "\n",
       "    .dataframe thead th {\n",
       "        text-align: right;\n",
       "    }\n",
       "</style>\n",
       "<table border=\"1\" class=\"dataframe\">\n",
       "  <thead>\n",
       "    <tr style=\"text-align: right;\">\n",
       "      <th></th>\n",
       "      <th>ctr</th>\n",
       "      <th>country</th>\n",
       "      <th>pdi</th>\n",
       "      <th>idv</th>\n",
       "      <th>mas</th>\n",
       "      <th>uai</th>\n",
       "      <th>ltowvs</th>\n",
       "      <th>ivr</th>\n",
       "    </tr>\n",
       "  </thead>\n",
       "  <tbody>\n",
       "    <tr>\n",
       "      <th>0</th>\n",
       "      <td>AFE</td>\n",
       "      <td>Africa East</td>\n",
       "      <td>64</td>\n",
       "      <td>27</td>\n",
       "      <td>41</td>\n",
       "      <td>52</td>\n",
       "      <td>32</td>\n",
       "      <td>40</td>\n",
       "    </tr>\n",
       "    <tr>\n",
       "      <th>1</th>\n",
       "      <td>AFW</td>\n",
       "      <td>Africa West</td>\n",
       "      <td>77</td>\n",
       "      <td>20</td>\n",
       "      <td>46</td>\n",
       "      <td>54</td>\n",
       "      <td>9</td>\n",
       "      <td>78</td>\n",
       "    </tr>\n",
       "    <tr>\n",
       "      <th>2</th>\n",
       "      <td>ALB</td>\n",
       "      <td>Albania</td>\n",
       "      <td>#NULL!</td>\n",
       "      <td>#NULL!</td>\n",
       "      <td>#NULL!</td>\n",
       "      <td>#NULL!</td>\n",
       "      <td>61</td>\n",
       "      <td>15</td>\n",
       "    </tr>\n",
       "    <tr>\n",
       "      <th>3</th>\n",
       "      <td>ALG</td>\n",
       "      <td>Algeria</td>\n",
       "      <td>#NULL!</td>\n",
       "      <td>#NULL!</td>\n",
       "      <td>#NULL!</td>\n",
       "      <td>#NULL!</td>\n",
       "      <td>26</td>\n",
       "      <td>32</td>\n",
       "    </tr>\n",
       "    <tr>\n",
       "      <th>4</th>\n",
       "      <td>AND</td>\n",
       "      <td>Andorra</td>\n",
       "      <td>#NULL!</td>\n",
       "      <td>#NULL!</td>\n",
       "      <td>#NULL!</td>\n",
       "      <td>#NULL!</td>\n",
       "      <td>#NULL!</td>\n",
       "      <td>65</td>\n",
       "    </tr>\n",
       "    <tr>\n",
       "      <th>...</th>\n",
       "      <td>...</td>\n",
       "      <td>...</td>\n",
       "      <td>...</td>\n",
       "      <td>...</td>\n",
       "      <td>...</td>\n",
       "      <td>...</td>\n",
       "      <td>...</td>\n",
       "      <td>...</td>\n",
       "    </tr>\n",
       "    <tr>\n",
       "      <th>106</th>\n",
       "      <td>URU</td>\n",
       "      <td>Uruguay</td>\n",
       "      <td>61</td>\n",
       "      <td>36</td>\n",
       "      <td>38</td>\n",
       "      <td>100</td>\n",
       "      <td>26</td>\n",
       "      <td>53</td>\n",
       "    </tr>\n",
       "    <tr>\n",
       "      <th>107</th>\n",
       "      <td>VEN</td>\n",
       "      <td>Venezuela</td>\n",
       "      <td>81</td>\n",
       "      <td>12</td>\n",
       "      <td>73</td>\n",
       "      <td>76</td>\n",
       "      <td>16</td>\n",
       "      <td>100</td>\n",
       "    </tr>\n",
       "    <tr>\n",
       "      <th>108</th>\n",
       "      <td>VIE</td>\n",
       "      <td>Vietnam</td>\n",
       "      <td>70</td>\n",
       "      <td>20</td>\n",
       "      <td>40</td>\n",
       "      <td>30</td>\n",
       "      <td>57</td>\n",
       "      <td>35</td>\n",
       "    </tr>\n",
       "    <tr>\n",
       "      <th>109</th>\n",
       "      <td>ZAM</td>\n",
       "      <td>Zambia</td>\n",
       "      <td>#NULL!</td>\n",
       "      <td>#NULL!</td>\n",
       "      <td>#NULL!</td>\n",
       "      <td>#NULL!</td>\n",
       "      <td>30</td>\n",
       "      <td>42</td>\n",
       "    </tr>\n",
       "    <tr>\n",
       "      <th>110</th>\n",
       "      <td>ZIM</td>\n",
       "      <td>Zimbabwe</td>\n",
       "      <td>#NULL!</td>\n",
       "      <td>#NULL!</td>\n",
       "      <td>#NULL!</td>\n",
       "      <td>#NULL!</td>\n",
       "      <td>15</td>\n",
       "      <td>28</td>\n",
       "    </tr>\n",
       "  </tbody>\n",
       "</table>\n",
       "<p>111 rows × 8 columns</p>\n",
       "</div>"
      ],
      "text/plain": [
       "     ctr      country     pdi     idv     mas     uai  ltowvs  ivr\n",
       "0    AFE  Africa East      64      27      41      52      32   40\n",
       "1    AFW  Africa West      77      20      46      54       9   78\n",
       "2    ALB      Albania  #NULL!  #NULL!  #NULL!  #NULL!      61   15\n",
       "3    ALG      Algeria  #NULL!  #NULL!  #NULL!  #NULL!      26   32\n",
       "4    AND      Andorra  #NULL!  #NULL!  #NULL!  #NULL!  #NULL!   65\n",
       "..   ...          ...     ...     ...     ...     ...     ...  ...\n",
       "106  URU      Uruguay      61      36      38     100      26   53\n",
       "107  VEN    Venezuela      81      12      73      76      16  100\n",
       "108  VIE      Vietnam      70      20      40      30      57   35\n",
       "109  ZAM       Zambia  #NULL!  #NULL!  #NULL!  #NULL!      30   42\n",
       "110  ZIM     Zimbabwe  #NULL!  #NULL!  #NULL!  #NULL!      15   28\n",
       "\n",
       "[111 rows x 8 columns]"
      ]
     },
     "execution_count": 28,
     "metadata": {},
     "output_type": "execute_result"
    }
   ],
   "source": [
    "df = pd.read_csv('national_culture.csv', sep=';')\n",
    "df"
   ]
  },
  {
   "cell_type": "markdown",
   "id": "e029b053",
   "metadata": {},
   "source": [
    "#### Since the data contains a lot of NULL values we need to get rid of them"
   ]
  },
  {
   "cell_type": "code",
   "execution_count": 29,
   "id": "695ae910",
   "metadata": {},
   "outputs": [],
   "source": [
    "def convert(n):\n",
    "    if n=='#NULL!':\n",
    "        return None\n",
    "    return int(n)"
   ]
  },
  {
   "cell_type": "code",
   "execution_count": 30,
   "id": "19b99172",
   "metadata": {},
   "outputs": [],
   "source": [
    "df['pdi'] = df['pdi'].apply(convert)\n",
    "df['idv'] = df['idv'].apply(convert)\n",
    "df['mas'] = df['mas'].apply(convert)\n",
    "df['uai'] = df['uai'].apply(convert)\n",
    "df['ltowvs'] = df['ltowvs'].apply(convert)\n",
    "df['ivr'] = df['ivr'].apply(convert)\n",
    "df = df.dropna()"
   ]
  },
  {
   "cell_type": "markdown",
   "id": "438d28ab",
   "metadata": {},
   "source": [
    "#### After we are done with the null values, we add the Continent for the color. To do that we'll use the pycountry package. Since our data groups together some countries, that the package will not recognize, we need to add some if statements."
   ]
  },
  {
   "cell_type": "code",
   "execution_count": 31,
   "id": "44dc5401",
   "metadata": {},
   "outputs": [],
   "source": [
    "def country_to_continent(country_name):\n",
    "    if country_name == 'Africa East' or country_name == 'Africa West':\n",
    "        return 'Africa'\n",
    "    if country_name == 'Arab countries':\n",
    "        return 'Asia'\n",
    "    \n",
    "    country_alpha2 = pc.country_name_to_country_alpha2(country_name)\n",
    "    country_continent_code = pc.country_alpha2_to_continent_code(country_alpha2)\n",
    "    country_continent_name = pc.convert_continent_code_to_continent_name(country_continent_code)\n",
    "    return country_continent_name\n",
    "df = df.replace(['Korea South'], 'South Korea')\n",
    "df = df.replace(['Czech Rep'], 'Czech Republic')\n",
    "df = df.replace(['Slovak Rep'], 'Slovak Republic')\n",
    "df = df.replace(['U.S.A.'], 'USA')\n",
    "df['Continent'] = df['country'].apply(country_to_continent)"
   ]
  },
  {
   "cell_type": "code",
   "execution_count": 32,
   "id": "0d14305f",
   "metadata": {
    "scrolled": true
   },
   "outputs": [
    {
     "data": {
      "text/html": [
       "<div>\n",
       "<style scoped>\n",
       "    .dataframe tbody tr th:only-of-type {\n",
       "        vertical-align: middle;\n",
       "    }\n",
       "\n",
       "    .dataframe tbody tr th {\n",
       "        vertical-align: top;\n",
       "    }\n",
       "\n",
       "    .dataframe thead th {\n",
       "        text-align: right;\n",
       "    }\n",
       "</style>\n",
       "<table border=\"1\" class=\"dataframe\">\n",
       "  <thead>\n",
       "    <tr style=\"text-align: right;\">\n",
       "      <th></th>\n",
       "      <th>pdi</th>\n",
       "      <th>idv</th>\n",
       "      <th>mas</th>\n",
       "      <th>uai</th>\n",
       "      <th>ltowvs</th>\n",
       "      <th>ivr</th>\n",
       "    </tr>\n",
       "  </thead>\n",
       "  <tbody>\n",
       "    <tr>\n",
       "      <th>count</th>\n",
       "      <td>65.000000</td>\n",
       "      <td>65.000000</td>\n",
       "      <td>65.00000</td>\n",
       "      <td>65.000000</td>\n",
       "      <td>65.000000</td>\n",
       "      <td>65.000000</td>\n",
       "    </tr>\n",
       "    <tr>\n",
       "      <th>mean</th>\n",
       "      <td>59.307692</td>\n",
       "      <td>44.953846</td>\n",
       "      <td>49.00000</td>\n",
       "      <td>66.538462</td>\n",
       "      <td>48.446154</td>\n",
       "      <td>47.646154</td>\n",
       "    </tr>\n",
       "    <tr>\n",
       "      <th>std</th>\n",
       "      <td>20.450339</td>\n",
       "      <td>23.466353</td>\n",
       "      <td>19.83841</td>\n",
       "      <td>22.718438</td>\n",
       "      <td>23.206297</td>\n",
       "      <td>22.251005</td>\n",
       "    </tr>\n",
       "    <tr>\n",
       "      <th>min</th>\n",
       "      <td>11.000000</td>\n",
       "      <td>12.000000</td>\n",
       "      <td>5.00000</td>\n",
       "      <td>8.000000</td>\n",
       "      <td>9.000000</td>\n",
       "      <td>0.000000</td>\n",
       "    </tr>\n",
       "    <tr>\n",
       "      <th>25%</th>\n",
       "      <td>42.000000</td>\n",
       "      <td>25.000000</td>\n",
       "      <td>40.00000</td>\n",
       "      <td>51.000000</td>\n",
       "      <td>28.000000</td>\n",
       "      <td>29.000000</td>\n",
       "    </tr>\n",
       "    <tr>\n",
       "      <th>50%</th>\n",
       "      <td>63.000000</td>\n",
       "      <td>39.000000</td>\n",
       "      <td>49.00000</td>\n",
       "      <td>68.000000</td>\n",
       "      <td>48.000000</td>\n",
       "      <td>46.000000</td>\n",
       "    </tr>\n",
       "    <tr>\n",
       "      <th>75%</th>\n",
       "      <td>71.000000</td>\n",
       "      <td>67.000000</td>\n",
       "      <td>61.00000</td>\n",
       "      <td>86.000000</td>\n",
       "      <td>64.000000</td>\n",
       "      <td>66.000000</td>\n",
       "    </tr>\n",
       "    <tr>\n",
       "      <th>max</th>\n",
       "      <td>104.000000</td>\n",
       "      <td>91.000000</td>\n",
       "      <td>110.00000</td>\n",
       "      <td>112.000000</td>\n",
       "      <td>100.000000</td>\n",
       "      <td>100.000000</td>\n",
       "    </tr>\n",
       "  </tbody>\n",
       "</table>\n",
       "</div>"
      ],
      "text/plain": [
       "              pdi        idv        mas         uai      ltowvs         ivr\n",
       "count   65.000000  65.000000   65.00000   65.000000   65.000000   65.000000\n",
       "mean    59.307692  44.953846   49.00000   66.538462   48.446154   47.646154\n",
       "std     20.450339  23.466353   19.83841   22.718438   23.206297   22.251005\n",
       "min     11.000000  12.000000    5.00000    8.000000    9.000000    0.000000\n",
       "25%     42.000000  25.000000   40.00000   51.000000   28.000000   29.000000\n",
       "50%     63.000000  39.000000   49.00000   68.000000   48.000000   46.000000\n",
       "75%     71.000000  67.000000   61.00000   86.000000   64.000000   66.000000\n",
       "max    104.000000  91.000000  110.00000  112.000000  100.000000  100.000000"
      ]
     },
     "execution_count": 32,
     "metadata": {},
     "output_type": "execute_result"
    }
   ],
   "source": [
    "df.describe()"
   ]
  },
  {
   "cell_type": "markdown",
   "id": "de276b94",
   "metadata": {},
   "source": [
    "#### Let's initialize the T-distributed Stochastic Neighbor Embedding"
   ]
  },
  {
   "cell_type": "code",
   "execution_count": 33,
   "id": "a9fa2881",
   "metadata": {},
   "outputs": [],
   "source": [
    "model = TSNE(n_components=2, learning_rate='auto', init='random', perplexity=2)"
   ]
  },
  {
   "cell_type": "code",
   "execution_count": 34,
   "id": "5e4b03b6",
   "metadata": {},
   "outputs": [],
   "source": [
    "x = df[['pdi', 'idv', 'mas', 'uai', 'ltowvs', 'ivr']].to_numpy()\n",
    "y = df['country'].to_list()\n",
    "df_dict = df.to_dict()"
   ]
  },
  {
   "cell_type": "code",
   "execution_count": 35,
   "id": "17f220ca",
   "metadata": {},
   "outputs": [],
   "source": [
    "x_embedded_2d = model.fit_transform(x)"
   ]
  },
  {
   "cell_type": "markdown",
   "id": "1c7e9d55",
   "metadata": {},
   "source": [
    "#### Now that we have the coordinates, we just have to add the culture indexes to the plot"
   ]
  },
  {
   "cell_type": "code",
   "execution_count": 36,
   "id": "4e84bcc1",
   "metadata": {},
   "outputs": [],
   "source": [
    "df_to_plot = pd.DataFrame(x_embedded_2d, columns=['x','y'])\n",
    "df_to_plot['Country'] = df_dict['country'].values()\n",
    "df_to_plot['Continent'] = df_dict['Continent'].values()\n",
    "df_to_plot['Power distance'] = df_dict['pdi'].values()\n",
    "df_to_plot['Individualism'] = df_dict['idv'].values()\n",
    "df_to_plot['Uncertainty avoidance'] = df_dict['uai'].values()\n",
    "df_to_plot['Masculinity'] = df_dict['mas'].values()\n",
    "df_to_plot['Short-term orientation'] = df_dict['ltowvs'].values()\n",
    "df_to_plot['Indulgence'] = df_dict['ivr'].values()\n"
   ]
  },
  {
   "cell_type": "code",
   "execution_count": 37,
   "id": "85a8a21f",
   "metadata": {},
   "outputs": [],
   "source": [
    "fig = px.scatter(df_to_plot, x='x', y='y',hover_name='Country', hover_data={'Power distance':True, 'Individualism':True,\n",
    "                                                       'Uncertainty avoidance':True, 'Masculinity':True, 'Short-term orientation':True,\n",
    "                                                       'Indulgence':True, 'Continent':False, 'x':False, 'y':False}, color='Continent')\n",
    "fig.update_layout(\n",
    "    hoverlabel=dict(\n",
    "        bgcolor=\"white\",\n",
    "        font_size=16,\n",
    "        font_family=\"open-sans\"\n",
    "    )\n",
    ")\n",
    "fig.update_traces(marker=dict(size=12))\n",
    "fig.write_html(\"cultural_differences_2d.html\")"
   ]
  },
  {
   "cell_type": "code",
   "execution_count": 39,
   "id": "5df4d785",
   "metadata": {},
   "outputs": [],
   "source": [
    "model = TSNE(n_components=3, learning_rate='auto', init='random', perplexity=2)"
   ]
  },
  {
   "cell_type": "code",
   "execution_count": 40,
   "id": "6960cb36",
   "metadata": {},
   "outputs": [],
   "source": [
    "x = df[['pdi', 'idv', 'mas', 'uai', 'ltowvs', 'ivr']].to_numpy()\n",
    "y = df['country'].to_list()\n",
    "df_dict = df.to_dict()"
   ]
  },
  {
   "cell_type": "code",
   "execution_count": 41,
   "id": "ed9b2380",
   "metadata": {},
   "outputs": [],
   "source": [
    "x_embedded_3d = model.fit_transform(x)"
   ]
  },
  {
   "cell_type": "markdown",
   "id": "b1203dbd",
   "metadata": {},
   "source": [
    "#### Now that we have the coordinates, we just have to add the culture indexes to the plot"
   ]
  },
  {
   "cell_type": "code",
   "execution_count": 42,
   "id": "cac933e6",
   "metadata": {},
   "outputs": [],
   "source": [
    "df_to_plot = pd.DataFrame(x_embedded_3d, columns=['x','y', 'z'])\n",
    "df_to_plot['Country'] = df_dict['country'].values()\n",
    "df_to_plot['Continent'] = df_dict['Continent'].values()\n",
    "df_to_plot['Power distance'] = df_dict['pdi'].values()\n",
    "df_to_plot['Individualism'] = df_dict['idv'].values()\n",
    "df_to_plot['Uncertainty avoidance'] = df_dict['uai'].values()\n",
    "df_to_plot['Masculinity'] = df_dict['mas'].values()\n",
    "df_to_plot['Short-term orientation'] = df_dict['ltowvs'].values()\n",
    "df_to_plot['Indulgence'] = df_dict['ivr'].values()\n"
   ]
  },
  {
   "cell_type": "code",
   "execution_count": 45,
   "id": "fca839b4",
   "metadata": {},
   "outputs": [],
   "source": [
    "fig = px.scatter_3d(df_to_plot, x='x', y='y', z='z', hover_name='Country', hover_data={'Power distance':True, 'Individualism':True,\n",
    "                                                       'Uncertainty avoidance':True, 'Masculinity':True, 'Short-term orientation':True,\n",
    "                                                       'Indulgence':True, 'Continent':False, 'x':False, 'y':False, 'z': False}, color='Continent')\n",
    "fig.update_layout(\n",
    "    hoverlabel=dict(\n",
    "        bgcolor=\"white\",\n",
    "        font_size=16,\n",
    "        font_family=\"open-sans\"\n",
    "    )\n",
    ")\n",
    "fig.update_traces(marker=dict(size=12))\n",
    "fig.write_html(\"cultural_differences_3d.html\")"
   ]
  }
 ],
 "metadata": {
  "kernelspec": {
   "display_name": "Python 3 (ipykernel)",
   "language": "python",
   "name": "python3"
  },
  "language_info": {
   "codemirror_mode": {
    "name": "ipython",
    "version": 3
   },
   "file_extension": ".py",
   "mimetype": "text/x-python",
   "name": "python",
   "nbconvert_exporter": "python",
   "pygments_lexer": "ipython3",
   "version": "3.9.13"
  }
 },
 "nbformat": 4,
 "nbformat_minor": 5
}
